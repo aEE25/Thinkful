{
 "cells": [
  {
   "cell_type": "markdown",
   "metadata": {},
   "source": [
    "## Assignment\n",
    "Your goal is to achieve a model with a consistent R2 and only statistically significant parameters across multiple samples.\n",
    "\n",
    "We'll use the property crime model based on the FBI:UCR data. Since your model formulation to date has used the entire New York State 2013 dataset, you'll need to validate it using some of the other crime datasets available at the FBI:UCR website. Options include other states crime rates in 2013 or crime rates in New York State in other years or a combination of these.\n",
    "\n",
    "Based on the results of your validation test, create a revised model, and then test both old and new models on a new holdout or set of folds."
   ]
  },
  {
   "cell_type": "code",
   "execution_count": 1,
   "metadata": {},
   "outputs": [],
   "source": [
    "import math\n",
    "\n",
    "from matplotlib import pyplot as plt\n",
    "import numpy as np\n",
    "import pandas as pd\n",
    "import seaborn as sns\n",
    "from sklearn import linear_model\n",
    "from sklearn.model_selection import cross_val_score\n",
    "from sklearn.model_selection import train_test_split\n",
    "import statsmodels.formula.api as smf\n",
    "from statsmodels.sandbox.regression.predstd import wls_prediction_std\n",
    "\n",
    "%matplotlib inline\n",
    "sns.set_style('white')"
   ]
  },
  {
   "cell_type": "code",
   "execution_count": 2,
   "metadata": {},
   "outputs": [],
   "source": [
    "NY2013 = pd.read_excel('/Users/marenbeckman/Desktop/Data_Science/FBI/new_york_by_city_2013.xls')"
   ]
  },
  {
   "cell_type": "code",
   "execution_count": 3,
   "metadata": {},
   "outputs": [
    {
     "data": {
      "text/html": [
       "<div>\n",
       "<style scoped>\n",
       "    .dataframe tbody tr th:only-of-type {\n",
       "        vertical-align: middle;\n",
       "    }\n",
       "\n",
       "    .dataframe tbody tr th {\n",
       "        vertical-align: top;\n",
       "    }\n",
       "\n",
       "    .dataframe thead th {\n",
       "        text-align: right;\n",
       "    }\n",
       "</style>\n",
       "<table border=\"1\" class=\"dataframe\">\n",
       "  <thead>\n",
       "    <tr style=\"text-align: right;\">\n",
       "      <th></th>\n",
       "      <th>City</th>\n",
       "      <th>Population</th>\n",
       "      <th>Violent\n",
       "crime</th>\n",
       "      <th>Murder and\n",
       "nonnegligent\n",
       "manslaughter</th>\n",
       "      <th>Rape\n",
       "(revised\n",
       "definition)1</th>\n",
       "      <th>Rape\n",
       "(legacy\n",
       "definition)2</th>\n",
       "      <th>Robbery</th>\n",
       "      <th>Aggravated\n",
       "assault</th>\n",
       "      <th>Property\n",
       "crime</th>\n",
       "      <th>Burglary</th>\n",
       "      <th>Larceny-\n",
       "theft</th>\n",
       "      <th>Motor\n",
       "vehicle\n",
       "theft</th>\n",
       "      <th>Arson3</th>\n",
       "    </tr>\n",
       "  </thead>\n",
       "  <tbody>\n",
       "    <tr>\n",
       "      <th>0</th>\n",
       "      <td>Adams Village</td>\n",
       "      <td>1861.0</td>\n",
       "      <td>0.0</td>\n",
       "      <td>0.0</td>\n",
       "      <td>NaN</td>\n",
       "      <td>0.0</td>\n",
       "      <td>0.0</td>\n",
       "      <td>0.0</td>\n",
       "      <td>12.0</td>\n",
       "      <td>2.0</td>\n",
       "      <td>10.0</td>\n",
       "      <td>0.0</td>\n",
       "      <td>0.0</td>\n",
       "    </tr>\n",
       "    <tr>\n",
       "      <th>1</th>\n",
       "      <td>Addison Town and Village</td>\n",
       "      <td>2577.0</td>\n",
       "      <td>3.0</td>\n",
       "      <td>0.0</td>\n",
       "      <td>NaN</td>\n",
       "      <td>0.0</td>\n",
       "      <td>0.0</td>\n",
       "      <td>3.0</td>\n",
       "      <td>24.0</td>\n",
       "      <td>3.0</td>\n",
       "      <td>20.0</td>\n",
       "      <td>1.0</td>\n",
       "      <td>0.0</td>\n",
       "    </tr>\n",
       "    <tr>\n",
       "      <th>2</th>\n",
       "      <td>Akron Village</td>\n",
       "      <td>2846.0</td>\n",
       "      <td>3.0</td>\n",
       "      <td>0.0</td>\n",
       "      <td>NaN</td>\n",
       "      <td>0.0</td>\n",
       "      <td>0.0</td>\n",
       "      <td>3.0</td>\n",
       "      <td>16.0</td>\n",
       "      <td>1.0</td>\n",
       "      <td>15.0</td>\n",
       "      <td>0.0</td>\n",
       "      <td>0.0</td>\n",
       "    </tr>\n",
       "    <tr>\n",
       "      <th>3</th>\n",
       "      <td>Albany</td>\n",
       "      <td>97956.0</td>\n",
       "      <td>791.0</td>\n",
       "      <td>8.0</td>\n",
       "      <td>NaN</td>\n",
       "      <td>30.0</td>\n",
       "      <td>227.0</td>\n",
       "      <td>526.0</td>\n",
       "      <td>4090.0</td>\n",
       "      <td>705.0</td>\n",
       "      <td>3243.0</td>\n",
       "      <td>142.0</td>\n",
       "      <td>NaN</td>\n",
       "    </tr>\n",
       "    <tr>\n",
       "      <th>4</th>\n",
       "      <td>Albion Village</td>\n",
       "      <td>6388.0</td>\n",
       "      <td>23.0</td>\n",
       "      <td>0.0</td>\n",
       "      <td>NaN</td>\n",
       "      <td>3.0</td>\n",
       "      <td>4.0</td>\n",
       "      <td>16.0</td>\n",
       "      <td>223.0</td>\n",
       "      <td>53.0</td>\n",
       "      <td>165.0</td>\n",
       "      <td>5.0</td>\n",
       "      <td>NaN</td>\n",
       "    </tr>\n",
       "  </tbody>\n",
       "</table>\n",
       "</div>"
      ],
      "text/plain": [
       "                       City  Population  Violent\\ncrime  \\\n",
       "0             Adams Village      1861.0             0.0   \n",
       "1  Addison Town and Village      2577.0             3.0   \n",
       "2             Akron Village      2846.0             3.0   \n",
       "3                    Albany     97956.0           791.0   \n",
       "4            Albion Village      6388.0            23.0   \n",
       "\n",
       "   Murder and\\nnonnegligent\\nmanslaughter  Rape\\n(revised\\ndefinition)1  \\\n",
       "0                                     0.0                           NaN   \n",
       "1                                     0.0                           NaN   \n",
       "2                                     0.0                           NaN   \n",
       "3                                     8.0                           NaN   \n",
       "4                                     0.0                           NaN   \n",
       "\n",
       "   Rape\\n(legacy\\ndefinition)2  Robbery  Aggravated\\nassault  Property\\ncrime  \\\n",
       "0                          0.0      0.0                  0.0             12.0   \n",
       "1                          0.0      0.0                  3.0             24.0   \n",
       "2                          0.0      0.0                  3.0             16.0   \n",
       "3                         30.0    227.0                526.0           4090.0   \n",
       "4                          3.0      4.0                 16.0            223.0   \n",
       "\n",
       "   Burglary  Larceny-\\ntheft  Motor\\nvehicle\\ntheft  Arson3  \n",
       "0       2.0             10.0                    0.0     0.0  \n",
       "1       3.0             20.0                    1.0     0.0  \n",
       "2       1.0             15.0                    0.0     0.0  \n",
       "3     705.0           3243.0                  142.0     NaN  \n",
       "4      53.0            165.0                    5.0     NaN  "
      ]
     },
     "execution_count": 3,
     "metadata": {},
     "output_type": "execute_result"
    }
   ],
   "source": [
    "NY2013.head()"
   ]
  },
  {
   "cell_type": "code",
   "execution_count": 4,
   "metadata": {},
   "outputs": [
    {
     "data": {
      "text/plain": [
       "Index(['City', 'Population', 'Violent\\ncrime',\n",
       "       'Murder and\\nnonnegligent\\nmanslaughter',\n",
       "       'Rape\\n(revised\\ndefinition)1', 'Rape\\n(legacy\\ndefinition)2',\n",
       "       'Robbery', 'Aggravated\\nassault', 'Property\\ncrime', 'Burglary',\n",
       "       'Larceny-\\ntheft', 'Motor\\nvehicle\\ntheft', 'Arson3'],\n",
       "      dtype='object')"
      ]
     },
     "execution_count": 4,
     "metadata": {},
     "output_type": "execute_result"
    }
   ],
   "source": [
    "NY2013.columns"
   ]
  },
  {
   "cell_type": "code",
   "execution_count": 5,
   "metadata": {},
   "outputs": [],
   "source": [
    "#clean up target variable\n",
    "NY2013.rename(columns={'Property\\ncrime': 'Property_Crime'}, inplace=True)\n",
    "NY2013 = NY2013[np.isfinite(NY2013['Property_Crime'])]"
   ]
  },
  {
   "cell_type": "code",
   "execution_count": 6,
   "metadata": {},
   "outputs": [],
   "source": [
    "# Create New Features\n",
    "\n",
    "NY2013['Population_Squared'] = NY2013['Population'] * NY2013['Population']\n",
    "\n",
    "NY2013['Murder'] = 0\n",
    "NY2013.loc[NY2013['Murder and\\nnonnegligent\\nmanslaughter'] > 0, 'Murder'] = 1\n",
    "\n",
    "NY2013.rename(columns={'Robbery': 'Robberies'}, inplace=True)\n",
    "\n",
    "NY2013['Robbery'] = 0\n",
    "NY2013.loc[NY2013['Robberies'] > 0, 'Robbery'] = 1\n",
    "\n",
    "NY2013['Population_Log'] = np.log(NY2013['Population'])\n",
    "\n",
    "NY2013.rename(columns={'Larceny-\\ntheft': 'LarcenyTheft'}, inplace=True)\n",
    "\n",
    "NY2013['Larceny_Squared'] = NY2013['LarcenyTheft'] * NY2013['LarcenyTheft']"
   ]
  },
  {
   "cell_type": "code",
   "execution_count": 7,
   "metadata": {},
   "outputs": [
    {
     "data": {
      "text/plain": [
       "Index(['City', 'Population', 'Violent\\ncrime',\n",
       "       'Murder and\\nnonnegligent\\nmanslaughter',\n",
       "       'Rape\\n(revised\\ndefinition)1', 'Rape\\n(legacy\\ndefinition)2',\n",
       "       'Robberies', 'Aggravated\\nassault', 'Property_Crime', 'Burglary',\n",
       "       'LarcenyTheft', 'Motor\\nvehicle\\ntheft', 'Arson3', 'Population_Squared',\n",
       "       'Murder', 'Robbery', 'Population_Log', 'Larceny_Squared'],\n",
       "      dtype='object')"
      ]
     },
     "execution_count": 7,
     "metadata": {},
     "output_type": "execute_result"
    }
   ],
   "source": [
    "NY2013.columns"
   ]
  },
  {
   "cell_type": "code",
   "execution_count": 8,
   "metadata": {},
   "outputs": [
    {
     "name": "stdout",
     "output_type": "stream",
     "text": [
      "\n",
      "Coefficients: \n",
      " [[ 1.06190047e-03 -1.03669799e-09 -7.07896574e-01  2.52359441e+00\n",
      "  -5.61983423e+00  9.59456427e-01  5.24683538e-06  1.20813611e+00]]\n",
      "\n",
      "Intercept: \n",
      " [41.42143649]\n",
      "\n",
      "R-squared:\n",
      "0.9999981503228312\n"
     ]
    },
    {
     "name": "stderr",
     "output_type": "stream",
     "text": [
      "/Library/Frameworks/Python.framework/Versions/3.6/lib/python3.6/site-packages/scipy/linalg/basic.py:1226: RuntimeWarning: internal gelsd driver lwork query error, required iwork dimension not returned. This is likely the result of LAPACK bug 0038, fixed in LAPACK 3.2.2 (released July 21, 2010). Falling back to 'gelss' driver.\n",
      "  warnings.warn(mesg, RuntimeWarning)\n"
     ]
    }
   ],
   "source": [
    "# Instantiate and fit our model.\n",
    "regr = linear_model.LinearRegression()\n",
    "Y = NY2013['Property_Crime'].values.reshape(-1, 1)\n",
    "X = NY2013[['Population','Population_Squared','Murder', 'Robbery','Population_Log', 'LarcenyTheft', 'Larceny_Squared', 'Burglary']]\n",
    "regr.fit(X, Y)\n",
    "\n",
    "# Inspect the results.\n",
    "print('\\nCoefficients: \\n', regr.coef_)\n",
    "print('\\nIntercept: \\n', regr.intercept_)\n",
    "print('\\nR-squared:')\n",
    "print(regr.score(X, Y))"
   ]
  },
  {
   "cell_type": "code",
   "execution_count": 9,
   "metadata": {},
   "outputs": [
    {
     "name": "stdout",
     "output_type": "stream",
     "text": [
      "With 20% Holdout: -4.082891855505544\n",
      "Testing on Sample: 0.9999981503228312\n"
     ]
    }
   ],
   "source": [
    "# Use train_test_split to create holdout groups for training and test groups\n",
    "X_train, X_test, y_train, y_test = train_test_split(X, Y, test_size=0.2, random_state=20)\n",
    "print('With 20% Holdout: ' + str(regr.fit(X_train, y_train).score(X_test, y_test)))\n",
    "print('Testing on Sample: ' + str(regr.fit(X, Y).score(X, Y)))"
   ]
  },
  {
   "cell_type": "code",
   "execution_count": 10,
   "metadata": {},
   "outputs": [
    {
     "name": "stdout",
     "output_type": "stream",
     "text": [
      "Cross Validation Score: [ 0.99982943  0.99989161  0.99927154  0.99940919  0.99842846  0.99820367\n",
      " -3.3519333   0.99989521  0.999989    0.99923947]\n"
     ]
    }
   ],
   "source": [
    "#cross validation test\n",
    "print('Cross Validation Score:', cross_val_score(regr, X, Y, cv=10))"
   ]
  },
  {
   "cell_type": "markdown",
   "metadata": {},
   "source": [
    "There's clearly a problem with the model, so let's try the stats model to see what more we can learn."
   ]
  },
  {
   "cell_type": "code",
   "execution_count": 11,
   "metadata": {},
   "outputs": [
    {
     "name": "stdout",
     "output_type": "stream",
     "text": [
      "Coefficients:\n",
      " Intercept             4.142144e+01\n",
      "Population            1.061900e-03\n",
      "Population_Squared   -1.036698e-09\n",
      "Murder               -7.078966e-01\n",
      "Robbery               2.523594e+00\n",
      "Population_Log       -5.619834e+00\n",
      "LarcenyTheft          9.594564e-01\n",
      "Larceny_Squared       5.246835e-06\n",
      "Burglary              1.208136e+00\n",
      "dtype: float64\n"
     ]
    }
   ],
   "source": [
    "#model formula\n",
    "linear_formula = 'Property_Crime ~ Population+Population_Squared+Murder+Robbery+Population_Log+LarcenyTheft+Larceny_Squared+Burglary'\n",
    "\n",
    "#fit model to data\n",
    "lm = smf.ols(formula=linear_formula, data=NY2013).fit()\n",
    "\n",
    "print('Coefficients:\\n', lm.params)"
   ]
  },
  {
   "cell_type": "code",
   "execution_count": 12,
   "metadata": {},
   "outputs": [
    {
     "name": "stdout",
     "output_type": "stream",
     "text": [
      "P-Values:\n",
      " Intercept              5.041555e-08\n",
      "Population             3.337863e-45\n",
      "Population_Squared     1.492060e-18\n",
      "Murder                 7.275825e-01\n",
      "Robbery                8.974312e-02\n",
      "Population_Log         4.365269e-09\n",
      "LarcenyTheft           0.000000e+00\n",
      "Larceny_Squared        2.556663e-18\n",
      "Burglary              5.282981e-273\n",
      "dtype: float64\n"
     ]
    }
   ],
   "source": [
    "print('P-Values:\\n', lm.pvalues)"
   ]
  },
  {
   "cell_type": "markdown",
   "metadata": {},
   "source": [
    "It's looks like the presence of Murder and Robbery in a city isn't significant to Property Crime, so let's take those out."
   ]
  },
  {
   "cell_type": "code",
   "execution_count": 17,
   "metadata": {},
   "outputs": [
    {
     "name": "stdout",
     "output_type": "stream",
     "text": [
      "\n",
      "Coefficients: \n",
      " [[ 1.03875775e-03 -1.03234127e-09 -4.88760425e+00  9.60161461e-01\n",
      "   5.23316081e-06  1.20749063e+00]]\n",
      "\n",
      "Intercept: \n",
      " [36.50201656]\n",
      "\n",
      "R-squared:\n",
      "0.9999981341228144\n"
     ]
    }
   ],
   "source": [
    "# Instantiate and fit our model.\n",
    "regr = linear_model.LinearRegression()\n",
    "Y = NY2013['Property_Crime'].values.reshape(-1, 1)\n",
    "X = NY2013[['Population','Population_Squared','Population_Log', 'LarcenyTheft', 'Larceny_Squared', 'Burglary']]\n",
    "regr.fit(X, Y)\n",
    "\n",
    "# Inspect the results.\n",
    "print('\\nCoefficients: \\n', regr.coef_)\n",
    "print('\\nIntercept: \\n', regr.intercept_)\n",
    "print('\\nR-squared:')\n",
    "print(regr.score(X, Y))"
   ]
  },
  {
   "cell_type": "markdown",
   "metadata": {},
   "source": [
    "As expected, the R-squared value stays virtually the same.  So how does this new model look in holdout and cross validation tests"
   ]
  },
  {
   "cell_type": "code",
   "execution_count": 18,
   "metadata": {},
   "outputs": [
    {
     "name": "stdout",
     "output_type": "stream",
     "text": [
      "With 20% Holdout: -3.8022348641498294\n",
      "Testing on Sample: 0.9999981341228144\n",
      "\n",
      "Cross Validation Score: [ 0.99982903  0.99988945  0.9992503   0.99940372  0.99850595  0.99829542\n",
      " -3.31944354  0.9998979   0.99998821  0.99922374]\n"
     ]
    }
   ],
   "source": [
    "#holdout test\n",
    "X_train, X_test, y_train, y_test = train_test_split(X, Y, test_size=0.2, random_state=20)\n",
    "print('With 20% Holdout: ' + str(regr.fit(X_train, y_train).score(X_test, y_test)))\n",
    "print('Testing on Sample: ' + str(regr.fit(X, Y).score(X, Y)))\n",
    "\n",
    "#cross validation test\n",
    "print('\\nCross Validation Score:', cross_val_score(regr, X, Y, cv=10))"
   ]
  },
  {
   "cell_type": "code",
   "execution_count": null,
   "metadata": {},
   "outputs": [],
   "source": []
  },
  {
   "cell_type": "code",
   "execution_count": null,
   "metadata": {},
   "outputs": [],
   "source": []
  },
  {
   "cell_type": "code",
   "execution_count": null,
   "metadata": {},
   "outputs": [],
   "source": []
  },
  {
   "cell_type": "code",
   "execution_count": null,
   "metadata": {},
   "outputs": [],
   "source": []
  },
  {
   "cell_type": "code",
   "execution_count": null,
   "metadata": {},
   "outputs": [],
   "source": []
  },
  {
   "cell_type": "markdown",
   "metadata": {},
   "source": [
    "### Test with new data - New York 2014"
   ]
  },
  {
   "cell_type": "code",
   "execution_count": 13,
   "metadata": {},
   "outputs": [
    {
     "data": {
      "text/plain": [
       "Index(['City', 'Population', 'Violent\\ncrime',\n",
       "       'Murder and\\nnonnegligent\\nmanslaughter',\n",
       "       'Rape\\n(revised\\ndefinition)1', 'Rape\\n(legacy\\ndefinition)2',\n",
       "       'Robbery', 'Aggravated\\nassault', 'Property\\ncrime', 'Burglary',\n",
       "       'Larceny-\\ntheft', 'Motor\\nvehicle\\ntheft', 'Arson3'],\n",
       "      dtype='object')"
      ]
     },
     "execution_count": 13,
     "metadata": {},
     "output_type": "execute_result"
    }
   ],
   "source": [
    "NY2014 = pd.read_excel('/Users/marenbeckman/Desktop/Data_Science/FBI/New_York_by_City_2014.xls')\n",
    "NY2014.columns"
   ]
  },
  {
   "cell_type": "code",
   "execution_count": 14,
   "metadata": {},
   "outputs": [],
   "source": [
    "#clean up target variable for NY 2014\n",
    "NY2014.rename(columns={'Property\\ncrime': 'Property_Crime'}, inplace=True)\n",
    "NY2014 = NY2014[np.isfinite(NY2014['Property_Crime'])]"
   ]
  },
  {
   "cell_type": "code",
   "execution_count": 15,
   "metadata": {},
   "outputs": [],
   "source": [
    "# Create New Features for NY 2014\n",
    "\n",
    "NY2014['Population_Squared'] = NY2014['Population'] * NY2014['Population']\n",
    "\n",
    "NY2014['Murder'] = 0\n",
    "NY2014.loc[NY2014['Murder and\\nnonnegligent\\nmanslaughter'] > 0, 'Murder'] = 1\n",
    "\n",
    "NY2014.rename(columns={'Robbery': 'Robberies'}, inplace=True)\n",
    "\n",
    "NY2014['Robbery'] = 0\n",
    "NY2014.loc[NY2014['Robberies'] > 0, 'Robbery'] = 1\n",
    "\n",
    "NY2014['Population_Log'] = np.log(NY2014['Population'])\n",
    "\n",
    "NY2014.rename(columns={'Larceny-\\ntheft': 'LarcenyTheft'}, inplace=True)\n",
    "\n",
    "NY2014['Larceny_Squared'] = NY2014['LarcenyTheft'] * NY2014['LarcenyTheft']"
   ]
  },
  {
   "cell_type": "code",
   "execution_count": 33,
   "metadata": {},
   "outputs": [
    {
     "name": "stdout",
     "output_type": "stream",
     "text": [
      "\n",
      "Coefficients: \n",
      " [[ 8.58864368e-04 -9.13619870e-10 -1.03610568e+00  1.12464101e+00\n",
      "  -4.41528171e+00  9.63397986e-01  5.26730725e-06  1.25088633e+00]]\n",
      "\n",
      "Intercept: \n",
      " [32.09532396]\n",
      "\n",
      "R-squared:\n",
      "0.9999982821873484\n"
     ]
    }
   ],
   "source": [
    "# Instantiate and fit our model.\n",
    "regr = linear_model.LinearRegression()\n",
    "Y = NY2014['Property_Crime'].values.reshape(-1, 1)\n",
    "X = NY2014[['Population','Population_Squared','Murder', 'Robbery','Population_Log', 'LarcenyTheft', 'Larceny_Squared', 'Burglary']]\n",
    "regr.fit(X, Y)\n",
    "\n",
    "# Inspect the results.\n",
    "print('\\nCoefficients: \\n', regr.coef_)\n",
    "print('\\nIntercept: \\n', regr.intercept_)\n",
    "print('\\nR-squared:')\n",
    "print(regr.score(X, Y))"
   ]
  },
  {
   "cell_type": "code",
   "execution_count": null,
   "metadata": {},
   "outputs": [],
   "source": []
  },
  {
   "cell_type": "code",
   "execution_count": null,
   "metadata": {},
   "outputs": [],
   "source": []
  },
  {
   "cell_type": "markdown",
   "metadata": {},
   "source": [
    "### Test with new data - California 2013"
   ]
  },
  {
   "cell_type": "code",
   "execution_count": 19,
   "metadata": {},
   "outputs": [
    {
     "data": {
      "text/plain": [
       "Index(['City', 'Population', 'Violent\\ncrime',\n",
       "       'Murder and\\nnonnegligent\\nmanslaughter',\n",
       "       'Rape\\n(revised\\ndefinition)1', 'Rape\\n(legacy\\ndefinition)2',\n",
       "       'Robbery', 'Aggravated\\nassault', 'Property\\ncrime', 'Burglary',\n",
       "       'Larceny-\\ntheft', 'Motor\\nvehicle\\ntheft', 'Arson'],\n",
       "      dtype='object')"
      ]
     },
     "execution_count": 19,
     "metadata": {},
     "output_type": "execute_result"
    }
   ],
   "source": [
    "CA2013 = pd.read_excel('/Users/marenbeckman/Desktop/Data_Science/FBI/california_by_city_2013.xls')\n",
    "CA2013.columns"
   ]
  },
  {
   "cell_type": "code",
   "execution_count": null,
   "metadata": {},
   "outputs": [],
   "source": []
  },
  {
   "cell_type": "code",
   "execution_count": null,
   "metadata": {},
   "outputs": [],
   "source": []
  },
  {
   "cell_type": "code",
   "execution_count": null,
   "metadata": {},
   "outputs": [],
   "source": []
  },
  {
   "cell_type": "code",
   "execution_count": null,
   "metadata": {},
   "outputs": [],
   "source": []
  },
  {
   "cell_type": "code",
   "execution_count": null,
   "metadata": {},
   "outputs": [],
   "source": []
  },
  {
   "cell_type": "code",
   "execution_count": null,
   "metadata": {},
   "outputs": [],
   "source": []
  },
  {
   "cell_type": "code",
   "execution_count": null,
   "metadata": {},
   "outputs": [],
   "source": []
  }
 ],
 "metadata": {
  "kernelspec": {
   "display_name": "Python 3",
   "language": "python",
   "name": "python3"
  },
  "language_info": {
   "codemirror_mode": {
    "name": "ipython",
    "version": 3
   },
   "file_extension": ".py",
   "mimetype": "text/x-python",
   "name": "python",
   "nbconvert_exporter": "python",
   "pygments_lexer": "ipython3",
   "version": "3.6.1"
  }
 },
 "nbformat": 4,
 "nbformat_minor": 2
}
