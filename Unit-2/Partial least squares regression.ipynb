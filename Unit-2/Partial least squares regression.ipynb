{
 "cells": [
  {
   "cell_type": "markdown",
   "metadata": {},
   "source": [
    "### Partial least squares regression"
   ]
  },
  {
   "cell_type": "code",
   "execution_count": 2,
   "metadata": {},
   "outputs": [],
   "source": [
    "import math\n",
    "import warnings\n",
    "\n",
    "from matplotlib import pyplot as plt\n",
    "import numpy as np\n",
    "import pandas as pd\n",
    "import seaborn as sns\n",
    "from sklearn import linear_model\n",
    "from sklearn.cross_decomposition import PLSRegression\n",
    "\n",
    "%matplotlib inline\n",
    "sns.set_style('white')\n",
    "\n",
    "# Suppress annoying harmless error.\n",
    "warnings.filterwarnings(\n",
    "    action=\"ignore\",\n",
    "    module=\"scipy\",\n",
    "    message=\"^internal gelsd\"\n",
    ")"
   ]
  },
  {
   "cell_type": "code",
   "execution_count": 3,
   "metadata": {},
   "outputs": [
    {
     "data": {
      "image/png": "[encoded data removed]",
      "text/plain": [
       "<Figure size 864x648 with 2 Axes>"
      ]
     },
     "metadata": {},
     "output_type": "display_data"
    }
   ],
   "source": [
    "# Number of datapoints in outcome.\n",
    "n = 1000\n",
    "\n",
    "# Number of features.\n",
    "p = 10\n",
    "\n",
    "# Create random normally distributed data for parameters.\n",
    "X = np.random.normal(size=n * p).reshape((n, p))\n",
    "\n",
    "# Create normally distributed outcome related to parameters but with noise.\n",
    "y = X[:, 0] + 2 * X[:, 1] + np.random.normal(size=n * 1) + 5\n",
    "\n",
    "\n",
    "\n",
    "# Check out correlations. First column is the outcome.\n",
    "f, ax = plt.subplots(figsize=(12, 9))\n",
    "corrmat = pd.DataFrame(np.insert(X, 0, y, axis=1)).corr()\n",
    "\n",
    "# Draw the heatmap using seaborn.\n",
    "sns.heatmap(corrmat, vmax=.8, square=True)\n",
    "plt.show()"
   ]
  },
  {
   "cell_type": "code",
   "execution_count": 4,
   "metadata": {},
   "outputs": [
    {
     "name": "stdout",
     "output_type": "stream",
     "text": [
      "R-squared regression: 0.822452729298089\n",
      "R-squared PLSR: 0.8224520033683165\n"
     ]
    },
    {
     "data": {
      "image/png": "[encoded data removed]",
      "text/plain": [
       "<Figure size 432x288 with 1 Axes>"
      ]
     },
     "metadata": {},
     "output_type": "display_data"
    }
   ],
   "source": [
    "# Fit a linear model with all 10 features.\n",
    "regr = linear_model.LinearRegression()\n",
    "regr.fit(X, y)\n",
    "\n",
    "# Save predicted values.\n",
    "Y_pred = regr.predict(X)\n",
    "print('R-squared regression:', regr.score(X, y))\n",
    "\n",
    "# Fit a linear model using Partial Least Squares Regression.\n",
    "# Reduce feature space to 3 dimensions.\n",
    "pls1 = PLSRegression(n_components=3)\n",
    "\n",
    "# Reduce X to R(X) and regress on y.\n",
    "pls1.fit(X, y)\n",
    "\n",
    "# Save predicted values.\n",
    "Y_PLS_pred = pls1.predict(X)\n",
    "print('R-squared PLSR:', pls1.score(X, y))\n",
    "\n",
    "# Compare the predictions of the two models\n",
    "plt.scatter(Y_pred,Y_PLS_pred) \n",
    "plt.xlabel('Predicted by original 10 features')\n",
    "plt.ylabel('Predicted by 3 features')\n",
    "plt.title('Comparing LR and PLSR predictions')\n",
    "plt.show()"
   ]
  },
  {
   "cell_type": "markdown",
   "metadata": {},
   "source": [
    "Create new partial least square regressions with different numbers of components, then see how those changes affect the ability of your models to reproduce the predicted Y values as well as the regular linear regression. Typically, you would choose your components based on the number that gives the most consistent performance between training and test datasets.\n",
    "\n",
    "Since this data is randomly generated, you can also play with it by changing how  yy  is computed, then observing how different relationships between  yy  and  XX  play out in PLSR."
   ]
  },
  {
   "cell_type": "code",
   "execution_count": 5,
   "metadata": {},
   "outputs": [
    {
     "name": "stdout",
     "output_type": "stream",
     "text": [
      "R-squared PLSR: 0.8224527215430579\n"
     ]
    }
   ],
   "source": [
    "# PLSR with 4 dimensions\n",
    "pls1 = PLSRegression(n_components=4)\n",
    "\n",
    "# Reduce X to R(X) and regress on y.\n",
    "pls1.fit(X, y)\n",
    "\n",
    "# Save predicted values.\n",
    "Y_PLS_pred4 = pls1.predict(X)\n",
    "print('R-squared PLSR:', pls1.score(X, y))"
   ]
  },
  {
   "cell_type": "code",
   "execution_count": 6,
   "metadata": {},
   "outputs": [
    {
     "name": "stdout",
     "output_type": "stream",
     "text": [
      "R-squared PLSR: 0.8223022869982742\n"
     ]
    }
   ],
   "source": [
    "# PLSR with 2 dimensions\n",
    "pls1 = PLSRegression(n_components=2)\n",
    "\n",
    "# Reduce X to R(X) and regress on y.\n",
    "pls1.fit(X, y)\n",
    "\n",
    "# Save predicted values.\n",
    "Y_PLS_pred2 = pls1.predict(X)\n",
    "print('R-squared PLSR:', pls1.score(X, y))"
   ]
  },
  {
   "cell_type": "code",
   "execution_count": 7,
   "metadata": {},
   "outputs": [
    {
     "name": "stdout",
     "output_type": "stream",
     "text": [
      "R-squared PLSR: 0.8117846137495187\n"
     ]
    }
   ],
   "source": [
    "# PLSR with 2 dimensions\n",
    "pls1 = PLSRegression(n_components=1)\n",
    "\n",
    "# Reduce X to R(X) and regress on y.\n",
    "pls1.fit(X, y)\n",
    "\n",
    "# Save predicted values.\n",
    "Y_PLS_pred2 = pls1.predict(X)\n",
    "print('R-squared PLSR:', pls1.score(X, y))"
   ]
  },
  {
   "cell_type": "markdown",
   "metadata": {},
   "source": [
    "The R-squared regression result doesn't suffer until dropping from two to one dimension.  The heatmap shows two variables having the highest correlation to the target (Expected) variable, so it seems logical that the PSLR with two dimensions would have the best fit."
   ]
  },
  {
   "cell_type": "code",
   "execution_count": null,
   "metadata": {},
   "outputs": [],
   "source": []
  }
 ],
 "metadata": {
  "kernelspec": {
   "display_name": "Python 3",
   "language": "python",
   "name": "python3"
  },
  "language_info": {
   "codemirror_mode": {
    "name": "ipython",
    "version": 3
   },
   "file_extension": ".py",
   "mimetype": "text/x-python",
   "name": "python",
   "nbconvert_exporter": "python",
   "pygments_lexer": "ipython3",
   "version": "3.6.1"
  }
 },
 "nbformat": 4,
 "nbformat_minor": 2
}
