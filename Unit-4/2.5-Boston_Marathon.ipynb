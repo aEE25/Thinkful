{
 "cells": [
  {
   "cell_type": "markdown",
   "metadata": {},
   "source": [
    "# Boston Maraton Clustering Challenge"
   ]
  },
  {
   "cell_type": "code",
   "execution_count": 1,
   "metadata": {},
   "outputs": [],
   "source": [
    "import numpy as np\n",
    "import pandas as pd\n",
    "import scipy\n",
    "import matplotlib.pyplot as plt\n",
    "import seaborn as sns\n",
    "%matplotlib inline\n",
    "from sklearn.cluster import KMeans\n",
    "from sklearn.cluster import MiniBatchKMeans\n",
    "from sklearn.cluster import MeanShift, estimate_bandwidth\n",
    "from sklearn.cluster import SpectralClustering\n",
    "from sklearn.cluster import AffinityPropagation\n",
    "from sklearn import metrics\n",
    "from sklearn.metrics import pairwise_distances\n",
    "from sklearn.preprocessing import normalize\n",
    "from sklearn.model_selection import train_test_split\n",
    "from sklearn.decomposition import PCA\n",
    "import itertools"
   ]
  },
  {
   "cell_type": "markdown",
   "metadata": {},
   "source": [
    "## Data\n",
    "\n",
    "Dataset found at https://github.com/llimllib/bostonmarathon as collected from baa.org.  <br>\n",
    "Selected information is from 2012 for runners of the Boston Marathon"
   ]
  },
  {
   "cell_type": "code",
   "execution_count": 2,
   "metadata": {},
   "outputs": [],
   "source": [
    "# Boston Marathon data from 2012\n",
    "raw2012 = pd.read_csv('~/Desktop/Data_Science/Boston_Marathon_2012.csv')"
   ]
  },
  {
   "cell_type": "code",
   "execution_count": 3,
   "metadata": {},
   "outputs": [
    {
     "data": {
      "text/html": [
       "<div>\n",
       "<style scoped>\n",
       "    .dataframe tbody tr th:only-of-type {\n",
       "        vertical-align: middle;\n",
       "    }\n",
       "\n",
       "    .dataframe tbody tr th {\n",
       "        vertical-align: top;\n",
       "    }\n",
       "\n",
       "    .dataframe thead th {\n",
       "        text-align: right;\n",
       "    }\n",
       "</style>\n",
       "<table border=\"1\" class=\"dataframe\">\n",
       "  <thead>\n",
       "    <tr style=\"text-align: right;\">\n",
       "      <th></th>\n",
       "      <th>division</th>\n",
       "      <th>name</th>\n",
       "      <th>city</th>\n",
       "      <th>gender</th>\n",
       "      <th>age</th>\n",
       "      <th>official</th>\n",
       "      <th>bib</th>\n",
       "      <th>overall</th>\n",
       "      <th>state</th>\n",
       "      <th>genderdiv</th>\n",
       "      <th>net</th>\n",
       "      <th>country</th>\n",
       "    </tr>\n",
       "  </thead>\n",
       "  <tbody>\n",
       "    <tr>\n",
       "      <th>0</th>\n",
       "      <td>4        / 26</td>\n",
       "      <td>Soejima, Masazumi</td>\n",
       "      <td>Fukuoka City</td>\n",
       "      <td>M</td>\n",
       "      <td>41</td>\n",
       "      <td>83.45</td>\n",
       "      <td>W1</td>\n",
       "      <td>4        / 35</td>\n",
       "      <td>NaN</td>\n",
       "      <td>4        / 26</td>\n",
       "      <td>83.45</td>\n",
       "      <td>JPN</td>\n",
       "    </tr>\n",
       "    <tr>\n",
       "      <th>1</th>\n",
       "      <td>14       / 4335</td>\n",
       "      <td>Gebremariam, Gebregziabher</td>\n",
       "      <td>Tigray</td>\n",
       "      <td>M</td>\n",
       "      <td>27</td>\n",
       "      <td>142.93</td>\n",
       "      <td>2</td>\n",
       "      <td>14       / 21616</td>\n",
       "      <td>NaN</td>\n",
       "      <td>14       / 12621</td>\n",
       "      <td>142.93</td>\n",
       "      <td>ETH</td>\n",
       "    </tr>\n",
       "    <tr>\n",
       "      <th>2</th>\n",
       "      <td>6        / 26</td>\n",
       "      <td>Van Dyk, Ernst F.</td>\n",
       "      <td>Paarl</td>\n",
       "      <td>M</td>\n",
       "      <td>39</td>\n",
       "      <td>84.38</td>\n",
       "      <td>W2</td>\n",
       "      <td>6        / 35</td>\n",
       "      <td>NaN</td>\n",
       "      <td>6        / 26</td>\n",
       "      <td>84.38</td>\n",
       "      <td>RSA</td>\n",
       "    </tr>\n",
       "    <tr>\n",
       "      <th>3</th>\n",
       "      <td>2        / 26</td>\n",
       "      <td>Fearnley, Kurt H.</td>\n",
       "      <td>Hamilton</td>\n",
       "      <td>M</td>\n",
       "      <td>31</td>\n",
       "      <td>81.65</td>\n",
       "      <td>W3</td>\n",
       "      <td>2        / 35</td>\n",
       "      <td>NaN</td>\n",
       "      <td>2        / 26</td>\n",
       "      <td>81.65</td>\n",
       "      <td>AUS</td>\n",
       "    </tr>\n",
       "    <tr>\n",
       "      <th>4</th>\n",
       "      <td>3        / 26</td>\n",
       "      <td>Hokinoue, Kota</td>\n",
       "      <td>Iizuka</td>\n",
       "      <td>M</td>\n",
       "      <td>38</td>\n",
       "      <td>83.43</td>\n",
       "      <td>W4</td>\n",
       "      <td>3        / 35</td>\n",
       "      <td>NaN</td>\n",
       "      <td>3        / 26</td>\n",
       "      <td>83.43</td>\n",
       "      <td>JPN</td>\n",
       "    </tr>\n",
       "    <tr>\n",
       "      <th>5</th>\n",
       "      <td>2        / 4335</td>\n",
       "      <td>Matebo, Levy</td>\n",
       "      <td>Trans Nzoia</td>\n",
       "      <td>M</td>\n",
       "      <td>22</td>\n",
       "      <td>133.10</td>\n",
       "      <td>4</td>\n",
       "      <td>2        / 21616</td>\n",
       "      <td>NaN</td>\n",
       "      <td>2        / 12621</td>\n",
       "      <td>133.10</td>\n",
       "      <td>KEN</td>\n",
       "    </tr>\n",
       "    <tr>\n",
       "      <th>6</th>\n",
       "      <td>1        / 4599</td>\n",
       "      <td>Cherop, Sharon</td>\n",
       "      <td>Marakwet</td>\n",
       "      <td>F</td>\n",
       "      <td>28</td>\n",
       "      <td>151.83</td>\n",
       "      <td>F4</td>\n",
       "      <td>28       / 21616</td>\n",
       "      <td>NaN</td>\n",
       "      <td>1        / 8995</td>\n",
       "      <td>151.83</td>\n",
       "      <td>KEN</td>\n",
       "    </tr>\n",
       "    <tr>\n",
       "      <th>7</th>\n",
       "      <td>5        / 4335</td>\n",
       "      <td>Chebet, Wilson</td>\n",
       "      <td>Marakwet</td>\n",
       "      <td>M</td>\n",
       "      <td>26</td>\n",
       "      <td>134.93</td>\n",
       "      <td>5</td>\n",
       "      <td>5        / 21616</td>\n",
       "      <td>NaN</td>\n",
       "      <td>5        / 12621</td>\n",
       "      <td>134.93</td>\n",
       "      <td>KEN</td>\n",
       "    </tr>\n",
       "    <tr>\n",
       "      <th>8</th>\n",
       "      <td>1        / 26</td>\n",
       "      <td>Cassidy, Joshua R.</td>\n",
       "      <td>Toronto</td>\n",
       "      <td>M</td>\n",
       "      <td>27</td>\n",
       "      <td>78.42</td>\n",
       "      <td>W5</td>\n",
       "      <td>1        / 35</td>\n",
       "      <td>ON</td>\n",
       "      <td>1        / 26</td>\n",
       "      <td>78.42</td>\n",
       "      <td>CAN</td>\n",
       "    </tr>\n",
       "    <tr>\n",
       "      <th>9</th>\n",
       "      <td>5        / 26</td>\n",
       "      <td>Schabort, Krige</td>\n",
       "      <td>Cedartown</td>\n",
       "      <td>M</td>\n",
       "      <td>48</td>\n",
       "      <td>83.73</td>\n",
       "      <td>W6</td>\n",
       "      <td>5        / 35</td>\n",
       "      <td>GA</td>\n",
       "      <td>5        / 26</td>\n",
       "      <td>83.73</td>\n",
       "      <td>USA</td>\n",
       "    </tr>\n",
       "  </tbody>\n",
       "</table>\n",
       "</div>"
      ],
      "text/plain": [
       "          division                        name          city gender  age  \\\n",
       "0    4        / 26           Soejima, Masazumi  Fukuoka City      M   41   \n",
       "1  14       / 4335  Gebremariam, Gebregziabher        Tigray      M   27   \n",
       "2    6        / 26           Van Dyk, Ernst F.         Paarl      M   39   \n",
       "3    2        / 26           Fearnley, Kurt H.      Hamilton      M   31   \n",
       "4    3        / 26              Hokinoue, Kota        Iizuka      M   38   \n",
       "5  2        / 4335                Matebo, Levy   Trans Nzoia      M   22   \n",
       "6  1        / 4599              Cherop, Sharon      Marakwet      F   28   \n",
       "7  5        / 4335              Chebet, Wilson      Marakwet      M   26   \n",
       "8    1        / 26          Cassidy, Joshua R.       Toronto      M   27   \n",
       "9    5        / 26             Schabort, Krige     Cedartown      M   48   \n",
       "\n",
       "  official bib           overall state         genderdiv     net country  \n",
       "0    83.45  W1     4        / 35   NaN     4        / 26   83.45     JPN  \n",
       "1   142.93   2  14       / 21616   NaN  14       / 12621  142.93     ETH  \n",
       "2    84.38  W2     6        / 35   NaN     6        / 26   84.38     RSA  \n",
       "3    81.65  W3     2        / 35   NaN     2        / 26   81.65     AUS  \n",
       "4    83.43  W4     3        / 35   NaN     3        / 26   83.43     JPN  \n",
       "5   133.10   4  2        / 21616   NaN  2        / 12621  133.10     KEN  \n",
       "6   151.83  F4  28       / 21616   NaN   1        / 8995  151.83     KEN  \n",
       "7   134.93   5  5        / 21616   NaN  5        / 12621  134.93     KEN  \n",
       "8    78.42  W5     1        / 35    ON     1        / 26   78.42     CAN  \n",
       "9    83.73  W6     5        / 35    GA     5        / 26   83.73     USA  "
      ]
     },
     "execution_count": 3,
     "metadata": {},
     "output_type": "execute_result"
    }
   ],
   "source": [
    "raw2012.head(10)"
   ]
  },
  {
   "cell_type": "code",
   "execution_count": 4,
   "metadata": {},
   "outputs": [
    {
     "data": {
      "text/plain": [
       "(21652, 12)"
      ]
     },
     "execution_count": 4,
     "metadata": {},
     "output_type": "execute_result"
    }
   ],
   "source": [
    "raw2012.shape"
   ]
  },
  {
   "cell_type": "code",
   "execution_count": 5,
   "metadata": {},
   "outputs": [
    {
     "data": {
      "text/html": [
       "<div>\n",
       "<style scoped>\n",
       "    .dataframe tbody tr th:only-of-type {\n",
       "        vertical-align: middle;\n",
       "    }\n",
       "\n",
       "    .dataframe tbody tr th {\n",
       "        vertical-align: top;\n",
       "    }\n",
       "\n",
       "    .dataframe thead th {\n",
       "        text-align: right;\n",
       "    }\n",
       "</style>\n",
       "<table border=\"1\" class=\"dataframe\">\n",
       "  <thead>\n",
       "    <tr style=\"text-align: right;\">\n",
       "      <th></th>\n",
       "      <th>age</th>\n",
       "      <th>net</th>\n",
       "    </tr>\n",
       "  </thead>\n",
       "  <tbody>\n",
       "    <tr>\n",
       "      <th>count</th>\n",
       "      <td>21652.000000</td>\n",
       "      <td>21652.00000</td>\n",
       "    </tr>\n",
       "    <tr>\n",
       "      <th>mean</th>\n",
       "      <td>41.836135</td>\n",
       "      <td>258.64258</td>\n",
       "    </tr>\n",
       "    <tr>\n",
       "      <th>std</th>\n",
       "      <td>10.858308</td>\n",
       "      <td>49.94535</td>\n",
       "    </tr>\n",
       "    <tr>\n",
       "      <th>min</th>\n",
       "      <td>18.000000</td>\n",
       "      <td>78.42000</td>\n",
       "    </tr>\n",
       "    <tr>\n",
       "      <th>25%</th>\n",
       "      <td>33.000000</td>\n",
       "      <td>224.63000</td>\n",
       "    </tr>\n",
       "    <tr>\n",
       "      <th>50%</th>\n",
       "      <td>42.000000</td>\n",
       "      <td>251.07500</td>\n",
       "    </tr>\n",
       "    <tr>\n",
       "      <th>75%</th>\n",
       "      <td>50.000000</td>\n",
       "      <td>285.53000</td>\n",
       "    </tr>\n",
       "    <tr>\n",
       "      <th>max</th>\n",
       "      <td>83.000000</td>\n",
       "      <td>570.27000</td>\n",
       "    </tr>\n",
       "  </tbody>\n",
       "</table>\n",
       "</div>"
      ],
      "text/plain": [
       "                age          net\n",
       "count  21652.000000  21652.00000\n",
       "mean      41.836135    258.64258\n",
       "std       10.858308     49.94535\n",
       "min       18.000000     78.42000\n",
       "25%       33.000000    224.63000\n",
       "50%       42.000000    251.07500\n",
       "75%       50.000000    285.53000\n",
       "max       83.000000    570.27000"
      ]
     },
     "execution_count": 5,
     "metadata": {},
     "output_type": "execute_result"
    }
   ],
   "source": [
    "raw2012.describe()"
   ]
  },
  {
   "cell_type": "code",
   "execution_count": 6,
   "metadata": {},
   "outputs": [
    {
     "data": {
      "text/plain": [
       "-         76\n",
       "266.43    10\n",
       "239.08    10\n",
       "243.47    10\n",
       "232.00    10\n",
       "238.55    10\n",
       "248.20    10\n",
       "238.68     9\n",
       "236.23     9\n",
       "237.43     9\n",
       "275.18     9\n",
       "266.25     9\n",
       "237.90     9\n",
       "233.30     9\n",
       "260.77     9\n",
       "245.33     8\n",
       "259.55     8\n",
       "221.97     8\n",
       "259.00     8\n",
       "250.12     8\n",
       "252.07     8\n",
       "239.93     8\n",
       "232.77     8\n",
       "263.87     8\n",
       "256.00     8\n",
       "237.55     8\n",
       "274.02     8\n",
       "224.90     8\n",
       "246.92     8\n",
       "234.97     8\n",
       "          ..\n",
       "357.12     1\n",
       "194.28     1\n",
       "272.87     1\n",
       "345.82     1\n",
       "191.20     1\n",
       "225.50     1\n",
       "191.43     1\n",
       "167.93     1\n",
       "370.68     1\n",
       "191.47     1\n",
       "398.02     1\n",
       "368.77     1\n",
       "180.25     1\n",
       "169.93     1\n",
       "348.83     1\n",
       "356.83     1\n",
       "206.78     1\n",
       "360.67     1\n",
       "299.62     1\n",
       "346.90     1\n",
       "188.28     1\n",
       "300.85     1\n",
       "365.98     1\n",
       "301.52     1\n",
       "196.62     1\n",
       "284.88     1\n",
       "276.85     1\n",
       "311.48     1\n",
       "286.08     1\n",
       "331.13     1\n",
       "Name: official, Length: 9570, dtype: int64"
      ]
     },
     "execution_count": 6,
     "metadata": {},
     "output_type": "execute_result"
    }
   ],
   "source": [
    "raw2012['official'].value_counts()"
   ]
  },
  {
   "cell_type": "code",
   "execution_count": 7,
   "metadata": {},
   "outputs": [],
   "source": [
    "raw2012.loc[raw2012['official'].str.contains(\"-\"),'official'] = 0\n",
    "\n",
    "raw2012['official'] = raw2012['official'].astype(np.float64)"
   ]
  },
  {
   "cell_type": "code",
   "execution_count": 8,
   "metadata": {},
   "outputs": [],
   "source": [
    "#separate division column to two numerical columns\n",
    "raw2012['div_rank'], raw2012['div'] = raw2012['division'].str.split(' / ', 1).str\n",
    "raw2012['div_rank'] = raw2012['div_rank'].astype(np.float64)\n",
    "raw2012['div'] = raw2012['div'].astype(np.float64)"
   ]
  },
  {
   "cell_type": "code",
   "execution_count": 9,
   "metadata": {},
   "outputs": [],
   "source": [
    "#separate genderdiv column to two numerical columns\n",
    "raw2012['gender_rank'], raw2012['gender_division'] = raw2012['genderdiv'].str.split(' / ', 1).str\n",
    "raw2012['gender_rank'] = raw2012['gender_rank'].astype(np.float64)\n",
    "raw2012['gender_division'] = raw2012['gender_division'].astype(np.float64)"
   ]
  },
  {
   "cell_type": "code",
   "execution_count": 10,
   "metadata": {},
   "outputs": [
    {
     "data": {
      "text/html": [
       "<div>\n",
       "<style scoped>\n",
       "    .dataframe tbody tr th:only-of-type {\n",
       "        vertical-align: middle;\n",
       "    }\n",
       "\n",
       "    .dataframe tbody tr th {\n",
       "        vertical-align: top;\n",
       "    }\n",
       "\n",
       "    .dataframe thead th {\n",
       "        text-align: right;\n",
       "    }\n",
       "</style>\n",
       "<table border=\"1\" class=\"dataframe\">\n",
       "  <thead>\n",
       "    <tr style=\"text-align: right;\">\n",
       "      <th></th>\n",
       "      <th>age</th>\n",
       "      <th>official</th>\n",
       "      <th>net</th>\n",
       "      <th>div_rank</th>\n",
       "      <th>div</th>\n",
       "      <th>gender_rank</th>\n",
       "      <th>gender_division</th>\n",
       "    </tr>\n",
       "  </thead>\n",
       "  <tbody>\n",
       "    <tr>\n",
       "      <th>count</th>\n",
       "      <td>21652.000000</td>\n",
       "      <td>21652.000000</td>\n",
       "      <td>21652.00000</td>\n",
       "      <td>21652.000000</td>\n",
       "      <td>21652.000000</td>\n",
       "      <td>21652.000000</td>\n",
       "      <td>21652.000000</td>\n",
       "    </tr>\n",
       "    <tr>\n",
       "      <th>mean</th>\n",
       "      <td>41.836135</td>\n",
       "      <td>261.875575</td>\n",
       "      <td>258.64258</td>\n",
       "      <td>1376.575790</td>\n",
       "      <td>2752.150748</td>\n",
       "      <td>5547.342324</td>\n",
       "      <td>11093.683817</td>\n",
       "    </tr>\n",
       "    <tr>\n",
       "      <th>std</th>\n",
       "      <td>10.858308</td>\n",
       "      <td>52.641530</td>\n",
       "      <td>49.94535</td>\n",
       "      <td>1182.365162</td>\n",
       "      <td>1516.672306</td>\n",
       "      <td>3374.529805</td>\n",
       "      <td>1842.143331</td>\n",
       "    </tr>\n",
       "    <tr>\n",
       "      <th>min</th>\n",
       "      <td>18.000000</td>\n",
       "      <td>0.000000</td>\n",
       "      <td>78.42000</td>\n",
       "      <td>1.000000</td>\n",
       "      <td>1.000000</td>\n",
       "      <td>1.000000</td>\n",
       "      <td>9.000000</td>\n",
       "    </tr>\n",
       "    <tr>\n",
       "      <th>25%</th>\n",
       "      <td>33.000000</td>\n",
       "      <td>228.377500</td>\n",
       "      <td>224.63000</td>\n",
       "      <td>439.000000</td>\n",
       "      <td>1521.000000</td>\n",
       "      <td>2689.000000</td>\n",
       "      <td>8995.000000</td>\n",
       "    </tr>\n",
       "    <tr>\n",
       "      <th>50%</th>\n",
       "      <td>42.000000</td>\n",
       "      <td>255.475000</td>\n",
       "      <td>251.07500</td>\n",
       "      <td>1039.000000</td>\n",
       "      <td>2255.000000</td>\n",
       "      <td>5395.500000</td>\n",
       "      <td>12621.000000</td>\n",
       "    </tr>\n",
       "    <tr>\n",
       "      <th>75%</th>\n",
       "      <td>50.000000</td>\n",
       "      <td>290.372500</td>\n",
       "      <td>285.53000</td>\n",
       "      <td>1949.000000</td>\n",
       "      <td>4335.000000</td>\n",
       "      <td>8102.000000</td>\n",
       "      <td>12621.000000</td>\n",
       "    </tr>\n",
       "    <tr>\n",
       "      <th>max</th>\n",
       "      <td>83.000000</td>\n",
       "      <td>475.320000</td>\n",
       "      <td>570.27000</td>\n",
       "      <td>4599.000000</td>\n",
       "      <td>4599.000000</td>\n",
       "      <td>12621.000000</td>\n",
       "      <td>12621.000000</td>\n",
       "    </tr>\n",
       "  </tbody>\n",
       "</table>\n",
       "</div>"
      ],
      "text/plain": [
       "                age      official          net      div_rank           div  \\\n",
       "count  21652.000000  21652.000000  21652.00000  21652.000000  21652.000000   \n",
       "mean      41.836135    261.875575    258.64258   1376.575790   2752.150748   \n",
       "std       10.858308     52.641530     49.94535   1182.365162   1516.672306   \n",
       "min       18.000000      0.000000     78.42000      1.000000      1.000000   \n",
       "25%       33.000000    228.377500    224.63000    439.000000   1521.000000   \n",
       "50%       42.000000    255.475000    251.07500   1039.000000   2255.000000   \n",
       "75%       50.000000    290.372500    285.53000   1949.000000   4335.000000   \n",
       "max       83.000000    475.320000    570.27000   4599.000000   4599.000000   \n",
       "\n",
       "        gender_rank  gender_division  \n",
       "count  21652.000000     21652.000000  \n",
       "mean    5547.342324     11093.683817  \n",
       "std     3374.529805      1842.143331  \n",
       "min        1.000000         9.000000  \n",
       "25%     2689.000000      8995.000000  \n",
       "50%     5395.500000     12621.000000  \n",
       "75%     8102.000000     12621.000000  \n",
       "max    12621.000000     12621.000000  "
      ]
     },
     "execution_count": 10,
     "metadata": {},
     "output_type": "execute_result"
    }
   ],
   "source": [
    "raw2012.describe()"
   ]
  },
  {
   "cell_type": "code",
   "execution_count": 11,
   "metadata": {},
   "outputs": [],
   "source": [
    "boston2012 = pd.get_dummies(raw2012, columns=['gender'])"
   ]
  },
  {
   "cell_type": "code",
   "execution_count": 12,
   "metadata": {},
   "outputs": [
    {
     "data": {
      "text/html": [
       "<div>\n",
       "<style scoped>\n",
       "    .dataframe tbody tr th:only-of-type {\n",
       "        vertical-align: middle;\n",
       "    }\n",
       "\n",
       "    .dataframe tbody tr th {\n",
       "        vertical-align: top;\n",
       "    }\n",
       "\n",
       "    .dataframe thead th {\n",
       "        text-align: right;\n",
       "    }\n",
       "</style>\n",
       "<table border=\"1\" class=\"dataframe\">\n",
       "  <thead>\n",
       "    <tr style=\"text-align: right;\">\n",
       "      <th></th>\n",
       "      <th>age</th>\n",
       "      <th>official</th>\n",
       "      <th>net</th>\n",
       "      <th>div_rank</th>\n",
       "      <th>div</th>\n",
       "      <th>gender_rank</th>\n",
       "      <th>gender_division</th>\n",
       "      <th>gender_F</th>\n",
       "      <th>gender_M</th>\n",
       "    </tr>\n",
       "  </thead>\n",
       "  <tbody>\n",
       "    <tr>\n",
       "      <th>count</th>\n",
       "      <td>21652.000000</td>\n",
       "      <td>21652.000000</td>\n",
       "      <td>21652.00000</td>\n",
       "      <td>21652.000000</td>\n",
       "      <td>21652.000000</td>\n",
       "      <td>21652.000000</td>\n",
       "      <td>21652.000000</td>\n",
       "      <td>21652.000000</td>\n",
       "      <td>21652.000000</td>\n",
       "    </tr>\n",
       "    <tr>\n",
       "      <th>mean</th>\n",
       "      <td>41.836135</td>\n",
       "      <td>261.875575</td>\n",
       "      <td>258.64258</td>\n",
       "      <td>1376.575790</td>\n",
       "      <td>2752.150748</td>\n",
       "      <td>5547.342324</td>\n",
       "      <td>11093.683817</td>\n",
       "      <td>0.415851</td>\n",
       "      <td>0.584149</td>\n",
       "    </tr>\n",
       "    <tr>\n",
       "      <th>std</th>\n",
       "      <td>10.858308</td>\n",
       "      <td>52.641530</td>\n",
       "      <td>49.94535</td>\n",
       "      <td>1182.365162</td>\n",
       "      <td>1516.672306</td>\n",
       "      <td>3374.529805</td>\n",
       "      <td>1842.143331</td>\n",
       "      <td>0.492879</td>\n",
       "      <td>0.492879</td>\n",
       "    </tr>\n",
       "    <tr>\n",
       "      <th>min</th>\n",
       "      <td>18.000000</td>\n",
       "      <td>0.000000</td>\n",
       "      <td>78.42000</td>\n",
       "      <td>1.000000</td>\n",
       "      <td>1.000000</td>\n",
       "      <td>1.000000</td>\n",
       "      <td>9.000000</td>\n",
       "      <td>0.000000</td>\n",
       "      <td>0.000000</td>\n",
       "    </tr>\n",
       "    <tr>\n",
       "      <th>25%</th>\n",
       "      <td>33.000000</td>\n",
       "      <td>228.377500</td>\n",
       "      <td>224.63000</td>\n",
       "      <td>439.000000</td>\n",
       "      <td>1521.000000</td>\n",
       "      <td>2689.000000</td>\n",
       "      <td>8995.000000</td>\n",
       "      <td>0.000000</td>\n",
       "      <td>0.000000</td>\n",
       "    </tr>\n",
       "    <tr>\n",
       "      <th>50%</th>\n",
       "      <td>42.000000</td>\n",
       "      <td>255.475000</td>\n",
       "      <td>251.07500</td>\n",
       "      <td>1039.000000</td>\n",
       "      <td>2255.000000</td>\n",
       "      <td>5395.500000</td>\n",
       "      <td>12621.000000</td>\n",
       "      <td>0.000000</td>\n",
       "      <td>1.000000</td>\n",
       "    </tr>\n",
       "    <tr>\n",
       "      <th>75%</th>\n",
       "      <td>50.000000</td>\n",
       "      <td>290.372500</td>\n",
       "      <td>285.53000</td>\n",
       "      <td>1949.000000</td>\n",
       "      <td>4335.000000</td>\n",
       "      <td>8102.000000</td>\n",
       "      <td>12621.000000</td>\n",
       "      <td>1.000000</td>\n",
       "      <td>1.000000</td>\n",
       "    </tr>\n",
       "    <tr>\n",
       "      <th>max</th>\n",
       "      <td>83.000000</td>\n",
       "      <td>475.320000</td>\n",
       "      <td>570.27000</td>\n",
       "      <td>4599.000000</td>\n",
       "      <td>4599.000000</td>\n",
       "      <td>12621.000000</td>\n",
       "      <td>12621.000000</td>\n",
       "      <td>1.000000</td>\n",
       "      <td>1.000000</td>\n",
       "    </tr>\n",
       "  </tbody>\n",
       "</table>\n",
       "</div>"
      ],
      "text/plain": [
       "                age      official          net      div_rank           div  \\\n",
       "count  21652.000000  21652.000000  21652.00000  21652.000000  21652.000000   \n",
       "mean      41.836135    261.875575    258.64258   1376.575790   2752.150748   \n",
       "std       10.858308     52.641530     49.94535   1182.365162   1516.672306   \n",
       "min       18.000000      0.000000     78.42000      1.000000      1.000000   \n",
       "25%       33.000000    228.377500    224.63000    439.000000   1521.000000   \n",
       "50%       42.000000    255.475000    251.07500   1039.000000   2255.000000   \n",
       "75%       50.000000    290.372500    285.53000   1949.000000   4335.000000   \n",
       "max       83.000000    475.320000    570.27000   4599.000000   4599.000000   \n",
       "\n",
       "        gender_rank  gender_division      gender_F      gender_M  \n",
       "count  21652.000000     21652.000000  21652.000000  21652.000000  \n",
       "mean    5547.342324     11093.683817      0.415851      0.584149  \n",
       "std     3374.529805      1842.143331      0.492879      0.492879  \n",
       "min        1.000000         9.000000      0.000000      0.000000  \n",
       "25%     2689.000000      8995.000000      0.000000      0.000000  \n",
       "50%     5395.500000     12621.000000      0.000000      1.000000  \n",
       "75%     8102.000000     12621.000000      1.000000      1.000000  \n",
       "max    12621.000000     12621.000000      1.000000      1.000000  "
      ]
     },
     "execution_count": 12,
     "metadata": {},
     "output_type": "execute_result"
    }
   ],
   "source": [
    "boston2012.describe()"
   ]
  },
  {
   "cell_type": "markdown",
   "metadata": {},
   "source": [
    "### Defining Data"
   ]
  },
  {
   "cell_type": "code",
   "execution_count": 13,
   "metadata": {},
   "outputs": [
    {
     "data": {
      "text/plain": [
       "['division',\n",
       " 'name',\n",
       " 'city',\n",
       " 'age',\n",
       " 'official',\n",
       " 'bib',\n",
       " 'overall',\n",
       " 'state',\n",
       " 'genderdiv',\n",
       " 'net',\n",
       " 'country',\n",
       " 'div_rank',\n",
       " 'div',\n",
       " 'gender_rank',\n",
       " 'gender_division',\n",
       " 'gender_F',\n",
       " 'gender_M']"
      ]
     },
     "execution_count": 13,
     "metadata": {},
     "output_type": "execute_result"
    }
   ],
   "source": [
    "list(boston2012)"
   ]
  },
  {
   "cell_type": "code",
   "execution_count": 14,
   "metadata": {},
   "outputs": [],
   "source": [
    "X = boston2012.drop(['division', 'name', 'city', 'state', 'country', 'bib', 'overall', 'genderdiv',], 1)\n",
    "\n",
    "X_norm = normalize(X)"
   ]
  },
  {
   "cell_type": "markdown",
   "metadata": {},
   "source": [
    "## K-Means"
   ]
  },
  {
   "cell_type": "markdown",
   "metadata": {},
   "source": [
    "### Elbow Plot"
   ]
  },
  {
   "cell_type": "code",
   "execution_count": 15,
   "metadata": {},
   "outputs": [
    {
     "data": {
      "image/png": "[encoded data removed]",
      "text/plain": [
       "<Figure size 432x288 with 1 Axes>"
      ]
     },
     "metadata": {},
     "output_type": "display_data"
    }
   ],
   "source": [
    "# determine k using elbow method\n",
    "\n",
    "from scipy.spatial.distance import cdist\n",
    "\n",
    "# k means determine k\n",
    "distortions = []\n",
    "K = range(1,10)\n",
    "for k in K:\n",
    "    kmeanModel = KMeans(n_clusters=k).fit(X_norm)\n",
    "    kmeanModel.fit(X_norm)\n",
    "    distortions.append(sum(np.min(cdist(X_norm, kmeanModel.cluster_centers_, 'euclidean'), axis=1)) / X_norm.shape[0])\n",
    "\n",
    "# Plot the elbow\n",
    "plt.plot(K, distortions, 'bx-')\n",
    "plt.xlabel('k')\n",
    "plt.ylabel('Distortion')\n",
    "plt.title('The Elbow Method showing the optimal k')\n",
    "plt.show()"
   ]
  },
  {
   "cell_type": "markdown",
   "metadata": {},
   "source": [
    "The elbow plot of k values indicates 2 clusters,\n",
    "\n",
    "Comparing results of clustering (using default settings) with K-Mean and Mini_Batch K-Means"
   ]
  },
  {
   "cell_type": "code",
   "execution_count": 16,
   "metadata": {},
   "outputs": [],
   "source": [
    "# k-means using default settings\n",
    "y_pred = KMeans(n_clusters=2).fit_predict(X_norm)"
   ]
  },
  {
   "cell_type": "code",
   "execution_count": 17,
   "metadata": {},
   "outputs": [],
   "source": [
    "# mini-batch k-means with default settings\n",
    "mini_y_pred = MiniBatchKMeans(n_clusters=2).fit_predict(X_norm)"
   ]
  },
  {
   "cell_type": "code",
   "execution_count": 18,
   "metadata": {},
   "outputs": [
    {
     "data": {
      "image/png": "[encoded data removed]",
      "text/plain": [
       "<Figure size 1080x360 with 2 Axes>"
      ]
     },
     "metadata": {},
     "output_type": "display_data"
    }
   ],
   "source": [
    "# Visualize cluster counts\n",
    "\n",
    "plt.figure(figsize=(15, 5))\n",
    "\n",
    "plt.subplot(1, 2, 1)\n",
    "sns.countplot(x=y_pred, data=boston2012)\n",
    "plt.title('K-Means Cluster Counts')\n",
    "\n",
    "plt.subplot(1, 2, 2)\n",
    "sns.countplot(x=mini_y_pred, data=boston2012)\n",
    "plt.title('Mini-Batch K-Means Cluster Counts')\n",
    "\n",
    "plt.show()"
   ]
  },
  {
   "cell_type": "markdown",
   "metadata": {},
   "source": [
    "Both methods of K-Means clustering are creating similarly sized clusters (one is roughtly 10% larger than the other), so we'll focus on Mini-Batch K-Means to optimize computational efficiency."
   ]
  },
  {
   "cell_type": "code",
   "execution_count": 19,
   "metadata": {},
   "outputs": [
    {
     "data": {
      "image/png": "[encoded data removed]",
      "text/plain": [
       "<Figure size 432x288 with 1 Axes>"
      ]
     },
     "metadata": {},
     "output_type": "display_data"
    }
   ],
   "source": [
    "# Visualize clusters with binary feature of gender\n",
    "\n",
    "sns.countplot(x=mini_y_pred, hue=\"gender_F\", data=boston2012)\n",
    "plt.title('K-Means Clusters by Gender')\n",
    "\n",
    "plt.show()"
   ]
  },
  {
   "cell_type": "markdown",
   "metadata": {},
   "source": [
    "It seems gender has little impact on the clusters as each cluster contains more male than female runners, with similar proportions in each group."
   ]
  },
  {
   "cell_type": "code",
   "execution_count": 20,
   "metadata": {},
   "outputs": [
    {
     "data": {
      "image/png": "[encoded data removed]",
      "text/plain": [
       "<Figure size 1080x360 with 2 Axes>"
      ]
     },
     "metadata": {},
     "output_type": "display_data"
    }
   ],
   "source": [
    "plt.figure(figsize=(15, 5))\n",
    "\n",
    "plt.subplot(1, 2, 1)\n",
    "sns.boxplot(y=\"age\", x=mini_y_pred, data=boston2012)\n",
    "plt.title('K-Means Clusters by Age')\n",
    "\n",
    "plt.subplot(1, 2, 2)\n",
    "sns.violinplot(y=\"age\", x=mini_y_pred, data=boston2012)\n",
    "plt.title('K-Means Clusters by Age')\n",
    "\n",
    "plt.show()"
   ]
  },
  {
   "cell_type": "markdown",
   "metadata": {},
   "source": [
    "Both clusters include runners at the low end (age 18), but the high end is dominated by the second cluster, which includes the highest ages and a larger number of advanced ages."
   ]
  },
  {
   "cell_type": "code",
   "execution_count": 21,
   "metadata": {},
   "outputs": [
    {
     "data": {
      "image/png": "[encoded data removed]",
      "text/plain": [
       "<Figure size 1080x360 with 2 Axes>"
      ]
     },
     "metadata": {},
     "output_type": "display_data"
    }
   ],
   "source": [
    "plt.figure(figsize=(15, 5))\n",
    "\n",
    "plt.subplot(1, 2, 1)\n",
    "sns.boxplot(y=\"official\", x=mini_y_pred, data=boston2012)\n",
    "plt.title('K-Means Clusters, Official Time')\n",
    "\n",
    "plt.subplot(1, 2, 2)\n",
    "sns.violinplot(y=\"official\", x=mini_y_pred, data=boston2012)\n",
    "plt.title('K-Means Clusters, Official Time')\n",
    "\n",
    "plt.show()"
   ]
  },
  {
   "cell_type": "markdown",
   "metadata": {},
   "source": [
    "Exploring the Official Time variable values for each cluster, we see that the second cluster (group 1) has notably higher times."
   ]
  },
  {
   "cell_type": "code",
   "execution_count": 22,
   "metadata": {},
   "outputs": [
    {
     "data": {
      "image/png": "[encoded data removed]",
      "text/plain": [
       "<Figure size 1080x360 with 2 Axes>"
      ]
     },
     "metadata": {},
     "output_type": "display_data"
    }
   ],
   "source": [
    "plt.figure(figsize=(15, 5))\n",
    "\n",
    "plt.subplot(1, 2, 1)\n",
    "sns.boxplot(y=\"div\", x=mini_y_pred, data=boston2012)\n",
    "plt.title('K-Means Clusters, Division')\n",
    "\n",
    "plt.subplot(1, 2, 2)\n",
    "sns.violinplot(y=\"div\", x=mini_y_pred, data=boston2012)\n",
    "plt.title('K-Means Clusters, Division')\n",
    "\n",
    "plt.show()"
   ]
  },
  {
   "cell_type": "markdown",
   "metadata": {},
   "source": [
    "Examining the Division variable by cluster we find that one group has higher values than another, however each cluster shows a similar spread of values.  Each cluster contains runners from each division."
   ]
  },
  {
   "cell_type": "code",
   "execution_count": 23,
   "metadata": {},
   "outputs": [
    {
     "data": {
      "image/png": "[encoded data removed]",
      "text/plain": [
       "<Figure size 1080x360 with 2 Axes>"
      ]
     },
     "metadata": {},
     "output_type": "display_data"
    }
   ],
   "source": [
    "# Visualize clusters with binary feature of gender\n",
    "\n",
    "plt.figure(figsize=(15, 5))\n",
    "\n",
    "plt.subplot(1, 2, 1)\n",
    "sns.boxplot(y=\"gender_division\", x=mini_y_pred, data=boston2012)\n",
    "plt.title('K-Means Clusters, Gender Division')\n",
    "\n",
    "plt.subplot(1, 2, 2)\n",
    "sns.violinplot(y=\"gender_division\", x=mini_y_pred, data=boston2012)\n",
    "plt.title('K-Means Clusters, Division')\n",
    "\n",
    "plt.show()"
   ]
  },
  {
   "cell_type": "markdown",
   "metadata": {},
   "source": [
    "The gender division feature is consistent between the two categories."
   ]
  },
  {
   "cell_type": "code",
   "execution_count": 24,
   "metadata": {},
   "outputs": [
    {
     "data": {
      "image/png": "[encoded data removed]",
      "text/plain": [
       "<Figure size 1080x360 with 2 Axes>"
      ]
     },
     "metadata": {},
     "output_type": "display_data"
    }
   ],
   "source": [
    "# Visualize clusters with binary feature of gender\n",
    "\n",
    "plt.figure(figsize=(15, 5))\n",
    "\n",
    "plt.subplot(1, 2, 1)\n",
    "sns.boxplot(y=\"div_rank\", x=mini_y_pred, data=boston2012)\n",
    "plt.title('K-Means Clusters, Division Rank')\n",
    "\n",
    "plt.subplot(1, 2, 2)\n",
    "sns.violinplot(y=\"div_rank\", x=mini_y_pred, data=boston2012)\n",
    "plt.title('K-Means Clusters, Division Rank')\n",
    "\n",
    "plt.show()"
   ]
  },
  {
   "cell_type": "markdown",
   "metadata": {},
   "source": [
    "A look at the Division Rank for each clusters shows that the second cluster has records with lower ranks (larger numbers), due to the lowest ranks falling in this group alone."
   ]
  },
  {
   "cell_type": "code",
   "execution_count": 25,
   "metadata": {},
   "outputs": [
    {
     "data": {
      "image/png": "[encoded data removed]",
      "text/plain": [
       "<Figure size 1080x360 with 2 Axes>"
      ]
     },
     "metadata": {},
     "output_type": "display_data"
    }
   ],
   "source": [
    "# Visualize clusters with binary feature of gender\n",
    "\n",
    "plt.figure(figsize=(15, 5))\n",
    "\n",
    "plt.subplot(1, 2, 1)\n",
    "sns.boxplot(y=\"gender_rank\", x=mini_y_pred, data=boston2012)\n",
    "plt.title('K-Means Clusters, Gender Rank by Division')\n",
    "\n",
    "plt.subplot(1, 2, 2)\n",
    "sns.violinplot(y=\"gender_rank\", x=mini_y_pred, data=boston2012)\n",
    "plt.title('K-Means Clusters, Gender Rank by Division')\n",
    "\n",
    "plt.show()"
   ]
  },
  {
   "cell_type": "markdown",
   "metadata": {},
   "source": [
    "Looking at the Gendered Division Rank shows a stronger difference between the two clusters, with the lowest half of rankings being entirely in the second group."
   ]
  },
  {
   "cell_type": "code",
   "execution_count": null,
   "metadata": {},
   "outputs": [],
   "source": []
  },
  {
   "cell_type": "markdown",
   "metadata": {},
   "source": [
    "## Mean Shift"
   ]
  },
  {
   "cell_type": "code",
   "execution_count": 26,
   "metadata": {},
   "outputs": [
    {
     "name": "stdout",
     "output_type": "stream",
     "text": [
      "Number of estimated clusters: 2\n"
     ]
    }
   ],
   "source": [
    "ms = MeanShift(bin_seeding=True)\n",
    "ms.fit(X_norm)\n",
    "\n",
    "predict=ms.fit_predict(X_norm)\n",
    "\n",
    "# Extract cluster assignments for each data point.\n",
    "labels = ms.labels_\n",
    "\n",
    "# Coordinates of the cluster centers.\n",
    "cluster_centers = ms.cluster_centers_\n",
    "\n",
    "# Count our clusters.\n",
    "n_clusters_ = len(np.unique(labels))\n",
    "\n",
    "print(\"Number of estimated clusters: {}\".format(n_clusters_))"
   ]
  },
  {
   "cell_type": "markdown",
   "metadata": {},
   "source": [
    "Mean shift agrees with the elbow plot on 2 clusters for the data.  But does Mean Shift create similar clusters?"
   ]
  },
  {
   "cell_type": "code",
   "execution_count": 27,
   "metadata": {},
   "outputs": [
    {
     "data": {
      "image/png": "[encoded data removed]",
      "text/plain": [
       "<Figure size 432x288 with 1 Axes>"
      ]
     },
     "metadata": {},
     "output_type": "display_data"
    }
   ],
   "source": [
    "# Visualize clusters with binary feature of gender\n",
    "\n",
    "sns.countplot(x=predict, data=boston2012)\n",
    "plt.title('Mean-Shift Clusters, Counts')\n",
    "\n",
    "plt.show()"
   ]
  },
  {
   "cell_type": "markdown",
   "metadata": {},
   "source": [
    "Mean shift has generated one very large cluster and one very small cluster.  This doesn't seem like it will be very insightful.\n",
    "\n",
    "Spectral Clustering and Afficnity Propgation were not able to execute on my machine, so we'll stick with K-Means as the best option for this data."
   ]
  },
  {
   "cell_type": "markdown",
   "metadata": {},
   "source": [
    "## Conclusion"
   ]
  },
  {
   "cell_type": "markdown",
   "metadata": {},
   "source": [
    "No one feature seems to dominate either cluster, with each cluster being comprised of a large range of values for each feature.  The association of official time and division rank (gendered or not) make for similar distributions of those variables in each cluster.  Age and Gender are also similarly represented in each cluster.  The defining features of each cluster seem to be how the individual values of those features interact in the record of the individual runners."
   ]
  }
 ],
 "metadata": {
  "kernelspec": {
   "display_name": "Python 3",
   "language": "python",
   "name": "python3"
  },
  "language_info": {
   "codemirror_mode": {
    "name": "ipython",
    "version": 3
   },
   "file_extension": ".py",
   "mimetype": "text/x-python",
   "name": "python",
   "nbconvert_exporter": "python",
   "pygments_lexer": "ipython3",
   "version": "3.6.1"
  }
 },
 "nbformat": 4,
 "nbformat_minor": 2
}
