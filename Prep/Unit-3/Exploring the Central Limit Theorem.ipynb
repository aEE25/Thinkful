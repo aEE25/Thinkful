{
 "cells": [
  {
   "cell_type": "markdown",
   "metadata": {},
   "source": [
    "Create two binomially distributed populations with n equal to 10 and size equal to 10000. The p-value of pop1 should be 0.2 and the p-value of pop2 should be 0.5. Using a sample size of 100, calculate the means and standard deviations of your samples.\n",
    "\n",
    "Increase the size of your samples from 100 to 1000, then calculate the means and standard deviations for your new samples and create histograms for each. Repeat this again, decreasing the size of your samples to 20. What values change, and what remain the same?\n",
    "\n",
    "Change the probability value (p in the NumPy documentation) for pop1 to 0.3, then take new samples and compute the t-statistic and p-value. Then change the probability value p for group 1 to 0.4, and do it again. What changes, and why?\n",
    "\n",
    "Change the distribution of your populations from binomial to a distribution of your choice. Do the sample mean values still accurately represent the population values?"
   ]
  },
  {
   "cell_type": "code",
   "execution_count": 1,
   "metadata": {},
   "outputs": [],
   "source": [
    "import matplotlib.pyplot as plt\n",
    "import numpy as np\n",
    "import pandas as pd \n",
    "%matplotlib inline"
   ]
  },
  {
   "cell_type": "code",
   "execution_count": 2,
   "metadata": {},
   "outputs": [
    {
     "data": {
      "image/png": "[encoded data removed]",
      "text/plain": [
       "<Figure size 432x288 with 1 Axes>"
      ]
     },
     "metadata": {},
     "output_type": "display_data"
    }
   ],
   "source": [
    "#create two populations\n",
    "pop1 = np.random.binomial(10, 0.2, 10000)\n",
    "pop2 = np.random.binomial(10,0.5, 10000) \n",
    "\n",
    "plt.hist(pop1, alpha=0.5, label='Population 1') \n",
    "plt.hist(pop2, alpha=0.5, label='Population 2') \n",
    "plt.legend(loc='upper right') \n",
    "plt.show()"
   ]
  },
  {
   "cell_type": "code",
   "execution_count": 3,
   "metadata": {},
   "outputs": [
    {
     "name": "stdout",
     "output_type": "stream",
     "text": [
      "1.83\n",
      "5.05\n",
      "1.1666619047521865\n",
      "1.6085707942145413\n"
     ]
    },
    {
     "data": {
      "image/png": "[encoded data removed]",
      "text/plain": [
       "<Figure size 432x288 with 1 Axes>"
      ]
     },
     "metadata": {},
     "output_type": "display_data"
    }
   ],
   "source": [
    "#sample 100 from each population\n",
    "sample1 = np.random.choice(pop1, 100, replace=True)\n",
    "sample2 = np.random.choice(pop2, 100, replace=True)\n",
    "\n",
    "#calculate means and deviation for each sample\n",
    "mean1 = sample1.mean()\n",
    "mean2 = sample2.mean()\n",
    "std1 = sample1.std()\n",
    "std2 = sample2.std()\n",
    "\n",
    "#show means and deviations for each sample\n",
    "print(mean1)\n",
    "print(mean2)\n",
    "print(std1)\n",
    "print(std2)\n",
    "\n",
    "#show histograms\n",
    "plt.hist(sample1, alpha=0.5, label='Sample 1') \n",
    "plt.hist(sample2, alpha=0.5, label='Sample 2') \n",
    "plt.legend(loc='upper right') \n",
    "plt.show()"
   ]
  },
  {
   "cell_type": "markdown",
   "metadata": {},
   "source": [
    "# Increase the size of your samples from 100 to 1000, then calculate the means and standard deviations for your new samples and create histograms for each."
   ]
  },
  {
   "cell_type": "code",
   "execution_count": 4,
   "metadata": {},
   "outputs": [
    {
     "name": "stdout",
     "output_type": "stream",
     "text": [
      "1.984\n",
      "5.067\n",
      "1.2472946724812066\n",
      "1.5061576942671044\n"
     ]
    },
    {
     "data": {
      "image/png": "[encoded data removed]",
      "text/plain": [
       "<Figure size 432x288 with 1 Axes>"
      ]
     },
     "metadata": {},
     "output_type": "display_data"
    }
   ],
   "source": [
    "#sample 1000 from each population\n",
    "big_sample1 = np.random.choice(pop1, 1000, replace=True)\n",
    "big_sample2 = np.random.choice(pop2, 1000, replace=True)\n",
    "\n",
    "#calculate means and deviation for each sample\n",
    "big_mean1 = big_sample1.mean()\n",
    "big_mean2 = big_sample2.mean()\n",
    "big_std1 = big_sample1.std()\n",
    "big_std2 = big_sample2.std()\n",
    "\n",
    "#show means and deviations for each sample\n",
    "print(big_mean1)\n",
    "print(big_mean2)\n",
    "print(big_std1)\n",
    "print(big_std2)\n",
    "\n",
    "#show histograms\n",
    "plt.hist(sample1, alpha=0.5, label='Big Sample 1') \n",
    "plt.hist(sample2, alpha=0.5, label='Big Sample 2') \n",
    "plt.legend(loc='upper right') \n",
    "plt.show()"
   ]
  },
  {
   "cell_type": "markdown",
   "metadata": {},
   "source": [
    "# Repeat this again, decreasing the size of your samples to 20."
   ]
  },
  {
   "cell_type": "code",
   "execution_count": 5,
   "metadata": {},
   "outputs": [
    {
     "name": "stdout",
     "output_type": "stream",
     "text": [
      "1.95\n",
      "5.4\n",
      "1.16081867662439\n",
      "1.3190905958272918\n"
     ]
    },
    {
     "data": {
      "image/png": "[encoded data removed]",
      "text/plain": [
       "<Figure size 432x288 with 1 Axes>"
      ]
     },
     "metadata": {},
     "output_type": "display_data"
    }
   ],
   "source": [
    "#sample 20 from each population\n",
    "small_sample1 = np.random.choice(pop1, 20, replace=True)\n",
    "small_sample2 = np.random.choice(pop2, 20, replace=True)\n",
    "\n",
    "#calculate means and deviation for each sample\n",
    "small_mean1 = small_sample1.mean()\n",
    "small_mean2 = small_sample2.mean()\n",
    "small_std1 = small_sample1.std()\n",
    "small_std2 = small_sample2.std()\n",
    "\n",
    "#show means and deviations for each sample\n",
    "print(small_mean1)\n",
    "print(small_mean2)\n",
    "print(small_std1)\n",
    "print(small_std2)\n",
    "\n",
    "#show histograms\n",
    "plt.hist(small_sample1, alpha=0.5, label='Small Sample 1') \n",
    "plt.hist(small_sample2, alpha=0.5, label='Small Sample 2') \n",
    "plt.legend(loc='upper right') \n",
    "plt.show()"
   ]
  },
  {
   "cell_type": "code",
   "execution_count": 6,
   "metadata": {},
   "outputs": [
    {
     "name": "stdout",
     "output_type": "stream",
     "text": [
      "Sample 100\n",
      "1.83\n",
      "5.05\n",
      "1.1666619047521865\n",
      "1.6085707942145413\n",
      "Sample 1000\n",
      "1.984\n",
      "5.067\n",
      "1.2472946724812066\n",
      "1.5061576942671044\n",
      "Sample 20\n",
      "1.95\n",
      "5.4\n",
      "1.16081867662439\n",
      "1.3190905958272918\n"
     ]
    }
   ],
   "source": [
    "print('Sample 100')\n",
    "print(mean1)\n",
    "print(mean2)\n",
    "print(std1)\n",
    "print(std2)\n",
    "\n",
    "print('Sample 1000')\n",
    "print(big_mean1)\n",
    "print(big_mean2)\n",
    "print(big_std1)\n",
    "print(big_std2)\n",
    "\n",
    "print('Sample 20')\n",
    "print(small_mean1)\n",
    "print(small_mean2)\n",
    "print(small_std1)\n",
    "print(small_std2)"
   ]
  },
  {
   "cell_type": "markdown",
   "metadata": {},
   "source": [
    "# What values change, and what remain the same?"
   ]
  },
  {
   "cell_type": "markdown",
   "metadata": {},
   "source": [
    "All values (means and standard deviations) change between sample sizes, with some showing greater consistentcy in two of three, but not all three.  The mean of population 1 is consistent between the 100 sample and the 1000 sample, while populatioin two is consistent between the 80 sample and 1000 sample.  The standard deviation is consistent for population 2 between the 100 sample and 1000 sample, but the population 1 deviation shows small variation across all samples."
   ]
  },
  {
   "cell_type": "markdown",
   "metadata": {},
   "source": [
    "# Change the probability value (p in the NumPy documentation) for pop1 to 0.3, then take new samples and compute the t-statistic and p-value. "
   ]
  },
  {
   "cell_type": "code",
   "execution_count": 17,
   "metadata": {},
   "outputs": [
    {
     "name": "stdout",
     "output_type": "stream",
     "text": [
      "Ttest_indResult(statistic=15.125282420419662, pvalue=9.203357239208385e-34)\n"
     ]
    }
   ],
   "source": [
    "from scipy.stats import ttest_ind\n",
    "\n",
    "print(ttest_ind(sample2, sample1, equal_var=False))"
   ]
  },
  {
   "cell_type": "code",
   "execution_count": 20,
   "metadata": {},
   "outputs": [
    {
     "name": "stdout",
     "output_type": "stream",
     "text": [
      "Ttest_indResult(statistic=9.281626909828145, pvalue=4.148145007469849e-17)\n"
     ]
    }
   ],
   "source": [
    "#update first population\n",
    "new_pop1 = np.random.binomial(10, 0.3, 10000)\n",
    "\n",
    "new_sample1 = np.random.choice(new_pop1, 100, replace=True)\n",
    "\n",
    "print(ttest_ind(sample2, new_sample1, equal_var=False))"
   ]
  },
  {
   "cell_type": "markdown",
   "metadata": {},
   "source": [
    "# Then change the probability value p for group 1 to 0.4, and do it again."
   ]
  },
  {
   "cell_type": "code",
   "execution_count": 21,
   "metadata": {},
   "outputs": [
    {
     "name": "stdout",
     "output_type": "stream",
     "text": [
      "Ttest_indResult(statistic=4.507969453741147, pvalue=1.139291318339439e-05)\n"
     ]
    }
   ],
   "source": [
    "#update first population\n",
    "renew_pop1 = np.random.binomial(10, 0.4, 10000)\n",
    "\n",
    "renew_sample1 = np.random.choice(renew_pop1, 100, replace=True)\n",
    "\n",
    "from scipy.stats import ttest_ind\n",
    "print(ttest_ind(sample2, renew_sample1, equal_var=False))"
   ]
  },
  {
   "cell_type": "markdown",
   "metadata": {},
   "source": [
    "# What changes, and why?"
   ]
  },
  {
   "cell_type": "markdown",
   "metadata": {},
   "source": [
    "The p-value gets larger and t-value get smaller.  The populations are more similar, so the variances between them are less significant. "
   ]
  },
  {
   "cell_type": "markdown",
   "metadata": {},
   "source": [
    "# Change the distribution of your populations from binomial to a distribution of your choice."
   ]
  },
  {
   "cell_type": "code",
   "execution_count": 25,
   "metadata": {},
   "outputs": [
    {
     "name": "stdout",
     "output_type": "stream",
     "text": [
      "Population\n",
      "5.0496\n",
      "1.9937\n",
      "4.6195822148761465\n",
      "1.4014493604836387\n",
      "Sample\n",
      "4.74\n",
      "1.86\n",
      "3.7910948286741655\n",
      "1.4561593319413915\n"
     ]
    },
    {
     "data": {
      "image/png": "[encoded data removed]",
      "text/plain": [
       "<Figure size 720x360 with 2 Axes>"
      ]
     },
     "metadata": {},
     "output_type": "display_data"
    }
   ],
   "source": [
    "#create two populations\n",
    "geo1 = np.random.geometric(0.2, 10000)\n",
    "geo2 = np.random.geometric(0.5, 10000) \n",
    "\n",
    "print('Population')\n",
    "print(geo1.mean())\n",
    "print(geo2.mean())\n",
    "print(geo1.std())\n",
    "print(geo2.std())\n",
    "\n",
    "#sample 100 from each population\n",
    "geo_sample1 = np.random.choice(geo1, 100, replace=True)\n",
    "geo_sample2 = np.random.choice(geo2, 100, replace=True)\n",
    "\n",
    "print('Sample')\n",
    "print(geo_sample1.mean())\n",
    "print(geo_sample2.mean())\n",
    "print(geo_sample1.std())\n",
    "print(geo_sample2.std())\n",
    "\n",
    "plt.figure(figsize=(10, 5))\n",
    "\n",
    "plt.subplot(1, 2, 1)\n",
    "plt.hist(geo1, alpha=0.5, label='Population 1') \n",
    "plt.hist(geo2, alpha=0.5, label='Population 2') \n",
    "plt.legend(loc='upper right') \n",
    "plt.title('Population')\n",
    "\n",
    "plt.subplot(1, 2, 2)\n",
    "plt.hist(geo_sample1, alpha=0.5, label='Sample 1') \n",
    "plt.hist(geo_sample2, alpha=0.5, label='Sample 2') \n",
    "plt.legend(loc='upper right') \n",
    "plt.title('Sample')\n",
    "\n",
    "plt.show()"
   ]
  },
  {
   "cell_type": "markdown",
   "metadata": {},
   "source": [
    "# Do the sample mean values still accurately represent the population values?"
   ]
  },
  {
   "cell_type": "markdown",
   "metadata": {},
   "source": [
    "The change in distribution does not affect the representation of the population by the sample"
   ]
  }
 ],
 "metadata": {
  "kernelspec": {
   "display_name": "Python 3",
   "language": "python",
   "name": "python3"
  },
  "language_info": {
   "codemirror_mode": {
    "name": "ipython",
    "version": 3
   },
   "file_extension": ".py",
   "mimetype": "text/x-python",
   "name": "python",
   "nbconvert_exporter": "python",
   "pygments_lexer": "ipython3",
   "version": "3.6.1"
  }
 },
 "nbformat": 4,
 "nbformat_minor": 2
}
