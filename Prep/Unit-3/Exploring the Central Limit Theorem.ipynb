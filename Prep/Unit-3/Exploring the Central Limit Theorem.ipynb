{
 "cells": [
  {
   "cell_type": "markdown",
   "metadata": {},
   "source": [
    "Create two binomially distributed populations with n equal to 10 and size equal to 10000. The p-value of pop1 should be 0.2 and the p-value of pop2 should be 0.5. Using a sample size of 100, calculate the means and standard deviations of your samples.\n",
    "\n",
    "Increase the size of your samples from 100 to 1000, then calculate the means and standard deviations for your new samples and create histograms for each. Repeat this again, decreasing the size of your samples to 20. What values change, and what remain the same?\n",
    "\n",
    "Change the probability value (p in the NumPy documentation) for pop1 to 0.3, then take new samples and compute the t-statistic and p-value. Then change the probability value p for group 1 to 0.4, and do it again. What changes, and why?\n",
    "\n",
    "Change the distribution of your populations from binomial to a distribution of your choice. Do the sample mean values still accurately represent the population values?"
   ]
  },
  {
   "cell_type": "code",
   "execution_count": 1,
   "metadata": {},
   "outputs": [],
   "source": [
    "import matplotlib.pyplot as plt\n",
    "import numpy as np\n",
    "import pandas as pd \n",
    "%matplotlib inline"
   ]
  },
  {
   "cell_type": "code",
   "execution_count": 6,
   "metadata": {},
   "outputs": [
    {
     "data": {
      "image/png": "[encoded data removed]",
      "text/plain": [
       "<Figure size 432x288 with 1 Axes>"
      ]
     },
     "metadata": {},
     "output_type": "display_data"
    }
   ],
   "source": [
    "#create two populations\n",
    "pop1 = np.random.binomial(10, 0.2, 10000)\n",
    "pop2 = np.random.binomial(10,0.5, 10000) \n",
    "\n",
    "plt.hist(pop1, alpha=0.5, label='Population 1') \n",
    "plt.hist(pop2, alpha=0.5, label='Population 2') \n",
    "plt.legend(loc='upper right') \n",
    "plt.show()"
   ]
  },
  {
   "cell_type": "code",
   "execution_count": 10,
   "metadata": {},
   "outputs": [
    {
     "name": "stdout",
     "output_type": "stream",
     "text": [
      "1.93\n",
      "5.19\n",
      "1.2349493916756265\n",
      "1.7532541173486518\n"
     ]
    },
    {
     "data": {
      "image/png": "[encoded data removed]",
      "text/plain": [
       "<Figure size 432x288 with 1 Axes>"
      ]
     },
     "metadata": {},
     "output_type": "display_data"
    }
   ],
   "source": [
    "#sample 100 from each population\n",
    "sample1 = np.random.choice(pop1, 100, replace=True)\n",
    "sample2 = np.random.choice(pop2, 100, replace=True)\n",
    "\n",
    "#calculate means and deviation for each sample\n",
    "mean1 = sample1.mean()\n",
    "mean2 = sample2.mean()\n",
    "std1 = sample1.std()\n",
    "std2 = sample2.std()\n",
    "\n",
    "#show means and deviations for each sample\n",
    "print(mean1)\n",
    "print(mean2)\n",
    "print(std1)\n",
    "print(std2)\n",
    "\n",
    "#show histograms\n",
    "plt.hist(sample1, alpha=0.5, label='Sample 1') \n",
    "plt.hist(sample2, alpha=0.5, label='Sample 2') \n",
    "plt.legend(loc='upper right') \n",
    "plt.show()"
   ]
  },
  {
   "cell_type": "code",
   "execution_count": 9,
   "metadata": {},
   "outputs": [
    {
     "name": "stdout",
     "output_type": "stream",
     "text": [
      "1.932\n",
      "4.989\n",
      "1.2543428558412568\n",
      "1.5648894529646495\n"
     ]
    },
    {
     "data": {
      "image/png": "[encoded data removed]",
      "text/plain": [
       "<Figure size 432x288 with 1 Axes>"
      ]
     },
     "metadata": {},
     "output_type": "display_data"
    }
   ],
   "source": [
    "#sample 1000 from each population\n",
    "big_sample1 = np.random.choice(pop1, 1000, replace=True)\n",
    "big_sample2 = np.random.choice(pop2, 1000, replace=True)\n",
    "\n",
    "#calculate means and deviation for each sample\n",
    "big_mean1 = big_sample1.mean()\n",
    "big_mean2 = big_sample2.mean()\n",
    "big_std1 = big_sample1.std()\n",
    "big_std2 = big_sample2.std()\n",
    "\n",
    "#show means and deviations for each sample\n",
    "print(big_mean1)\n",
    "print(big_mean2)\n",
    "print(big_std1)\n",
    "print(big_std2)\n",
    "\n",
    "#show histograms\n",
    "plt.hist(sample1, alpha=0.5, label='Big Sample 1') \n",
    "plt.hist(sample2, alpha=0.5, label='Big Sample 2') \n",
    "plt.legend(loc='upper right') \n",
    "plt.show()"
   ]
  },
  {
   "cell_type": "code",
   "execution_count": 11,
   "metadata": {},
   "outputs": [
    {
     "name": "stdout",
     "output_type": "stream",
     "text": [
      "1.875\n",
      "4.9875\n",
      "1.2784267675545595\n",
      "1.7570838767685508\n"
     ]
    },
    {
     "data": {
      "image/png": "[encoded data removed]",
      "text/plain": [
       "<Figure size 432x288 with 1 Axes>"
      ]
     },
     "metadata": {},
     "output_type": "display_data"
    }
   ],
   "source": [
    "#sample 80 from each population\n",
    "small_sample1 = np.random.choice(pop1, 80, replace=True)\n",
    "small_sample2 = np.random.choice(pop2, 80, replace=True)\n",
    "\n",
    "#calculate means and deviation for each sample\n",
    "small_mean1 = small_sample1.mean()\n",
    "small_mean2 = small_sample2.mean()\n",
    "small_std1 = small_sample1.std()\n",
    "small_std2 = small_sample2.std()\n",
    "\n",
    "#show means and deviations for each sample\n",
    "print(small_mean1)\n",
    "print(small_mean2)\n",
    "print(small_std1)\n",
    "print(small_std2)\n",
    "\n",
    "#show histograms\n",
    "plt.hist(small_sample1, alpha=0.5, label='Small Sample 1') \n",
    "plt.hist(small_sample2, alpha=0.5, label='Small Sample 2') \n",
    "plt.legend(loc='upper right') \n",
    "plt.show()"
   ]
  },
  {
   "cell_type": "code",
   "execution_count": 14,
   "metadata": {},
   "outputs": [
    {
     "name": "stdout",
     "output_type": "stream",
     "text": [
      "Sample 100\n",
      "1.93\n",
      "5.19\n",
      "1.2349493916756265\n",
      "1.7532541173486518\n",
      "Sample 1000\n",
      "1.932\n",
      "4.989\n",
      "1.2543428558412568\n",
      "1.5648894529646495\n",
      "Sample 80\n",
      "1.875\n",
      "4.9875\n",
      "1.2784267675545595\n",
      "1.7570838767685508\n"
     ]
    }
   ],
   "source": [
    "print('Sample 100')\n",
    "print(mean1)\n",
    "print(mean2)\n",
    "print(std1)\n",
    "print(std2)\n",
    "\n",
    "print('Sample 1000')\n",
    "print(big_mean1)\n",
    "print(big_mean2)\n",
    "print(big_std1)\n",
    "print(big_std2)\n",
    "\n",
    "print('Sample 80')\n",
    "print(small_mean1)\n",
    "print(small_mean2)\n",
    "print(small_std1)\n",
    "print(small_std2)"
   ]
  },
  {
   "cell_type": "markdown",
   "metadata": {},
   "source": [
    "All values (means and standard deviations) change between sample sizes, with some showing greater consistentcy in two of three, but not all three.  The mean of population 1 is consistent between the 100 sample and the 1000 sample, while populatioin two is consistent between the 80 sample and 1000 sample.  The standard deviation is consistent for population 2 between the 100 sample and 1000 sample, but the population 1 deviation shows small variation across all samples."
   ]
  }
 ],
 "metadata": {
  "kernelspec": {
   "display_name": "Python 3",
   "language": "python",
   "name": "python3"
  },
  "language_info": {
   "codemirror_mode": {
    "name": "ipython",
    "version": 3
   },
   "file_extension": ".py",
   "mimetype": "text/x-python",
   "name": "python",
   "nbconvert_exporter": "python",
   "pygments_lexer": "ipython3",
   "version": "3.6.1"
  }
 },
 "nbformat": 4,
 "nbformat_minor": 2
}
