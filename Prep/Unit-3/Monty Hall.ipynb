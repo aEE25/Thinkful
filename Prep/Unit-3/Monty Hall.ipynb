{
 "cells": [
  {
   "cell_type": "markdown",
   "metadata": {},
   "source": [
    "You are on a game show and given the choice of whatever is behind three doors. Behind one door is a fantastic prize (some examples use a car, others use cash) while behind the other two doors is a dud (some examples say a goat, others say it's just empty). You pick a door. Then the host opens one of the other two doors to reveal a dud. But here's the wrinkle: the host now gives you the opportunity to switch your door. What should you do?"
   ]
  },
  {
   "cell_type": "markdown",
   "metadata": {},
   "source": [
    "Initially, you have a 1/3 chance of choosing the door with the prize.\n",
    "Once one door is opened to reveal a dud, that leaves two doors.  To determine the probability of your door having the prize, you must use the probability of all options, given that one door is confirmed a dud.\n",
    "\n",
    "Calcluated probability that your door has the prize:\n",
    "P(A | B) = P(B | A) * P(A) / [P(A)*P(B|A) + P(A~)*P(B|A~)]\n",
    "    (1/2)*(1/3) / (1/3)*(1/2) + (1/3)*(0) + (1/3)*(1) \n",
    "    1/3\n",
    "\n",
    "Best to switch your door."
   ]
  }
 ],
 "metadata": {
  "kernelspec": {
   "display_name": "Python 3",
   "language": "python",
   "name": "python3"
  },
  "language_info": {
   "codemirror_mode": {
    "name": "ipython",
    "version": 3
   },
   "file_extension": ".py",
   "mimetype": "text/x-python",
   "name": "python",
   "nbconvert_exporter": "python",
   "pygments_lexer": "ipython3",
   "version": "3.6.1"
  }
 },
 "nbformat": 4,
 "nbformat_minor": 2
}
