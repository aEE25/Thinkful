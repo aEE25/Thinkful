{
 "cells": [
  {
   "cell_type": "markdown",
   "metadata": {},
   "source": [
    "P(Infected| Positive Test) = P(Positive Test| Infected) * P(Infected) / P(Positive Test)\n",
    "\n",
    "= .9999 * .000001/(.000001*.9999 + .999999*.0001) = .0099 or .99%\n",
    "\n",
    "A diagnostic test has a 98% probability of giving a positive result when applied to a person suffering from Thripshaw's Disease, and 10% probability of giving a (false) positive when applied to a non-sufferer. It is estimated that 0.5 % of the population are sufferers. Suppose that the test is now administered to a person whose disease status is unknown. Calculate the probability that the test will:"
   ]
  },
  {
   "cell_type": "markdown",
   "metadata": {},
   "source": [
    "# 1\n",
    "Be positive"
   ]
  },
  {
   "cell_type": "markdown",
   "metadata": {},
   "source": [
    "(0.98 x 0.005) + (0.1 x 0.995) = 0.0049 + 0.0995 = 0.1044 = 10%"
   ]
  },
  {
   "cell_type": "markdown",
   "metadata": {},
   "source": [
    "# 2\n",
    "Correctly diagnose a sufferer of Thripshaw's"
   ]
  },
  {
   "cell_type": "markdown",
   "metadata": {},
   "source": [
    "90%"
   ]
  },
  {
   "cell_type": "markdown",
   "metadata": {},
   "source": [
    "(0.98 * 0.005) / 0.1044 = 0.0469 = 4.7%"
   ]
  },
  {
   "cell_type": "markdown",
   "metadata": {},
   "source": [
    "# 3\n",
    "Correctly identify a non-sufferer of Thripshaw's"
   ]
  },
  {
   "cell_type": "markdown",
   "metadata": {},
   "source": [
    "90%"
   ]
  },
  {
   "cell_type": "markdown",
   "metadata": {},
   "source": [
    "(0.90 x 0.995) / (0.02 x 0.005) + (0.90 x 0.995) = 0.8955 / 0.001 + 0.8955 = 0.8955 / 0.8965 = 0.99888 = 99%"
   ]
  },
  {
   "cell_type": "markdown",
   "metadata": {},
   "source": [
    "# 4\n",
    "Misclassify the person"
   ]
  },
  {
   "cell_type": "markdown",
   "metadata": {},
   "source": [
    "10%"
   ]
  },
  {
   "cell_type": "markdown",
   "metadata": {},
   "source": [
    "1 - (0.98 * 0.005) + (0.90 * 0.995) = 1 - 0.0049 + 0.8955 = 1 - 0.9004 = 0.0996 = 9.9%"
   ]
  }
 ],
 "metadata": {
  "kernelspec": {
   "display_name": "Python 3",
   "language": "python",
   "name": "python3"
  },
  "language_info": {
   "codemirror_mode": {
    "name": "ipython",
    "version": 3
   },
   "file_extension": ".py",
   "mimetype": "text/x-python",
   "name": "python",
   "nbconvert_exporter": "python",
   "pygments_lexer": "ipython3",
   "version": "3.6.1"
  }
 },
 "nbformat": 4,
 "nbformat_minor": 2
}
