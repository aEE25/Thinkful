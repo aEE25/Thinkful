{
 "cells": [
  {
   "cell_type": "markdown",
   "metadata": {},
   "source": [
    "Choose 6 distributions from the list of random distributions available in NumPy, called “Distributions”\n",
    "\n",
    "For each distribution:\n",
    "\n",
    "A1. Generate a random variable with 100 datapoints using the code distributionvar = np.random.distributionname([arguments], 100), replacing distributionvar with an appropriate variable name and distributionname with the name of the distribution you’ve chosen, and filling in the empty space in the parentheses with your chosen values for the appropriate parameters. If you feel uncertain about how to do this, go back to the “Other Distributions” assignment for examples of code to use as a starting point.\n",
    "A2. Graph the variable using a histogram.\n",
    "A3. Compute the mean and standard deviation and plot them as vertical lines on the histogram. (Hint: the “When Does It Break?” assignment you just completed can help you here.)\n",
    "A4. Evaluate whether the descriptive statistics provided useful information about the variable. Can you identify any common characteristics of the distributions that could be usefully described using the mean and/or standard deviation, versus the ones that could not?\n"
   ]
  },
  {
   "cell_type": "code",
   "execution_count": 1,
   "metadata": {},
   "outputs": [],
   "source": [
    "import matplotlib.pyplot as plt\n",
    "import numpy as np\n",
    "import pandas as pd \n",
    "%matplotlib inline"
   ]
  },
  {
   "cell_type": "markdown",
   "metadata": {},
   "source": [
    "# One"
   ]
  },
  {
   "cell_type": "code",
   "execution_count": 8,
   "metadata": {},
   "outputs": [
    {
     "data": {
      "image/png": "[encoded data removed]",
      "text/plain": [
       "<Figure size 432x288 with 1 Axes>"
      ]
     },
     "metadata": {},
     "output_type": "display_data"
    }
   ],
   "source": [
    "# A1\n",
    "# Generate distribution\n",
    "geometric = np.random.geometric(0.5, 100)\n",
    "\n",
    "# A2\n",
    "#Plot histogram\n",
    "plt.hist(geometric)\n",
    "\n",
    "# A3\n",
    "# Add vertical line at the mean. (A3)\n",
    "plt.axvline(geometric.mean(), color='c', linestyle='solid', linewidth=2)\n",
    "\n",
    "# Add vertical lines at one standard deviation above and one below the mean.\n",
    "plt.axvline(geometric.mean() + geometric.std(), color='c', linestyle='dashed', linewidth=2)\n",
    "plt.axvline(geometric.mean() - geometric.std(), color='c', linestyle='dashed', linewidth=2) \n",
    "\n",
    "# Print the histogram\n",
    "plt.show()"
   ]
  },
  {
   "cell_type": "markdown",
   "metadata": {},
   "source": [
    "A4\n",
    "Skewed distribution makes the mean and standard deviation not descriptive of the variable."
   ]
  },
  {
   "cell_type": "markdown",
   "metadata": {},
   "source": [
    "# Two"
   ]
  },
  {
   "cell_type": "code",
   "execution_count": 15,
   "metadata": {},
   "outputs": [
    {
     "data": {
      "image/png": "[encoded data removed]",
      "text/plain": [
       "<Figure size 432x288 with 1 Axes>"
      ]
     },
     "metadata": {},
     "output_type": "display_data"
    }
   ],
   "source": [
    "# A1\n",
    "# Generate distribution\n",
    "pareto = np.random.pareto(1, 100)\n",
    "\n",
    "# A2\n",
    "#Plot histogram\n",
    "plt.hist(pareto)\n",
    "\n",
    "# A3\n",
    "# Add vertical line at the mean. (A3)\n",
    "plt.axvline(pareto.mean(), color='c', linestyle='solid', linewidth=2)\n",
    "\n",
    "# Add vertical lines at one standard deviation above and one below the mean.\n",
    "plt.axvline(pareto.mean() + pareto.std(), color='c', linestyle='dashed', linewidth=2)\n",
    "plt.axvline(pareto.mean() - pareto.std(), color='c', linestyle='dashed', linewidth=2) \n",
    "\n",
    "# Print the histogram\n",
    "plt.show()"
   ]
  },
  {
   "cell_type": "markdown",
   "metadata": {},
   "source": [
    "A4\n",
    "While the distribution is skewed, the mean falls in the middle of the modes and so provides a good representation of the variable."
   ]
  },
  {
   "cell_type": "markdown",
   "metadata": {},
   "source": [
    "# Three"
   ]
  },
  {
   "cell_type": "code",
   "execution_count": 17,
   "metadata": {},
   "outputs": [
    {
     "data": {
      "image/png": "[encoded data removed]",
      "text/plain": [
       "<Figure size 432x288 with 1 Axes>"
      ]
     },
     "metadata": {},
     "output_type": "display_data"
    }
   ],
   "source": [
    "# A1\n",
    "# Generate distribution\n",
    "logseries = np.random.logseries(0.5, 100)\n",
    "\n",
    "# A2\n",
    "#Plot histogram\n",
    "plt.hist(logseries)\n",
    "\n",
    "# A3\n",
    "# Add vertical line at the mean. (A3)\n",
    "plt.axvline(logseries.mean(), color='c', linestyle='solid', linewidth=2)\n",
    "\n",
    "# Add vertical lines at one standard deviation above and one below the mean.\n",
    "plt.axvline(logseries.mean() + logseries.std(), color='c', linestyle='dashed', linewidth=2)\n",
    "plt.axvline(logseries.mean() - logseries.std(), color='c', linestyle='dashed', linewidth=2) \n",
    "\n",
    "# Print the histogram\n",
    "plt.show()"
   ]
  },
  {
   "cell_type": "markdown",
   "metadata": {},
   "source": [
    "A4\n",
    "Skewed distribution makes the mean and standard deviation not descriptive of the variable."
   ]
  },
  {
   "cell_type": "markdown",
   "metadata": {},
   "source": [
    "# Four"
   ]
  },
  {
   "cell_type": "code",
   "execution_count": 12,
   "metadata": {},
   "outputs": [
    {
     "data": {
      "image/png": "[encoded data removed]",
      "text/plain": [
       "<Figure size 432x288 with 1 Axes>"
      ]
     },
     "metadata": {},
     "output_type": "display_data"
    }
   ],
   "source": [
    "# A1\n",
    "# Generate distribution\n",
    "standard_exponential = np.random.standard_exponential(100)\n",
    "\n",
    "# A2\n",
    "#Plot histogram\n",
    "plt.hist(standard_exponential)\n",
    "\n",
    "# A3\n",
    "# Add vertical line at the mean. (A3)\n",
    "plt.axvline(standard_exponential.mean(), color='c', linestyle='solid', linewidth=2)\n",
    "\n",
    "# Add vertical lines at one standard deviation above and one below the mean.\n",
    "plt.axvline(standard_exponential.mean() + standard_exponential.std(), color='c', linestyle='dashed', linewidth=2)\n",
    "plt.axvline(standard_exponential.mean() - standard_exponential.std(), color='c', linestyle='dashed', linewidth=2) \n",
    "\n",
    "# Print the histogram\n",
    "plt.show()"
   ]
  },
  {
   "cell_type": "markdown",
   "metadata": {},
   "source": [
    "A4\n",
    "Skewed distribution makes the mean not descriptive of the variable, but relating the data to the standard variations may prove useful as most results are within the standard deviation. That deviation range is then a good representation of the variable."
   ]
  },
  {
   "cell_type": "markdown",
   "metadata": {},
   "source": [
    "# Five"
   ]
  },
  {
   "cell_type": "code",
   "execution_count": 18,
   "metadata": {},
   "outputs": [
    {
     "data": {
      "image/png": "[encoded data removed]",
      "text/plain": [
       "<Figure size 432x288 with 1 Axes>"
      ]
     },
     "metadata": {},
     "output_type": "display_data"
    }
   ],
   "source": [
    "# A1\n",
    "# Generate distribution\n",
    "power = np.random.power(1, 100)\n",
    "\n",
    "# A2\n",
    "#Plot histogram\n",
    "plt.hist(power)\n",
    "\n",
    "# A3\n",
    "# Add vertical line at the mean. (A3)\n",
    "plt.axvline(power.mean(), color='c', linestyle='solid', linewidth=2)\n",
    "\n",
    "# Add vertical lines at one standard deviation above and one below the mean.\n",
    "plt.axvline(power.mean() + power.std(), color='c', linestyle='dashed', linewidth=2)\n",
    "plt.axvline(power.mean() - power.std(), color='c', linestyle='dashed', linewidth=2) \n",
    "\n",
    "# Print the histogram\n",
    "plt.show()"
   ]
  },
  {
   "cell_type": "markdown",
   "metadata": {},
   "source": [
    "A4\n",
    "Skewed distribution and no clear representation by the mean or standard deviations."
   ]
  },
  {
   "cell_type": "markdown",
   "metadata": {},
   "source": [
    "# Six"
   ]
  },
  {
   "cell_type": "code",
   "execution_count": 19,
   "metadata": {},
   "outputs": [
    {
     "data": {
      "image/png": "[encoded data removed]",
      "text/plain": [
       "<Figure size 432x288 with 1 Axes>"
      ]
     },
     "metadata": {},
     "output_type": "display_data"
    }
   ],
   "source": [
    "# A1\n",
    "# Generate distribution\n",
    "zipf = np.random.zipf(2, 100)\n",
    "\n",
    "# A2\n",
    "#Plot histogram\n",
    "plt.hist(zipf)\n",
    "\n",
    "# A3\n",
    "# Add vertical line at the mean. (A3)\n",
    "plt.axvline(zipf.mean(), color='c', linestyle='solid', linewidth=2)\n",
    "\n",
    "# Add vertical lines at one standard deviation above and one below the mean.\n",
    "plt.axvline(zipf.mean() + zipf.std(), color='c', linestyle='dashed', linewidth=2)\n",
    "plt.axvline(zipf.mean() - zipf.std(), color='c', linestyle='dashed', linewidth=2) \n",
    "\n",
    "# Print the histogram\n",
    "plt.show()"
   ]
  },
  {
   "cell_type": "markdown",
   "metadata": {},
   "source": [
    "A4\n",
    "The distribution is skewed, but the mean does fall in the line with the modes, so it could be used to describe the variable."
   ]
  },
  {
   "cell_type": "markdown",
   "metadata": {},
   "source": [
    "Additionally:\n",
    "\n",
    "B1. Generate two normally-distributed variables, one with a mean of 5 and standard deviation of 0.5, and the other with a mean of 10 and standard deviation of 1.\n",
    "B2. Add them together to create a third variable.\n",
    "B3. Graph the third variable using a histogram.\n",
    "B4. Compute the mean and standard deviation and plot them as vertical lines on the histogram.\n",
    "B5. Evaluate the descriptive statistics against the data."
   ]
  },
  {
   "cell_type": "code",
   "execution_count": 20,
   "metadata": {},
   "outputs": [
    {
     "data": {
      "image/png": "[encoded data removed]",
      "text/plain": [
       "<Figure size 432x288 with 1 Axes>"
      ]
     },
     "metadata": {},
     "output_type": "display_data"
    }
   ],
   "source": [
    "# Generate two distribution variables\n",
    "norm1 = np.random.normal(5, 0.5, 100)\n",
    "norm2 = np.random.normal(10, 1, 100)\n",
    "\n",
    "# Add two variables to create third\n",
    "norm3 = norm1 + norm2\n",
    "\n",
    "#Plot histogram\n",
    "plt.hist(norm3)\n",
    "\n",
    "# Add vertical line at the mean.\n",
    "plt.axvline(norm3.mean(), color='c', linestyle='solid', linewidth=2)\n",
    "\n",
    "# Add vertical lines at one standard deviation above and one below the mean.\n",
    "plt.axvline(norm3.mean() + norm3.std(), color='c', linestyle='dashed', linewidth=2)\n",
    "plt.axvline(norm3.mean() - norm3.std(), color='c', linestyle='dashed', linewidth=2) \n",
    "\n",
    "# Print the histogram\n",
    "plt.show()"
   ]
  },
  {
   "cell_type": "markdown",
   "metadata": {},
   "source": [
    "The mean is not equal to the mode, so the distribution is skewed, but standard deviation captures the majority of variable, so it could be used to describe the variable."
   ]
  }
 ],
 "metadata": {
  "kernelspec": {
   "display_name": "Python 3",
   "language": "python",
   "name": "python3"
  },
  "language_info": {
   "codemirror_mode": {
    "name": "ipython",
    "version": 3
   },
   "file_extension": ".py",
   "mimetype": "text/x-python",
   "name": "python",
   "nbconvert_exporter": "python",
   "pygments_lexer": "ipython3",
   "version": "3.6.1"
  }
 },
 "nbformat": 4,
 "nbformat_minor": 2
}
