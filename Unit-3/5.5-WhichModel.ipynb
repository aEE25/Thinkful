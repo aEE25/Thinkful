{
 "cells": [
  {
   "cell_type": "markdown",
   "metadata": {},
   "source": [
    "# Challenge: what model can answer this question?\n",
    "\n",
    "Go through the list of problems below and identify which supervised learning method(s) would be best for addressing that particular problem and explain your reasoning."
   ]
  },
  {
   "cell_type": "markdown",
   "metadata": {},
   "source": [
    "### Predict the running times of prospective Olympic sprinters using data from the last 20 Olympics."
   ]
  },
  {
   "cell_type": "markdown",
   "metadata": {},
   "source": [
    "This scenario requires a linear progression of running times from one Olympic game to the next - that there is a linear relationship between running time and Olympic year.  Exploring the running time data from the last 20 Olympics would help to confirm that.  Assuming that linear correlation true, a simple OLS regression model would be a good place to start.  Additional data about the sprinter (like gender) would improve accuracy.\n"
   ]
  },
  {
   "cell_type": "markdown",
   "metadata": {},
   "source": [
    "### You have more features (columns) than rows in your dataset."
   ]
  },
  {
   "cell_type": "markdown",
   "metadata": {},
   "source": [
    "Depending on the scale of the data, it may be more useful to first reduce the number of features, perhaps through LASSO or RFE.  If it's a case of a small number of rows, then we'll need to watch out for overfitting as that is especially likely with fewer observations.  Using a model like Random forest would be a good place to start, as bagging will help make the most of fewer observations\n"
   ]
  },
  {
   "cell_type": "markdown",
   "metadata": {},
   "source": [
    "### Identify the most important characteristic predicting likelihood of being jailed before age 20."
   ]
  },
  {
   "cell_type": "markdown",
   "metadata": {},
   "source": [
    "This is ultimately a question of feature selection, identifying the features (characteristics) with the greatest predictive power towards the target.  Since the outcome/target is a classification question (a yes or no of jail before age 20), a simple Gaussian Naive Bayes classifier model would be a good start.  Then Recursive Feature Elimination would allow for a ranking of features, thereby identifying the most important.\n"
   ]
  },
  {
   "cell_type": "markdown",
   "metadata": {},
   "source": [
    "### Implement a filter to “highlight” emails that might be important to the recipient"
   ]
  },
  {
   "cell_type": "markdown",
   "metadata": {},
   "source": [
    "Classification (yes or no of important) model - start with something simple like Naive Bayes.\n",
    "Depending on the data, a KNN model might work well to capture many classes with potentially overlapping data points.\n",
    "Since we're more concerned with sensitivity (catching emails that are important, rather than potentially highlighting unimportant emails), we'll check confusion matrix to minimize false positives (position 1,0 in the matrix).\n"
   ]
  },
  {
   "cell_type": "markdown",
   "metadata": {},
   "source": [
    "### You have 1000+ features."
   ]
  },
  {
   "cell_type": "markdown",
   "metadata": {},
   "source": [
    "Running a correlation test or heatmap on sub-samples of the features would be a good way to determine the amount of inter-ralation between variables.  If there seems to be more correlation than not, then PCA would be a good next step, that way we keep the data while minimizing the scale.  If features seem less correlated, then a good next step would be a feature selection method (RFE, LASSO) to try to narrow down columns and remove those with no predictive power for the target"
   ]
  },
  {
   "cell_type": "markdown",
   "metadata": {},
   "source": [
    "### Predict whether someone who adds items to their cart on a website will purchase the items."
   ]
  },
  {
   "cell_type": "markdown",
   "metadata": {},
   "source": [
    "A KNN model seems a good place to start, weighting data from the individual shopper (have they historically purchased items in their cart) when possible.  Weigting data about prior purchasers and cart-adders of the items in the cart would also be worth a try - have other shoppers who have added these items to their carts buy the items.  This would involve exploring combinations of items in the cart as well as each individual item on it's own, so creating features for the individual items and the combination of combinations. This will account for the behaviors of this shopper and shoppers of these items."
   ]
  },
  {
   "cell_type": "markdown",
   "metadata": {},
   "source": [
    "### Your dataset dimensions are 982400 x 500"
   ]
  },
  {
   "cell_type": "markdown",
   "metadata": {},
   "source": [
    "Running LASSO for feature selection on samples of the dataset would help to focus in on the significant columns. The large number of observations provides opportunity for larger training and test groups, but starting with a smaller sample to get a sense of the data would make for faster processing.\n"
   ]
  },
  {
   "cell_type": "markdown",
   "metadata": {},
   "source": [
    "### Identify faces in an image"
   ]
  },
  {
   "cell_type": "markdown",
   "metadata": {},
   "source": [
    "There's a good tutorial on this problem at https://medium.com/@ageitgey/machine-learning-is-fun-part-4-modern-face-recognition-with-deep-learning-c3cffc121d78, but it includes tools I am unfamiliar with.\n",
    "\n",
    "Here are the steps: <br>\n",
    "Find faces<br>\n",
    "Find facial features (eyes, nose, mouth, etc)<br>\n",
    "Describe features (take measurements)<br>\n",
    "Compare measurements to measurements of known faces and find a match<br>\n"
   ]
  },
  {
   "cell_type": "markdown",
   "metadata": {},
   "source": [
    "### Predict which of three flavors of ice cream will be most popular with boys vs girls."
   ]
  },
  {
   "cell_type": "markdown",
   "metadata": {},
   "source": [
    "Since this is multi-class classification (classification of each gender as one of the three options of ice cream flavors, that which is most popular with that gender), we need a classification model.  Which model I would start with would depend on the data available. Is the question as broad as it sounds - which flavor is most popular with all boys and all girls? - or is this in a specific context or group?\n",
    "\n",
    "The simplest solution is to take the value counts of each flavor by gender and predict the most popular within the provided data.\n"
   ]
  }
 ],
 "metadata": {
  "kernelspec": {
   "display_name": "Python 3",
   "language": "python",
   "name": "python3"
  },
  "language_info": {
   "codemirror_mode": {
    "name": "ipython",
    "version": 3
   },
   "file_extension": ".py",
   "mimetype": "text/x-python",
   "name": "python",
   "nbconvert_exporter": "python",
   "pygments_lexer": "ipython3",
   "version": "3.6.1"
  }
 },
 "nbformat": 4,
 "nbformat_minor": 2
}
