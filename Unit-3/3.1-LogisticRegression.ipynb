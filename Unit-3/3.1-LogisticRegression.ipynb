{
 "cells": [
  {
   "cell_type": "markdown",
   "metadata": {},
   "source": [
    "The ability to clearly communicate results like this is a key skill of the data scientist. Your data and models are worthless unless people understand them well enough to act.\n",
    "\n",
    "Imagine you ran a binary logistic regression predicting likelihood of developing a hearing problem, using age in years and male (0=female, 1=male) as predictors. Your final model looks like this:\n",
    "\n",
    "logit(HasHearingProblem)=−1+.02∗age+1∗male\n",
    "logit(HasHearingProblem)=−1+.02∗age+1∗male\n",
    " \n",
    "Write out a description of the effects that age and gender have on the odds of developing hearing problems in terms a layperson could understand. Include estimates for the odds of hearing problems in a 95 year old woman and a 50 year old man. Discuss your interpretation with your mentor."
   ]
  },
  {
   "cell_type": "code",
   "execution_count": 1,
   "metadata": {},
   "outputs": [
    {
     "data": {
      "text/plain": [
       "0.9000000000000001"
      ]
     },
     "execution_count": 1,
     "metadata": {},
     "output_type": "execute_result"
    }
   ],
   "source": [
    "#estimate for the odds of hearing problems in a 95 year old woman\n",
    "-1 + (0.02 * 95) + (1 * 0)"
   ]
  },
  {
   "cell_type": "markdown",
   "metadata": {},
   "source": [
    "A ninety-five year old woman has slightly better than even odds of having a hearing problem."
   ]
  },
  {
   "cell_type": "code",
   "execution_count": 2,
   "metadata": {},
   "outputs": [
    {
     "data": {
      "text/plain": [
       "1.0"
      ]
     },
     "execution_count": 2,
     "metadata": {},
     "output_type": "execute_result"
    }
   ],
   "source": [
    "#estimate for the odds of hearing problems in a 50 year old man\n",
    "-1 + (0.02 * 50) + (1 * 1)"
   ]
  },
  {
   "cell_type": "markdown",
   "metadata": {},
   "source": [
    "A fifty year old man has even odds of having a hearing problem."
   ]
  },
  {
   "cell_type": "markdown",
   "metadata": {},
   "source": [
    "Gender has a much stronger effect on the likelihood of having hearing problems than age.  Being female does not impact the likelihood of a hearing problem, while being male increases the odds.  Age has a small impact on the likelihood of hearing problems.  A 50-year-old man has 10% greater odds of having a hearing problem than a 95-year-old woman."
   ]
  }
 ],
 "metadata": {
  "kernelspec": {
   "display_name": "Python 3",
   "language": "python",
   "name": "python3"
  },
  "language_info": {
   "codemirror_mode": {
    "name": "ipython",
    "version": 3
   },
   "file_extension": ".py",
   "mimetype": "text/x-python",
   "name": "python",
   "nbconvert_exporter": "python",
   "pygments_lexer": "ipython3",
   "version": "3.6.1"
  }
 },
 "nbformat": 4,
 "nbformat_minor": 2
}
