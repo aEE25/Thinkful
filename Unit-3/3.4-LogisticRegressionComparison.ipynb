{
 "cells": [
  {
   "cell_type": "raw",
   "metadata": {},
   "source": [
    "Pick a dataset of your choice with a binary outcome and the potential for at least 15 features. \n",
    "\n",
    "Engineer your features, then create three models. Each model will be run on a training set and a test-set (or multiple test-sets, if you take a folds approach). The models should be:\n",
    "\n",
    "Vanilla logistic regression\n",
    "Ridge logistic regression\n",
    "Lasso logistic regression"
   ]
  },
  {
   "cell_type": "code",
   "execution_count": 1,
   "metadata": {},
   "outputs": [],
   "source": [
    "import pandas as pd\n",
    "import numpy as np\n",
    "import matplotlib.pyplot as plt\n",
    "%matplotlib inline\n",
    "import seaborn as sns\n",
    "import sklearn\n",
    "from sklearn.model_selection import cross_val_score\n",
    "from sklearn.linear_model import LogisticRegression\n",
    "from sklearn import linear_model\n",
    "from sklearn import preprocessing\n",
    "import time"
   ]
  },
  {
   "cell_type": "markdown",
   "metadata": {},
   "source": [
    "# Data"
   ]
  },
  {
   "cell_type": "code",
   "execution_count": 2,
   "metadata": {},
   "outputs": [],
   "source": [
    "# Medical Insurance Cost dataset from https://www.kaggle.com/mirichoi0218/insurance\n",
    "insurance = pd.read_csv('~/Desktop/Data_Science/insurance.csv')"
   ]
  },
  {
   "cell_type": "code",
   "execution_count": 3,
   "metadata": {},
   "outputs": [
    {
     "data": {
      "text/html": [
       "<div>\n",
       "<style scoped>\n",
       "    .dataframe tbody tr th:only-of-type {\n",
       "        vertical-align: middle;\n",
       "    }\n",
       "\n",
       "    .dataframe tbody tr th {\n",
       "        vertical-align: top;\n",
       "    }\n",
       "\n",
       "    .dataframe thead th {\n",
       "        text-align: right;\n",
       "    }\n",
       "</style>\n",
       "<table border=\"1\" class=\"dataframe\">\n",
       "  <thead>\n",
       "    <tr style=\"text-align: right;\">\n",
       "      <th></th>\n",
       "      <th>age</th>\n",
       "      <th>sex</th>\n",
       "      <th>bmi</th>\n",
       "      <th>children</th>\n",
       "      <th>smoker</th>\n",
       "      <th>region</th>\n",
       "      <th>charges</th>\n",
       "    </tr>\n",
       "  </thead>\n",
       "  <tbody>\n",
       "    <tr>\n",
       "      <th>0</th>\n",
       "      <td>19</td>\n",
       "      <td>female</td>\n",
       "      <td>27.900</td>\n",
       "      <td>0</td>\n",
       "      <td>yes</td>\n",
       "      <td>southwest</td>\n",
       "      <td>16884.92400</td>\n",
       "    </tr>\n",
       "    <tr>\n",
       "      <th>1</th>\n",
       "      <td>18</td>\n",
       "      <td>male</td>\n",
       "      <td>33.770</td>\n",
       "      <td>1</td>\n",
       "      <td>no</td>\n",
       "      <td>southeast</td>\n",
       "      <td>1725.55230</td>\n",
       "    </tr>\n",
       "    <tr>\n",
       "      <th>2</th>\n",
       "      <td>28</td>\n",
       "      <td>male</td>\n",
       "      <td>33.000</td>\n",
       "      <td>3</td>\n",
       "      <td>no</td>\n",
       "      <td>southeast</td>\n",
       "      <td>4449.46200</td>\n",
       "    </tr>\n",
       "    <tr>\n",
       "      <th>3</th>\n",
       "      <td>33</td>\n",
       "      <td>male</td>\n",
       "      <td>22.705</td>\n",
       "      <td>0</td>\n",
       "      <td>no</td>\n",
       "      <td>northwest</td>\n",
       "      <td>21984.47061</td>\n",
       "    </tr>\n",
       "    <tr>\n",
       "      <th>4</th>\n",
       "      <td>32</td>\n",
       "      <td>male</td>\n",
       "      <td>28.880</td>\n",
       "      <td>0</td>\n",
       "      <td>no</td>\n",
       "      <td>northwest</td>\n",
       "      <td>3866.85520</td>\n",
       "    </tr>\n",
       "  </tbody>\n",
       "</table>\n",
       "</div>"
      ],
      "text/plain": [
       "   age     sex     bmi  children smoker     region      charges\n",
       "0   19  female  27.900         0    yes  southwest  16884.92400\n",
       "1   18    male  33.770         1     no  southeast   1725.55230\n",
       "2   28    male  33.000         3     no  southeast   4449.46200\n",
       "3   33    male  22.705         0     no  northwest  21984.47061\n",
       "4   32    male  28.880         0     no  northwest   3866.85520"
      ]
     },
     "execution_count": 3,
     "metadata": {},
     "output_type": "execute_result"
    }
   ],
   "source": [
    "insurance.head()"
   ]
  },
  {
   "cell_type": "code",
   "execution_count": 4,
   "metadata": {},
   "outputs": [
    {
     "data": {
      "text/html": [
       "<div>\n",
       "<style scoped>\n",
       "    .dataframe tbody tr th:only-of-type {\n",
       "        vertical-align: middle;\n",
       "    }\n",
       "\n",
       "    .dataframe tbody tr th {\n",
       "        vertical-align: top;\n",
       "    }\n",
       "\n",
       "    .dataframe thead th {\n",
       "        text-align: right;\n",
       "    }\n",
       "</style>\n",
       "<table border=\"1\" class=\"dataframe\">\n",
       "  <thead>\n",
       "    <tr style=\"text-align: right;\">\n",
       "      <th></th>\n",
       "      <th>age</th>\n",
       "      <th>bmi</th>\n",
       "      <th>children</th>\n",
       "      <th>charges</th>\n",
       "    </tr>\n",
       "  </thead>\n",
       "  <tbody>\n",
       "    <tr>\n",
       "      <th>count</th>\n",
       "      <td>1338.000000</td>\n",
       "      <td>1338.000000</td>\n",
       "      <td>1338.000000</td>\n",
       "      <td>1338.000000</td>\n",
       "    </tr>\n",
       "    <tr>\n",
       "      <th>mean</th>\n",
       "      <td>39.207025</td>\n",
       "      <td>30.663397</td>\n",
       "      <td>1.094918</td>\n",
       "      <td>13270.422265</td>\n",
       "    </tr>\n",
       "    <tr>\n",
       "      <th>std</th>\n",
       "      <td>14.049960</td>\n",
       "      <td>6.098187</td>\n",
       "      <td>1.205493</td>\n",
       "      <td>12110.011237</td>\n",
       "    </tr>\n",
       "    <tr>\n",
       "      <th>min</th>\n",
       "      <td>18.000000</td>\n",
       "      <td>15.960000</td>\n",
       "      <td>0.000000</td>\n",
       "      <td>1121.873900</td>\n",
       "    </tr>\n",
       "    <tr>\n",
       "      <th>25%</th>\n",
       "      <td>27.000000</td>\n",
       "      <td>26.296250</td>\n",
       "      <td>0.000000</td>\n",
       "      <td>4740.287150</td>\n",
       "    </tr>\n",
       "    <tr>\n",
       "      <th>50%</th>\n",
       "      <td>39.000000</td>\n",
       "      <td>30.400000</td>\n",
       "      <td>1.000000</td>\n",
       "      <td>9382.033000</td>\n",
       "    </tr>\n",
       "    <tr>\n",
       "      <th>75%</th>\n",
       "      <td>51.000000</td>\n",
       "      <td>34.693750</td>\n",
       "      <td>2.000000</td>\n",
       "      <td>16639.912515</td>\n",
       "    </tr>\n",
       "    <tr>\n",
       "      <th>max</th>\n",
       "      <td>64.000000</td>\n",
       "      <td>53.130000</td>\n",
       "      <td>5.000000</td>\n",
       "      <td>63770.428010</td>\n",
       "    </tr>\n",
       "  </tbody>\n",
       "</table>\n",
       "</div>"
      ],
      "text/plain": [
       "               age          bmi     children       charges\n",
       "count  1338.000000  1338.000000  1338.000000   1338.000000\n",
       "mean     39.207025    30.663397     1.094918  13270.422265\n",
       "std      14.049960     6.098187     1.205493  12110.011237\n",
       "min      18.000000    15.960000     0.000000   1121.873900\n",
       "25%      27.000000    26.296250     0.000000   4740.287150\n",
       "50%      39.000000    30.400000     1.000000   9382.033000\n",
       "75%      51.000000    34.693750     2.000000  16639.912515\n",
       "max      64.000000    53.130000     5.000000  63770.428010"
      ]
     },
     "execution_count": 4,
     "metadata": {},
     "output_type": "execute_result"
    }
   ],
   "source": [
    "insurance.describe()"
   ]
  },
  {
   "cell_type": "code",
   "execution_count": 5,
   "metadata": {},
   "outputs": [
    {
     "data": {
      "text/plain": [
       "(1338, 7)"
      ]
     },
     "execution_count": 5,
     "metadata": {},
     "output_type": "execute_result"
    }
   ],
   "source": [
    "insurance.shape"
   ]
  },
  {
   "cell_type": "markdown",
   "metadata": {},
   "source": [
    "## Features"
   ]
  },
  {
   "cell_type": "markdown",
   "metadata": {},
   "source": [
    "### Age"
   ]
  },
  {
   "cell_type": "code",
   "execution_count": 6,
   "metadata": {},
   "outputs": [
    {
     "data": {
      "image/png": "[encoded data removed]",
      "text/plain": [
       "<Figure size 1080x360 with 2 Axes>"
      ]
     },
     "metadata": {},
     "output_type": "display_data"
    }
   ],
   "source": [
    "plt.figure(figsize=(15, 5))\n",
    "\n",
    "plt.subplot(1, 2, 1)\n",
    "plt.boxplot(insurance['age'].dropna(how = 'any'))\n",
    "plt.title('Age Boxplot')\n",
    "\n",
    "plt.subplot(1, 2, 2)\n",
    "plt.hist(insurance['age'].dropna(how = 'any'), bins=20)\n",
    "plt.axvline(insurance['age'].mean(), color='c', linestyle='solid', linewidth=2, label=\"Mean\")\n",
    "plt.legend(loc='upper left') \n",
    "plt.title('Age Histogram')\n",
    "\n",
    "plt.show()"
   ]
  },
  {
   "cell_type": "markdown",
   "metadata": {},
   "source": [
    "Ages range from 18 to 64 - adults before medicare age.  The average age is 39, which is below the mid-point of the age range, mostly due the greatest number of records for those under age 20."
   ]
  },
  {
   "cell_type": "markdown",
   "metadata": {},
   "source": [
    "### Sex/Gender"
   ]
  },
  {
   "cell_type": "code",
   "execution_count": 7,
   "metadata": {},
   "outputs": [
    {
     "name": "stdout",
     "output_type": "stream",
     "text": [
      "male      676\n",
      "female    662\n",
      "Name: sex, dtype: int64\n"
     ]
    },
    {
     "data": {
      "image/png": "[encoded data removed]",
      "text/plain": [
       "<Figure size 432x288 with 1 Axes>"
      ]
     },
     "metadata": {},
     "output_type": "display_data"
    }
   ],
   "source": [
    "plt.title('Gender Counts')\n",
    "pd.value_counts(insurance['sex']).plot.bar()\n",
    "plt.xticks(rotation = 0)\n",
    "print(insurance['sex'].value_counts())"
   ]
  },
  {
   "cell_type": "markdown",
   "metadata": {},
   "source": [
    "Nearly equal number of male and female records, just 14 more male records than female."
   ]
  },
  {
   "cell_type": "code",
   "execution_count": 8,
   "metadata": {},
   "outputs": [],
   "source": [
    "#Convert to numeric\n",
    "insurance['male_gender'] = 0\n",
    "insurance.loc[insurance['sex'] == 'male', 'male_gender'] = 1\n",
    "\n",
    "#Delete original 'sex' variable\n",
    "insurance = insurance.drop('sex', 1)"
   ]
  },
  {
   "cell_type": "code",
   "execution_count": 9,
   "metadata": {},
   "outputs": [
    {
     "data": {
      "text/plain": [
       "(array([0, 1]), <a list of 2 Text xticklabel objects>)"
      ]
     },
     "execution_count": 9,
     "metadata": {},
     "output_type": "execute_result"
    },
    {
     "data": {
      "image/png": "[encoded data removed]",
      "text/plain": [
       "<Figure size 432x288 with 1 Axes>"
      ]
     },
     "metadata": {},
     "output_type": "display_data"
    }
   ],
   "source": [
    "plt.title('Male Gender Counts')\n",
    "pd.value_counts(insurance['male_gender']).plot.bar()\n",
    "plt.xticks(rotation = 0)"
   ]
  },
  {
   "cell_type": "markdown",
   "metadata": {},
   "source": [
    "### BMI/Obesity"
   ]
  },
  {
   "cell_type": "code",
   "execution_count": 10,
   "metadata": {},
   "outputs": [
    {
     "data": {
      "image/png": "[encoded data removed]",
      "text/plain": [
       "<Figure size 1080x360 with 2 Axes>"
      ]
     },
     "metadata": {},
     "output_type": "display_data"
    }
   ],
   "source": [
    "plt.figure(figsize=(15, 5))\n",
    "\n",
    "plt.subplot(1, 2, 1)\n",
    "plt.boxplot(insurance['bmi'].dropna(how = 'any'))\n",
    "plt.title('BMI Boxplot')\n",
    "\n",
    "plt.subplot(1, 2, 2)\n",
    "plt.hist(insurance['bmi'].dropna(how = 'any'), bins=20)\n",
    "plt.axvline(insurance['bmi'].mean(), color='c', linestyle='solid', linewidth=2, label=\"Mean\")\n",
    "plt.legend(loc='upper left') \n",
    "plt.title('BMI Histogram')\n",
    "\n",
    "plt.show()"
   ]
  },
  {
   "cell_type": "markdown",
   "metadata": {},
   "source": [
    "Normal distribution of values, with a median of 31.7\n",
    "\n",
    "According to Wikipedia, the body mass index (BMI) is a value derived from the weight and height of an individual. Commonly accepted BMI ranges are underweight: under 18.5 kg/m2, normal weight: 18.5 to 25, overweight: 25 to 30, obese: over 30.  This means that most of these records are for individuals considered to have an unhealthy weight for their height."
   ]
  },
  {
   "cell_type": "code",
   "execution_count": 11,
   "metadata": {},
   "outputs": [],
   "source": [
    "#Create new binary variable for Obesity\n",
    "insurance['obesity'] = 0\n",
    "insurance.loc[insurance['bmi'] > 30, 'obesity'] = 1"
   ]
  },
  {
   "cell_type": "code",
   "execution_count": 12,
   "metadata": {},
   "outputs": [
    {
     "data": {
      "image/png": "[encoded data removed]",
      "text/plain": [
       "<Figure size 432x288 with 1 Axes>"
      ]
     },
     "metadata": {},
     "output_type": "display_data"
    }
   ],
   "source": [
    "plt.title('Obesity Counts')\n",
    "pd.value_counts(insurance['obesity']).plot.bar()\n",
    "plt.xticks(rotation = 0)\n",
    "plt.show()"
   ]
  },
  {
   "cell_type": "markdown",
   "metadata": {},
   "source": [
    "### Children"
   ]
  },
  {
   "cell_type": "code",
   "execution_count": 13,
   "metadata": {},
   "outputs": [
    {
     "data": {
      "image/png": "[encoded data removed]",
      "text/plain": [
       "<Figure size 1080x360 with 2 Axes>"
      ]
     },
     "metadata": {},
     "output_type": "display_data"
    }
   ],
   "source": [
    "plt.figure(figsize=(15, 5))\n",
    "\n",
    "plt.subplot(1, 2, 1)\n",
    "plt.boxplot(insurance['children'].dropna(how = 'any'))\n",
    "plt.title('Number of Children Boxplot')\n",
    "\n",
    "plt.subplot(1, 2, 2)\n",
    "plt.title('Children Counts')\n",
    "pd.value_counts(insurance['children']).plot.bar()\n",
    "plt.xticks(rotation = 0)\n",
    "\n",
    "plt.show()"
   ]
  },
  {
   "cell_type": "markdown",
   "metadata": {},
   "source": [
    "More records are for individuals with children than not, but the most frequent number of children is none.<br>\n",
    "Let's make a new boolean feature that captures whether the record is for a parent."
   ]
  },
  {
   "cell_type": "code",
   "execution_count": 14,
   "metadata": {},
   "outputs": [],
   "source": [
    "#create binary parent feature\n",
    "insurance['parent'] = 0\n",
    "insurance.loc[insurance['children'] > 0, 'parent'] = 1"
   ]
  },
  {
   "cell_type": "code",
   "execution_count": 15,
   "metadata": {},
   "outputs": [
    {
     "data": {
      "text/plain": [
       "(array([0, 1]), <a list of 2 Text xticklabel objects>)"
      ]
     },
     "execution_count": 15,
     "metadata": {},
     "output_type": "execute_result"
    },
    {
     "data": {
      "image/png": "[encoded data removed]",
      "text/plain": [
       "<Figure size 432x288 with 1 Axes>"
      ]
     },
     "metadata": {},
     "output_type": "display_data"
    }
   ],
   "source": [
    "plt.title('Parent Counts')\n",
    "pd.value_counts(insurance['parent']).plot.bar()\n",
    "plt.xticks(rotation = 0)"
   ]
  },
  {
   "cell_type": "markdown",
   "metadata": {},
   "source": [
    "### Smoker"
   ]
  },
  {
   "cell_type": "code",
   "execution_count": 16,
   "metadata": {},
   "outputs": [
    {
     "name": "stdout",
     "output_type": "stream",
     "text": [
      "yes     274\n",
      "no     1064\n",
      "dtype: int64\n"
     ]
    },
    {
     "data": {
      "image/png": "[encoded data removed]",
      "text/plain": [
       "<Figure size 432x288 with 1 Axes>"
      ]
     },
     "metadata": {},
     "output_type": "display_data"
    }
   ],
   "source": [
    "plt.title('Smoker Counts')\n",
    "pd.value_counts(insurance['smoker']).plot.bar()\n",
    "plt.xticks(rotation = 0)\n",
    "print(pd.value_counts(insurance['smoker'].values, sort=False))"
   ]
  },
  {
   "cell_type": "markdown",
   "metadata": {},
   "source": [
    "There are more non-smokers (1064) than smokers (274)"
   ]
  },
  {
   "cell_type": "code",
   "execution_count": 17,
   "metadata": {},
   "outputs": [],
   "source": [
    "#Convert to numeric\n",
    "insurance['smoke'] = 0\n",
    "insurance.loc[insurance['smoker'] == 'yes', 'smoke'] = 1\n",
    "\n",
    "#Delete original 'smoker' variable\n",
    "insurance = insurance.drop('smoker', 1)"
   ]
  },
  {
   "cell_type": "code",
   "execution_count": 18,
   "metadata": {},
   "outputs": [
    {
     "name": "stdout",
     "output_type": "stream",
     "text": [
      "0    1064\n",
      "1     274\n",
      "dtype: int64\n"
     ]
    },
    {
     "data": {
      "image/png": "[encoded data removed]",
      "text/plain": [
       "<Figure size 432x288 with 1 Axes>"
      ]
     },
     "metadata": {},
     "output_type": "display_data"
    }
   ],
   "source": [
    "plt.title('Smoker Counts')\n",
    "pd.value_counts(insurance['smoke']).plot.bar()\n",
    "plt.xticks(rotation = 0)\n",
    "print(pd.value_counts(insurance['smoke'].values, sort=False))"
   ]
  },
  {
   "cell_type": "markdown",
   "metadata": {},
   "source": [
    "### Region"
   ]
  },
  {
   "cell_type": "code",
   "execution_count": 19,
   "metadata": {},
   "outputs": [
    {
     "data": {
      "text/plain": [
       "(array([0, 1, 2, 3]), <a list of 4 Text xticklabel objects>)"
      ]
     },
     "execution_count": 19,
     "metadata": {},
     "output_type": "execute_result"
    },
    {
     "data": {
      "image/png": "[encoded data removed]",
      "text/plain": [
       "<Figure size 432x288 with 1 Axes>"
      ]
     },
     "metadata": {},
     "output_type": "display_data"
    }
   ],
   "source": [
    "plt.title('Region Counts')\n",
    "pd.value_counts(insurance['region']).plot.bar()\n",
    "plt.xticks(rotation = 0)"
   ]
  },
  {
   "cell_type": "markdown",
   "metadata": {},
   "source": [
    "There are an equal number of records from the Northwest, Northeast and Southwest, and slightly more records from the Southeast."
   ]
  },
  {
   "cell_type": "code",
   "execution_count": 20,
   "metadata": {},
   "outputs": [],
   "source": [
    "#Convert to numeric\n",
    "insurance['south'] = 0\n",
    "insurance.loc[insurance['region'].str.contains(\"south\", na=False), 'south'] = 1\n",
    "insurance['east'] = 0\n",
    "insurance.loc[insurance['region'].str.contains(\"east\", na=False), 'east'] = 1\n",
    "\n",
    "#Delete original 'smoker' variable\n",
    "insurance = insurance.drop('region', 1)"
   ]
  },
  {
   "cell_type": "code",
   "execution_count": 21,
   "metadata": {},
   "outputs": [
    {
     "data": {
      "text/plain": [
       "<matplotlib.axes._subplots.AxesSubplot at 0x114899470>"
      ]
     },
     "execution_count": 21,
     "metadata": {},
     "output_type": "execute_result"
    },
    {
     "data": {
      "image/png": "[encoded data removed]",
      "text/plain": [
       "<Figure size 432x288 with 1 Axes>"
      ]
     },
     "metadata": {},
     "output_type": "display_data"
    }
   ],
   "source": [
    "import seaborn as sns\n",
    "plt.title('Location Counts for South by East')\n",
    "sns.countplot(x='south', hue='east', data=insurance)"
   ]
  },
  {
   "cell_type": "markdown",
   "metadata": {},
   "source": [
    "### Charges"
   ]
  },
  {
   "cell_type": "code",
   "execution_count": 22,
   "metadata": {},
   "outputs": [
    {
     "data": {
      "image/png": "[encoded data removed]",
      "text/plain": [
       "<Figure size 1080x360 with 2 Axes>"
      ]
     },
     "metadata": {},
     "output_type": "display_data"
    }
   ],
   "source": [
    "plt.figure(figsize=(15, 5))\n",
    "\n",
    "plt.subplot(1, 2, 1)\n",
    "plt.boxplot(insurance['charges'].dropna(how = 'any'))\n",
    "plt.title('Amount of Charges Boxplot')\n",
    "\n",
    "plt.subplot(1, 2, 2)\n",
    "plt.hist(insurance['charges'].dropna(how = 'any'), bins=20)\n",
    "plt.axvline(insurance['charges'].mean(), color='c', linestyle='solid', linewidth=2, label=\"Mean\")\n",
    "plt.legend(loc='upper left') \n",
    "plt.title('Amount of Charges Histogram')\n",
    "\n",
    "plt.show()"
   ]
  },
  {
   "cell_type": "markdown",
   "metadata": {},
   "source": [
    "Heavily left-skewed data with a mean of $13,270. Outliers range up to $63,770.\n",
    "\n",
    "Let's try a log of the Charges variable to get a more normally distributed feature."
   ]
  },
  {
   "cell_type": "code",
   "execution_count": 23,
   "metadata": {},
   "outputs": [],
   "source": [
    "#create feature by taking log if insurance variable\n",
    "insurance['charges_log'] = np.log(insurance['charges'])"
   ]
  },
  {
   "cell_type": "code",
   "execution_count": 24,
   "metadata": {},
   "outputs": [
    {
     "data": {
      "image/png": "[encoded data removed]",
      "text/plain": [
       "<Figure size 1080x360 with 2 Axes>"
      ]
     },
     "metadata": {},
     "output_type": "display_data"
    }
   ],
   "source": [
    "#visualize new feature\n",
    "plt.figure(figsize=(15, 5))\n",
    "\n",
    "plt.subplot(1, 2, 1)\n",
    "plt.boxplot(insurance['charges_log'].dropna(how = 'any'))\n",
    "plt.title('Log of Charges Boxplot')\n",
    "\n",
    "plt.subplot(1, 2, 2)\n",
    "plt.hist(insurance['charges_log'].dropna(how = 'any'), bins=20)\n",
    "plt.axvline(insurance['charges_log'].mean(), color='c', linestyle='solid', linewidth=2, label=\"Mean\")\n",
    "plt.legend(loc='upper left') \n",
    "plt.title('Log of Charges Histogram')\n",
    "\n",
    "plt.show()"
   ]
  },
  {
   "cell_type": "markdown",
   "metadata": {},
   "source": [
    "That looks like a more useful feature - no more outliers and the distribution is much closer to normal\n",
    "\n",
    "Let's also consider a binary variable the groups charges as above or below the mean"
   ]
  },
  {
   "cell_type": "code",
   "execution_count": 25,
   "metadata": {},
   "outputs": [],
   "source": [
    "#Create binary charges variable based on mean\n",
    "insurance['high_charge'] = 0\n",
    "insurance.loc[insurance['charges'] > insurance['charges'].mean(), 'high_charge'] = 1"
   ]
  },
  {
   "cell_type": "code",
   "execution_count": 26,
   "metadata": {},
   "outputs": [
    {
     "name": "stdout",
     "output_type": "stream",
     "text": [
      "0    918\n",
      "1    420\n",
      "dtype: int64\n"
     ]
    },
    {
     "data": {
      "image/png": "[encoded data removed]",
      "text/plain": [
       "<Figure size 432x288 with 1 Axes>"
      ]
     },
     "metadata": {},
     "output_type": "display_data"
    }
   ],
   "source": [
    "plt.title('Counts of High Charges')\n",
    "pd.value_counts(insurance['high_charge']).plot.bar()\n",
    "plt.xticks(rotation = 0)\n",
    "print(pd.value_counts(insurance['high_charge'].values, sort=False))"
   ]
  },
  {
   "cell_type": "markdown",
   "metadata": {},
   "source": [
    "### Recap Data"
   ]
  },
  {
   "cell_type": "code",
   "execution_count": 27,
   "metadata": {},
   "outputs": [
    {
     "data": {
      "text/html": [
       "<div>\n",
       "<style scoped>\n",
       "    .dataframe tbody tr th:only-of-type {\n",
       "        vertical-align: middle;\n",
       "    }\n",
       "\n",
       "    .dataframe tbody tr th {\n",
       "        vertical-align: top;\n",
       "    }\n",
       "\n",
       "    .dataframe thead th {\n",
       "        text-align: right;\n",
       "    }\n",
       "</style>\n",
       "<table border=\"1\" class=\"dataframe\">\n",
       "  <thead>\n",
       "    <tr style=\"text-align: right;\">\n",
       "      <th></th>\n",
       "      <th>age</th>\n",
       "      <th>bmi</th>\n",
       "      <th>children</th>\n",
       "      <th>charges</th>\n",
       "      <th>male_gender</th>\n",
       "      <th>obesity</th>\n",
       "      <th>parent</th>\n",
       "      <th>smoke</th>\n",
       "      <th>south</th>\n",
       "      <th>east</th>\n",
       "      <th>charges_log</th>\n",
       "      <th>high_charge</th>\n",
       "    </tr>\n",
       "  </thead>\n",
       "  <tbody>\n",
       "    <tr>\n",
       "      <th>0</th>\n",
       "      <td>19</td>\n",
       "      <td>27.900</td>\n",
       "      <td>0</td>\n",
       "      <td>16884.92400</td>\n",
       "      <td>0</td>\n",
       "      <td>0</td>\n",
       "      <td>0</td>\n",
       "      <td>1</td>\n",
       "      <td>1</td>\n",
       "      <td>0</td>\n",
       "      <td>9.734176</td>\n",
       "      <td>1</td>\n",
       "    </tr>\n",
       "    <tr>\n",
       "      <th>1</th>\n",
       "      <td>18</td>\n",
       "      <td>33.770</td>\n",
       "      <td>1</td>\n",
       "      <td>1725.55230</td>\n",
       "      <td>1</td>\n",
       "      <td>1</td>\n",
       "      <td>1</td>\n",
       "      <td>0</td>\n",
       "      <td>1</td>\n",
       "      <td>1</td>\n",
       "      <td>7.453302</td>\n",
       "      <td>0</td>\n",
       "    </tr>\n",
       "    <tr>\n",
       "      <th>2</th>\n",
       "      <td>28</td>\n",
       "      <td>33.000</td>\n",
       "      <td>3</td>\n",
       "      <td>4449.46200</td>\n",
       "      <td>1</td>\n",
       "      <td>1</td>\n",
       "      <td>1</td>\n",
       "      <td>0</td>\n",
       "      <td>1</td>\n",
       "      <td>1</td>\n",
       "      <td>8.400538</td>\n",
       "      <td>0</td>\n",
       "    </tr>\n",
       "    <tr>\n",
       "      <th>3</th>\n",
       "      <td>33</td>\n",
       "      <td>22.705</td>\n",
       "      <td>0</td>\n",
       "      <td>21984.47061</td>\n",
       "      <td>1</td>\n",
       "      <td>0</td>\n",
       "      <td>0</td>\n",
       "      <td>0</td>\n",
       "      <td>0</td>\n",
       "      <td>0</td>\n",
       "      <td>9.998092</td>\n",
       "      <td>1</td>\n",
       "    </tr>\n",
       "    <tr>\n",
       "      <th>4</th>\n",
       "      <td>32</td>\n",
       "      <td>28.880</td>\n",
       "      <td>0</td>\n",
       "      <td>3866.85520</td>\n",
       "      <td>1</td>\n",
       "      <td>0</td>\n",
       "      <td>0</td>\n",
       "      <td>0</td>\n",
       "      <td>0</td>\n",
       "      <td>0</td>\n",
       "      <td>8.260197</td>\n",
       "      <td>0</td>\n",
       "    </tr>\n",
       "  </tbody>\n",
       "</table>\n",
       "</div>"
      ],
      "text/plain": [
       "   age     bmi  children      charges  male_gender  obesity  parent  smoke  \\\n",
       "0   19  27.900         0  16884.92400            0        0       0      1   \n",
       "1   18  33.770         1   1725.55230            1        1       1      0   \n",
       "2   28  33.000         3   4449.46200            1        1       1      0   \n",
       "3   33  22.705         0  21984.47061            1        0       0      0   \n",
       "4   32  28.880         0   3866.85520            1        0       0      0   \n",
       "\n",
       "   south  east  charges_log  high_charge  \n",
       "0      1     0     9.734176            1  \n",
       "1      1     1     7.453302            0  \n",
       "2      1     1     8.400538            0  \n",
       "3      0     0     9.998092            1  \n",
       "4      0     0     8.260197            0  "
      ]
     },
     "execution_count": 27,
     "metadata": {},
     "output_type": "execute_result"
    }
   ],
   "source": [
    "insurance.head()"
   ]
  },
  {
   "cell_type": "code",
   "execution_count": 28,
   "metadata": {},
   "outputs": [
    {
     "data": {
      "text/plain": [
       "(1338, 12)"
      ]
     },
     "execution_count": 28,
     "metadata": {},
     "output_type": "execute_result"
    }
   ],
   "source": [
    "insurance.shape"
   ]
  },
  {
   "cell_type": "code",
   "execution_count": 29,
   "metadata": {},
   "outputs": [
    {
     "data": {
      "text/html": [
       "<div>\n",
       "<style scoped>\n",
       "    .dataframe tbody tr th:only-of-type {\n",
       "        vertical-align: middle;\n",
       "    }\n",
       "\n",
       "    .dataframe tbody tr th {\n",
       "        vertical-align: top;\n",
       "    }\n",
       "\n",
       "    .dataframe thead th {\n",
       "        text-align: right;\n",
       "    }\n",
       "</style>\n",
       "<table border=\"1\" class=\"dataframe\">\n",
       "  <thead>\n",
       "    <tr style=\"text-align: right;\">\n",
       "      <th></th>\n",
       "      <th>age</th>\n",
       "      <th>bmi</th>\n",
       "      <th>children</th>\n",
       "      <th>charges</th>\n",
       "      <th>male_gender</th>\n",
       "      <th>obesity</th>\n",
       "      <th>parent</th>\n",
       "      <th>smoke</th>\n",
       "      <th>south</th>\n",
       "      <th>east</th>\n",
       "      <th>charges_log</th>\n",
       "      <th>high_charge</th>\n",
       "    </tr>\n",
       "  </thead>\n",
       "  <tbody>\n",
       "    <tr>\n",
       "      <th>count</th>\n",
       "      <td>1338.000000</td>\n",
       "      <td>1338.000000</td>\n",
       "      <td>1338.000000</td>\n",
       "      <td>1338.000000</td>\n",
       "      <td>1338.000000</td>\n",
       "      <td>1338.000000</td>\n",
       "      <td>1338.000000</td>\n",
       "      <td>1338.000000</td>\n",
       "      <td>1338.000000</td>\n",
       "      <td>1338.000000</td>\n",
       "      <td>1338.000000</td>\n",
       "      <td>1338.000000</td>\n",
       "    </tr>\n",
       "    <tr>\n",
       "      <th>mean</th>\n",
       "      <td>39.207025</td>\n",
       "      <td>30.663397</td>\n",
       "      <td>1.094918</td>\n",
       "      <td>13270.422265</td>\n",
       "      <td>0.505232</td>\n",
       "      <td>0.526906</td>\n",
       "      <td>0.571001</td>\n",
       "      <td>0.204783</td>\n",
       "      <td>0.514948</td>\n",
       "      <td>0.514200</td>\n",
       "      <td>9.098659</td>\n",
       "      <td>0.313901</td>\n",
       "    </tr>\n",
       "    <tr>\n",
       "      <th>std</th>\n",
       "      <td>14.049960</td>\n",
       "      <td>6.098187</td>\n",
       "      <td>1.205493</td>\n",
       "      <td>12110.011237</td>\n",
       "      <td>0.500160</td>\n",
       "      <td>0.499462</td>\n",
       "      <td>0.495118</td>\n",
       "      <td>0.403694</td>\n",
       "      <td>0.499963</td>\n",
       "      <td>0.499985</td>\n",
       "      <td>0.919527</td>\n",
       "      <td>0.464250</td>\n",
       "    </tr>\n",
       "    <tr>\n",
       "      <th>min</th>\n",
       "      <td>18.000000</td>\n",
       "      <td>15.960000</td>\n",
       "      <td>0.000000</td>\n",
       "      <td>1121.873900</td>\n",
       "      <td>0.000000</td>\n",
       "      <td>0.000000</td>\n",
       "      <td>0.000000</td>\n",
       "      <td>0.000000</td>\n",
       "      <td>0.000000</td>\n",
       "      <td>0.000000</td>\n",
       "      <td>7.022756</td>\n",
       "      <td>0.000000</td>\n",
       "    </tr>\n",
       "    <tr>\n",
       "      <th>25%</th>\n",
       "      <td>27.000000</td>\n",
       "      <td>26.296250</td>\n",
       "      <td>0.000000</td>\n",
       "      <td>4740.287150</td>\n",
       "      <td>0.000000</td>\n",
       "      <td>0.000000</td>\n",
       "      <td>0.000000</td>\n",
       "      <td>0.000000</td>\n",
       "      <td>0.000000</td>\n",
       "      <td>0.000000</td>\n",
       "      <td>8.463853</td>\n",
       "      <td>0.000000</td>\n",
       "    </tr>\n",
       "    <tr>\n",
       "      <th>50%</th>\n",
       "      <td>39.000000</td>\n",
       "      <td>30.400000</td>\n",
       "      <td>1.000000</td>\n",
       "      <td>9382.033000</td>\n",
       "      <td>1.000000</td>\n",
       "      <td>1.000000</td>\n",
       "      <td>1.000000</td>\n",
       "      <td>0.000000</td>\n",
       "      <td>1.000000</td>\n",
       "      <td>1.000000</td>\n",
       "      <td>9.146552</td>\n",
       "      <td>0.000000</td>\n",
       "    </tr>\n",
       "    <tr>\n",
       "      <th>75%</th>\n",
       "      <td>51.000000</td>\n",
       "      <td>34.693750</td>\n",
       "      <td>2.000000</td>\n",
       "      <td>16639.912515</td>\n",
       "      <td>1.000000</td>\n",
       "      <td>1.000000</td>\n",
       "      <td>1.000000</td>\n",
       "      <td>0.000000</td>\n",
       "      <td>1.000000</td>\n",
       "      <td>1.000000</td>\n",
       "      <td>9.719558</td>\n",
       "      <td>1.000000</td>\n",
       "    </tr>\n",
       "    <tr>\n",
       "      <th>max</th>\n",
       "      <td>64.000000</td>\n",
       "      <td>53.130000</td>\n",
       "      <td>5.000000</td>\n",
       "      <td>63770.428010</td>\n",
       "      <td>1.000000</td>\n",
       "      <td>1.000000</td>\n",
       "      <td>1.000000</td>\n",
       "      <td>1.000000</td>\n",
       "      <td>1.000000</td>\n",
       "      <td>1.000000</td>\n",
       "      <td>11.063045</td>\n",
       "      <td>1.000000</td>\n",
       "    </tr>\n",
       "  </tbody>\n",
       "</table>\n",
       "</div>"
      ],
      "text/plain": [
       "               age          bmi     children       charges  male_gender  \\\n",
       "count  1338.000000  1338.000000  1338.000000   1338.000000  1338.000000   \n",
       "mean     39.207025    30.663397     1.094918  13270.422265     0.505232   \n",
       "std      14.049960     6.098187     1.205493  12110.011237     0.500160   \n",
       "min      18.000000    15.960000     0.000000   1121.873900     0.000000   \n",
       "25%      27.000000    26.296250     0.000000   4740.287150     0.000000   \n",
       "50%      39.000000    30.400000     1.000000   9382.033000     1.000000   \n",
       "75%      51.000000    34.693750     2.000000  16639.912515     1.000000   \n",
       "max      64.000000    53.130000     5.000000  63770.428010     1.000000   \n",
       "\n",
       "           obesity       parent        smoke        south         east  \\\n",
       "count  1338.000000  1338.000000  1338.000000  1338.000000  1338.000000   \n",
       "mean      0.526906     0.571001     0.204783     0.514948     0.514200   \n",
       "std       0.499462     0.495118     0.403694     0.499963     0.499985   \n",
       "min       0.000000     0.000000     0.000000     0.000000     0.000000   \n",
       "25%       0.000000     0.000000     0.000000     0.000000     0.000000   \n",
       "50%       1.000000     1.000000     0.000000     1.000000     1.000000   \n",
       "75%       1.000000     1.000000     0.000000     1.000000     1.000000   \n",
       "max       1.000000     1.000000     1.000000     1.000000     1.000000   \n",
       "\n",
       "       charges_log  high_charge  \n",
       "count  1338.000000  1338.000000  \n",
       "mean      9.098659     0.313901  \n",
       "std       0.919527     0.464250  \n",
       "min       7.022756     0.000000  \n",
       "25%       8.463853     0.000000  \n",
       "50%       9.146552     0.000000  \n",
       "75%       9.719558     1.000000  \n",
       "max      11.063045     1.000000  "
      ]
     },
     "execution_count": 29,
     "metadata": {},
     "output_type": "execute_result"
    }
   ],
   "source": [
    "insurance.describe()"
   ]
  },
  {
   "cell_type": "markdown",
   "metadata": {},
   "source": [
    "## Models to predict Obesity"
   ]
  },
  {
   "cell_type": "code",
   "execution_count": 30,
   "metadata": {},
   "outputs": [],
   "source": [
    "y = insurance['obesity']\n",
    "X = insurance.drop('obesity', 1)"
   ]
  },
  {
   "cell_type": "markdown",
   "metadata": {},
   "source": [
    "### Vanilla logistic regression"
   ]
  },
  {
   "cell_type": "code",
   "execution_count": 31,
   "metadata": {},
   "outputs": [
    {
     "name": "stdout",
     "output_type": "stream",
     "text": [
      "\n",
      " Accuracy by Obesity\n",
      "obesity    0    1\n",
      "row_0            \n",
      "0        605   22\n",
      "1         28  683\n",
      "\n",
      " Percentage accuracy\n",
      "0.9626307922272048\n"
     ]
    }
   ],
   "source": [
    "lr = LogisticRegression(C=1e9)\n",
    "fit = lr.fit(X, y)\n",
    "\n",
    "# Display results\n",
    "pred_y_sklearn = lr.predict(X)\n",
    "print('\\n Accuracy by Obesity')\n",
    "print(pd.crosstab(pred_y_sklearn, y))\n",
    "\n",
    "print('\\n Percentage accuracy')\n",
    "print(lr.score(X, y))"
   ]
  },
  {
   "cell_type": "code",
   "execution_count": 32,
   "metadata": {},
   "outputs": [
    {
     "name": "stdout",
     "output_type": "stream",
     "text": [
      "Cross Validation Scores:\n",
      " [0.95555556 0.96296296 0.96296296 0.93283582 0.95522388 0.96992481\n",
      " 0.96240602 0.96992481 0.98496241 0.97744361]\n",
      "\n",
      "Cross Validation mean of: 0.96 (+/- 0.01)\n"
     ]
    }
   ],
   "source": [
    "lr_score = cross_val_score(lr, X, y, cv=10)\n",
    "print(\"Cross Validation Scores:\\n\", lr_score)\n",
    "print(\"\\nCross Validation mean of: %0.2f (+/- %0.2f)\" % (lr_score.mean(), lr_score.std()))"
   ]
  },
  {
   "cell_type": "markdown",
   "metadata": {},
   "source": [
    "Logistic Regression without regularization results in an average accuracy of 96% (+/- 1)"
   ]
  },
  {
   "cell_type": "markdown",
   "metadata": {},
   "source": [
    "### Ridge logistic regression"
   ]
  },
  {
   "cell_type": "code",
   "execution_count": 33,
   "metadata": {},
   "outputs": [
    {
     "name": "stdout",
     "output_type": "stream",
     "text": [
      "    lambda_value  ridge_score       std\n",
      "0          0.001     0.827526  0.039262\n",
      "1          0.011     0.950728  0.015598\n",
      "2          0.021     0.958207  0.012854\n",
      "3          0.031     0.960440  0.011436\n",
      "4          0.041     0.961176  0.010862\n",
      "5          0.051     0.961176  0.011843\n",
      "6          0.061     0.961933  0.012112\n",
      "7          0.071     0.962668  0.009890\n",
      "8          0.081     0.963409  0.010715\n",
      "9          0.091     0.961928  0.010643\n",
      "10         0.101     0.962663  0.012423\n",
      "11         0.111     0.962668  0.012850\n",
      "12         0.121     0.963415  0.011208\n",
      "13         0.131     0.961922  0.014651\n",
      "14         0.141     0.962668  0.012850\n",
      "15         0.151     0.961922  0.014651\n",
      "16         0.161     0.961922  0.014651\n",
      "17         0.171     0.961922  0.015032\n",
      "18         0.181     0.962668  0.014480\n",
      "19         0.191     0.962668  0.014480\n",
      "20         0.201     0.962674  0.015224\n",
      "21         0.211     0.962668  0.012402\n",
      "22         0.221     0.964167  0.013187\n",
      "23         0.231     0.962674  0.015224\n",
      "24         0.241     0.961922  0.015032\n",
      "25         0.251     0.962674  0.015224\n",
      "26         0.261     0.963415  0.015400\n",
      "27         0.271     0.963415  0.011701\n",
      "28         0.281     0.962674  0.015224\n",
      "29         0.291     0.964167  0.011853\n",
      "30         0.301     0.963420  0.013458\n",
      "31         0.311     0.961917  0.014278\n",
      "32         0.321     0.963409  0.013057\n",
      "33         0.331     0.963409  0.013483\n",
      "34         0.341     0.963415  0.015400\n",
      "35         0.351     0.964161  0.013616\n",
      "36         0.361     0.962674  0.015224\n",
      "37         0.371     0.962668  0.013283\n",
      "38         0.381     0.964161  0.013616\n",
      "39         0.391     0.964161  0.013616\n"
     ]
    },
    {
     "data": {
      "image/png": "[encoded data removed]",
      "text/plain": [
       "<Figure size 1080x360 with 2 Axes>"
      ]
     },
     "metadata": {},
     "output_type": "display_data"
    }
   ],
   "source": [
    "#test lambda values\n",
    "\n",
    "r_results = pd.DataFrame()\n",
    "\n",
    "def lambda_test(value):\n",
    "    #Test lambda value in ridge model\n",
    "    ridgeregr = LogisticRegression(C=value, penalty=\"l2\")  \n",
    "    ridge_score = cross_val_score(ridgeregr, X, y, cv=10)\n",
    "    #return dataframe of r-squared for each lambda value\n",
    "    data = pd.DataFrame({\"lambda_value\": [value], \"ridge_score\": [ridge_score.mean()], \"std\": [ridge_score.std()]})\n",
    "    return data\n",
    "\n",
    "#Test large values for lamdba\n",
    "appended_data = []\n",
    "lambda_range = np.arange(0.001, 0.4, 0.01)\n",
    "for i in lambda_range:\n",
    "    result = lambda_test(i)\n",
    "    appended_data.append(result)\n",
    "r_results = pd.concat(appended_data, ignore_index=True)\n",
    "\n",
    "print(r_results)\n",
    "\n",
    "plt.figure(figsize=(15, 5))\n",
    "plt.subplot(1, 2, 1)\n",
    "plt.plot(r_results['lambda_value'], r_results['ridge_score'], label=\"Ridge\")\n",
    "plt.xlabel('Lambda Value')\n",
    "plt.ylabel('R-squared Value')\n",
    "plt.legend(loc='best') \n",
    "plt.title('Ridge Lambda Test')\n",
    "\n",
    "plt.subplot(1, 2, 2)\n",
    "plt.plot(r_results['lambda_value'], r_results['std'], label=\"Ridge\")\n",
    "plt.xlabel('Lambda Value')\n",
    "plt.ylabel('STD Value')\n",
    "plt.legend(loc='best') \n",
    "plt.title('Ridge Lambda Test')\n",
    "\n",
    "plt.show()"
   ]
  },
  {
   "cell_type": "code",
   "execution_count": 34,
   "metadata": {},
   "outputs": [
    {
     "name": "stdout",
     "output_type": "stream",
     "text": [
      "Cross Validation Scores:\n",
      " [0.95555556 0.96296296 0.96296296 0.93283582 0.95522388 0.96992481\n",
      " 0.96240602 0.97744361 0.98496241 0.97744361]\n",
      "\n",
      "Cross Validation mean of: 0.96 (+/- 0.01)\n"
     ]
    }
   ],
   "source": [
    "ridgeregr = LogisticRegression(C=0.331, penalty=\"l2\") \n",
    "ridgeregr.fit(X, y)\n",
    "\n",
    "ridgeregr_score = cross_val_score(ridgeregr, X, y, cv=10)\n",
    "print(\"Cross Validation Scores:\\n\", ridgeregr_score)\n",
    "print(\"\\nCross Validation mean of: %0.2f (+/- %0.2f)\" % (ridgeregr_score.mean(), ridgeregr_score.std()))"
   ]
  },
  {
   "cell_type": "markdown",
   "metadata": {},
   "source": [
    "Ridge Regression results in an average accuracy of 96% (+/- 1)"
   ]
  },
  {
   "cell_type": "markdown",
   "metadata": {},
   "source": [
    "### Lasso logistic regression"
   ]
  },
  {
   "cell_type": "code",
   "execution_count": 35,
   "metadata": {},
   "outputs": [
    {
     "name": "stdout",
     "output_type": "stream",
     "text": [
      "    lambda_value  lass_score       std\n",
      "0           0.20    0.960385  0.014599\n",
      "1           0.21    0.961131  0.014506\n",
      "2           0.22    0.961883  0.011321\n",
      "3           0.23    0.961883  0.014746\n",
      "4           0.24    0.967124  0.008968\n",
      "5           0.25    0.963387  0.014722\n",
      "6           0.26    0.962618  0.013401\n",
      "7           0.27    0.966378  0.013861\n",
      "8           0.28    0.964122  0.014118\n",
      "9           0.29    0.964863  0.014612\n",
      "10          0.30    0.967118  0.013845\n",
      "11          0.31    0.968611  0.012414\n",
      "12          0.32    0.969357  0.010274\n",
      "13          0.33    0.966383  0.012590\n",
      "14          0.34    0.967124  0.012585\n",
      "15          0.35    0.970120  0.012003\n",
      "16          0.36    0.967141  0.017398\n",
      "17          0.37    0.967881  0.016699\n",
      "18          0.38    0.965654  0.016392\n",
      "19          0.39    0.966383  0.015730\n",
      "20          0.40    0.965637  0.014985\n",
      "21          0.41    0.970137  0.010492\n",
      "22          0.42    0.967876  0.012505\n",
      "23          0.43    0.972354  0.012941\n",
      "24          0.44    0.968633  0.015549\n",
      "25          0.45    0.969374  0.011772\n",
      "26          0.46    0.970867  0.012205\n",
      "27          0.47    0.973863  0.010649\n",
      "28          0.48    0.974615  0.009520\n",
      "29          0.49    0.973868  0.011162\n",
      "30          0.50    0.973105  0.010640\n",
      "31          0.51    0.971613  0.009295\n",
      "32          0.52    0.970143  0.012425\n",
      "33          0.53    0.975361  0.013755\n",
      "34          0.54    0.976107  0.014459\n",
      "35          0.55    0.973122  0.012983\n",
      "36          0.56    0.973868  0.012105\n",
      "37          0.57    0.974609  0.012095\n",
      "38          0.58    0.972370  0.012903\n",
      "39          0.59    0.975361  0.012027\n"
     ]
    },
    {
     "data": {
      "image/png": "[encoded data removed]",
      "text/plain": [
       "<Figure size 1080x360 with 2 Axes>"
      ]
     },
     "metadata": {},
     "output_type": "display_data"
    }
   ],
   "source": [
    "#test lambda values\n",
    "\n",
    "r_results = pd.DataFrame()\n",
    "\n",
    "def lambda_test(value):\n",
    "    #Test lambda value in ridge model\n",
    "    lass = LogisticRegression(C=value, penalty=\"l1\")  \n",
    "    lass_score = cross_val_score(lass, X, y, cv=10)\n",
    "    #return dataframe of r-squared for each lambda value\n",
    "    data = pd.DataFrame({\"lambda_value\": [value], \"lass_score\": [lass_score.mean()], \"std\": [lass_score.std()]})\n",
    "    return data\n",
    "\n",
    "#Test large values for lamdba\n",
    "appended_data = []\n",
    "lambda_range = np.arange(0.2, 0.6, 0.01)\n",
    "for i in lambda_range:\n",
    "    result = lambda_test(i)\n",
    "    appended_data.append(result)\n",
    "lasso_results = pd.concat(appended_data, ignore_index=True)\n",
    "\n",
    "print(lasso_results)\n",
    "\n",
    "plt.figure(figsize=(15, 5))\n",
    "plt.subplot(1, 2, 1)\n",
    "plt.plot(lasso_results['lambda_value'], lasso_results['lass_score'], label=\"Lasso\")\n",
    "plt.xlabel('Lambda Value')\n",
    "plt.ylabel('R-squared Value')\n",
    "plt.legend(loc='best') \n",
    "plt.title('Lasso Lambda Test')\n",
    "\n",
    "plt.subplot(1, 2, 2)\n",
    "plt.plot(lasso_results['lambda_value'], lasso_results['std'], label=\"Lasso\")\n",
    "plt.xlabel('Lambda Value')\n",
    "plt.ylabel('STD Value')\n",
    "plt.legend(loc='best') \n",
    "plt.title('Lasso Lambda Test')\n",
    "\n",
    "plt.show()"
   ]
  },
  {
   "cell_type": "code",
   "execution_count": 36,
   "metadata": {},
   "outputs": [
    {
     "name": "stdout",
     "output_type": "stream",
     "text": [
      "Cross Validation Scores:\n",
      " [0.96296296 0.97777778 0.97777778 0.93283582 0.96268657 0.96992481\n",
      " 0.96240602 0.97744361 0.98496241 0.95488722]\n",
      "\n",
      "Cross Validation mean of: 0.97 (+/- 0.01)\n"
     ]
    }
   ],
   "source": [
    "lass = LogisticRegression(C=0.27, penalty=\"l1\")\n",
    "lassfit = lass.fit(X, y)\n",
    "\n",
    "lass_score = cross_val_score(lass, X, y, cv=10)\n",
    "print(\"Cross Validation Scores:\\n\", lass_score)\n",
    "print(\"\\nCross Validation mean of: %0.2f (+/- %0.2f)\" % (lass_score.mean(), lass_score.std()))"
   ]
  },
  {
   "cell_type": "markdown",
   "metadata": {},
   "source": [
    "Lasso Regression results in an average accuracy of 97% (+/- 1), so that is an improvement over Ridge and regular Logistic Regression.  \n",
    "\n",
    "Let's see if we can do better with some feature selection"
   ]
  },
  {
   "cell_type": "markdown",
   "metadata": {},
   "source": [
    "### Feature Selection using Lasso"
   ]
  },
  {
   "cell_type": "code",
   "execution_count": 37,
   "metadata": {},
   "outputs": [
    {
     "name": "stdout",
     "output_type": "stream",
     "text": [
      "[[ 7.12600433e-02  1.28347474e+00  2.73882470e-01  4.25286022e-04\n",
      "  -4.07097963e-02  0.00000000e+00 -1.01011840e+00 -2.23715072e-01\n",
      "  -8.24288800e-02 -5.11295309e+00  0.00000000e+00]]\n"
     ]
    }
   ],
   "source": [
    "print(lassfit.coef_)"
   ]
  },
  {
   "cell_type": "code",
   "execution_count": 40,
   "metadata": {},
   "outputs": [
    {
     "data": {
      "text/plain": [
       "Index(['age', 'bmi', 'children', 'charges', 'male_gender', 'obesity', 'parent',\n",
       "       'smoke', 'south', 'east', 'charges_log', 'high_charge'],\n",
       "      dtype='object')"
      ]
     },
     "execution_count": 40,
     "metadata": {},
     "output_type": "execute_result"
    }
   ],
   "source": [
    "insurance.columns"
   ]
  },
  {
   "cell_type": "code",
   "execution_count": 43,
   "metadata": {},
   "outputs": [],
   "source": [
    "#drop columns - charges, gender, high_charge\n",
    "cols = [3,4,11]\n",
    "\n",
    "fs_insurance = insurance.drop(insurance.columns[cols], axis=1)"
   ]
  },
  {
   "cell_type": "code",
   "execution_count": 44,
   "metadata": {},
   "outputs": [
    {
     "data": {
      "text/html": [
       "<div>\n",
       "<style scoped>\n",
       "    .dataframe tbody tr th:only-of-type {\n",
       "        vertical-align: middle;\n",
       "    }\n",
       "\n",
       "    .dataframe tbody tr th {\n",
       "        vertical-align: top;\n",
       "    }\n",
       "\n",
       "    .dataframe thead th {\n",
       "        text-align: right;\n",
       "    }\n",
       "</style>\n",
       "<table border=\"1\" class=\"dataframe\">\n",
       "  <thead>\n",
       "    <tr style=\"text-align: right;\">\n",
       "      <th></th>\n",
       "      <th>age</th>\n",
       "      <th>bmi</th>\n",
       "      <th>children</th>\n",
       "      <th>obesity</th>\n",
       "      <th>parent</th>\n",
       "      <th>smoke</th>\n",
       "      <th>south</th>\n",
       "      <th>east</th>\n",
       "      <th>charges_log</th>\n",
       "    </tr>\n",
       "  </thead>\n",
       "  <tbody>\n",
       "    <tr>\n",
       "      <th>0</th>\n",
       "      <td>19</td>\n",
       "      <td>27.900</td>\n",
       "      <td>0</td>\n",
       "      <td>0</td>\n",
       "      <td>0</td>\n",
       "      <td>1</td>\n",
       "      <td>1</td>\n",
       "      <td>0</td>\n",
       "      <td>9.734176</td>\n",
       "    </tr>\n",
       "    <tr>\n",
       "      <th>1</th>\n",
       "      <td>18</td>\n",
       "      <td>33.770</td>\n",
       "      <td>1</td>\n",
       "      <td>1</td>\n",
       "      <td>1</td>\n",
       "      <td>0</td>\n",
       "      <td>1</td>\n",
       "      <td>1</td>\n",
       "      <td>7.453302</td>\n",
       "    </tr>\n",
       "    <tr>\n",
       "      <th>2</th>\n",
       "      <td>28</td>\n",
       "      <td>33.000</td>\n",
       "      <td>3</td>\n",
       "      <td>1</td>\n",
       "      <td>1</td>\n",
       "      <td>0</td>\n",
       "      <td>1</td>\n",
       "      <td>1</td>\n",
       "      <td>8.400538</td>\n",
       "    </tr>\n",
       "    <tr>\n",
       "      <th>3</th>\n",
       "      <td>33</td>\n",
       "      <td>22.705</td>\n",
       "      <td>0</td>\n",
       "      <td>0</td>\n",
       "      <td>0</td>\n",
       "      <td>0</td>\n",
       "      <td>0</td>\n",
       "      <td>0</td>\n",
       "      <td>9.998092</td>\n",
       "    </tr>\n",
       "    <tr>\n",
       "      <th>4</th>\n",
       "      <td>32</td>\n",
       "      <td>28.880</td>\n",
       "      <td>0</td>\n",
       "      <td>0</td>\n",
       "      <td>0</td>\n",
       "      <td>0</td>\n",
       "      <td>0</td>\n",
       "      <td>0</td>\n",
       "      <td>8.260197</td>\n",
       "    </tr>\n",
       "  </tbody>\n",
       "</table>\n",
       "</div>"
      ],
      "text/plain": [
       "   age     bmi  children  obesity  parent  smoke  south  east  charges_log\n",
       "0   19  27.900         0        0       0      1      1     0     9.734176\n",
       "1   18  33.770         1        1       1      0      1     1     7.453302\n",
       "2   28  33.000         3        1       1      0      1     1     8.400538\n",
       "3   33  22.705         0        0       0      0      0     0     9.998092\n",
       "4   32  28.880         0        0       0      0      0     0     8.260197"
      ]
     },
     "execution_count": 44,
     "metadata": {},
     "output_type": "execute_result"
    }
   ],
   "source": [
    "fs_insurance.head()"
   ]
  },
  {
   "cell_type": "markdown",
   "metadata": {},
   "source": [
    "## Refit Models after feature selection"
   ]
  },
  {
   "cell_type": "code",
   "execution_count": 45,
   "metadata": {},
   "outputs": [],
   "source": [
    "y = fs_insurance['obesity']\n",
    "X = fs_insurance.drop('obesity', 1)"
   ]
  },
  {
   "cell_type": "markdown",
   "metadata": {},
   "source": [
    "### Logistic Regression"
   ]
  },
  {
   "cell_type": "code",
   "execution_count": 47,
   "metadata": {},
   "outputs": [
    {
     "name": "stdout",
     "output_type": "stream",
     "text": [
      "Logistic Regression \n",
      "\n",
      "Cross Validation Score Range: 0.98 to 1.00\n",
      "\n",
      "Cross Validation Mean: 0.99 (+/- 0.01)\n"
     ]
    }
   ],
   "source": [
    "lr = LogisticRegression(C=1e9)\n",
    "lrfit = lr.fit(X, y)\n",
    "\n",
    "lr_score = cross_val_score(lr, X, y, cv=10)\n",
    "print(\"Logistic Regression \\n\")\n",
    "print(\"Cross Validation Score Range: %0.2f to %0.2f\" % (lr_score.min(), lr_score.max()))\n",
    "print(\"\\nCross Validation Mean: %0.2f (+/- %0.2f)\" % (lr_score.mean(), lr_score.std()))"
   ]
  },
  {
   "cell_type": "markdown",
   "metadata": {},
   "source": [
    "Refitting a logistic regression model after feature selection results in a very impressive average accuracy of 99%, with a 10-fold test range of 0.98 to 1.00"
   ]
  },
  {
   "cell_type": "markdown",
   "metadata": {},
   "source": [
    "### Ridge Regression"
   ]
  },
  {
   "cell_type": "code",
   "execution_count": 48,
   "metadata": {},
   "outputs": [
    {
     "data": {
      "image/png": "[encoded data removed]",
      "text/plain": [
       "<Figure size 1080x360 with 2 Axes>"
      ]
     },
     "metadata": {},
     "output_type": "display_data"
    },
    {
     "name": "stdout",
     "output_type": "stream",
     "text": [
      "Ridge Lambda Value(s) with lowest STD:\n"
     ]
    },
    {
     "data": {
      "text/html": [
       "<div>\n",
       "<style scoped>\n",
       "    .dataframe tbody tr th:only-of-type {\n",
       "        vertical-align: middle;\n",
       "    }\n",
       "\n",
       "    .dataframe tbody tr th {\n",
       "        vertical-align: top;\n",
       "    }\n",
       "\n",
       "    .dataframe thead th {\n",
       "        text-align: right;\n",
       "    }\n",
       "</style>\n",
       "<table border=\"1\" class=\"dataframe\">\n",
       "  <thead>\n",
       "    <tr style=\"text-align: right;\">\n",
       "      <th></th>\n",
       "      <th>lambda_value</th>\n",
       "      <th>ridge_score</th>\n",
       "      <th>std</th>\n",
       "    </tr>\n",
       "  </thead>\n",
       "  <tbody>\n",
       "    <tr>\n",
       "      <th>9</th>\n",
       "      <td>1.9</td>\n",
       "      <td>0.943225</td>\n",
       "      <td>0.014184</td>\n",
       "    </tr>\n",
       "    <tr>\n",
       "      <th>10</th>\n",
       "      <td>2.0</td>\n",
       "      <td>0.943225</td>\n",
       "      <td>0.014184</td>\n",
       "    </tr>\n",
       "  </tbody>\n",
       "</table>\n",
       "</div>"
      ],
      "text/plain": [
       "    lambda_value  ridge_score       std\n",
       "9            1.9     0.943225  0.014184\n",
       "10           2.0     0.943225  0.014184"
      ]
     },
     "execution_count": 48,
     "metadata": {},
     "output_type": "execute_result"
    }
   ],
   "source": [
    "# re-tune Ridge\n",
    "\n",
    "r_results = pd.DataFrame()\n",
    "\n",
    "def lambda_test(value):\n",
    "    #Test lambda value in ridge model\n",
    "    ridgeregr = LogisticRegression(C=value, penalty=\"l2\")  \n",
    "    ridge_score = cross_val_score(ridgeregr, X, y, cv=10)\n",
    "    #return dataframe of r-squared for each lambda value\n",
    "    data = pd.DataFrame({\"lambda_value\": [value], \"ridge_score\": [ridge_score.mean()], \"std\": [ridge_score.std()]})\n",
    "    return data\n",
    "\n",
    "#Test large values for lamdba\n",
    "appended_data = []\n",
    "lambda_range = np.arange(1, 15, 0.1)\n",
    "for i in lambda_range:\n",
    "    result = lambda_test(i)\n",
    "    appended_data.append(result)\n",
    "r_results = pd.concat(appended_data, ignore_index=True)\n",
    "\n",
    "plt.figure(figsize=(15, 5))\n",
    "plt.subplot(1, 2, 1)\n",
    "plt.plot(r_results['lambda_value'], r_results['ridge_score'], label=\"R-squared\")\n",
    "plt.xlabel('Lambda Value')\n",
    "plt.ylabel('R-squared Value')\n",
    "plt.legend(loc='best') \n",
    "plt.title('Ridge Lambda Test')\n",
    "\n",
    "plt.subplot(1, 2, 2)\n",
    "plt.plot(r_results['lambda_value'], r_results['std'], label=\"STD\")\n",
    "plt.xlabel('Lambda Value')\n",
    "plt.ylabel('STD Value')\n",
    "plt.legend(loc='best') \n",
    "plt.title('Ridge Lambda Test')\n",
    "\n",
    "plt.show()\n",
    "\n",
    "print('Ridge Lambda Value(s) with lowest STD:')\n",
    "r_results.loc[r_results['std'] == r_results['std'].min()]"
   ]
  },
  {
   "cell_type": "code",
   "execution_count": 49,
   "metadata": {},
   "outputs": [
    {
     "name": "stdout",
     "output_type": "stream",
     "text": [
      "Ridge Regression \n",
      "\n",
      "Cross Validation Score Range: 0.92 to 0.97\n",
      "\n",
      "Cross Validation mean of: 0.94 (+/- 0.01)\n"
     ]
    }
   ],
   "source": [
    "ridge = LogisticRegression(C=2, penalty=\"l2\") \n",
    "ridge.fit(X, y)\n",
    "\n",
    "ridge_score = cross_val_score(ridge, X, y, cv=10)\n",
    "print(\"Ridge Regression \\n\")\n",
    "print(\"Cross Validation Score Range: %0.2f to %0.2f\" % (ridge_score.min(), ridge_score.max()))\n",
    "print(\"\\nCross Validation mean of: %0.2f (+/- %0.2f)\" % (ridge_score.mean(), ridge_score.std()))"
   ]
  },
  {
   "cell_type": "markdown",
   "metadata": {},
   "source": [
    "Following feature selection, our Ridge model is showing reduced accuracy when optimizing regularization.  "
   ]
  },
  {
   "cell_type": "code",
   "execution_count": 50,
   "metadata": {},
   "outputs": [
    {
     "name": "stdout",
     "output_type": "stream",
     "text": [
      "Ridge Regression \n",
      "\n",
      "Cross Validation Score Range: 0.94 to 0.99\n",
      "\n",
      "Cross Validation mean of: 0.97 (+/- 0.01)\n"
     ]
    }
   ],
   "source": [
    "ridge = LogisticRegression(C=10, penalty=\"l2\") \n",
    "ridge.fit(X, y)\n",
    "\n",
    "ridge_score = cross_val_score(ridge, X, y, cv=10)\n",
    "print(\"Ridge Regression \\n\")\n",
    "print(\"Cross Validation Score Range: %0.2f to %0.2f\" % (ridge_score.min(), ridge_score.max()))\n",
    "print(\"\\nCross Validation mean of: %0.2f (+/- %0.2f)\" % (ridge_score.mean(), ridge_score.std()))"
   ]
  },
  {
   "cell_type": "markdown",
   "metadata": {},
   "source": [
    "It turns out the best result with Ridge Regression comes not from optimizing regularization of minimize the standard deviation, but by finding a balance between accuracy and variation."
   ]
  },
  {
   "cell_type": "markdown",
   "metadata": {},
   "source": [
    "### Lasso Regression"
   ]
  },
  {
   "cell_type": "code",
   "execution_count": 51,
   "metadata": {},
   "outputs": [
    {
     "data": {
      "image/png": "[encoded data removed]",
      "text/plain": [
       "<Figure size 1080x360 with 2 Axes>"
      ]
     },
     "metadata": {},
     "output_type": "display_data"
    },
    {
     "name": "stdout",
     "output_type": "stream",
     "text": [
      "Lasso Lambda Value(s) with lowest STD:\n"
     ]
    },
    {
     "data": {
      "text/html": [
       "<div>\n",
       "<style scoped>\n",
       "    .dataframe tbody tr th:only-of-type {\n",
       "        vertical-align: middle;\n",
       "    }\n",
       "\n",
       "    .dataframe tbody tr th {\n",
       "        vertical-align: top;\n",
       "    }\n",
       "\n",
       "    .dataframe thead th {\n",
       "        text-align: right;\n",
       "    }\n",
       "</style>\n",
       "<table border=\"1\" class=\"dataframe\">\n",
       "  <thead>\n",
       "    <tr style=\"text-align: right;\">\n",
       "      <th></th>\n",
       "      <th>lambda_value</th>\n",
       "      <th>lass_score</th>\n",
       "      <th>std</th>\n",
       "    </tr>\n",
       "  </thead>\n",
       "  <tbody>\n",
       "    <tr>\n",
       "      <th>54</th>\n",
       "      <td>0.74</td>\n",
       "      <td>0.988037</td>\n",
       "      <td>0.013864</td>\n",
       "    </tr>\n",
       "    <tr>\n",
       "      <th>55</th>\n",
       "      <td>0.75</td>\n",
       "      <td>0.988037</td>\n",
       "      <td>0.013864</td>\n",
       "    </tr>\n",
       "    <tr>\n",
       "      <th>56</th>\n",
       "      <td>0.76</td>\n",
       "      <td>0.988037</td>\n",
       "      <td>0.013864</td>\n",
       "    </tr>\n",
       "    <tr>\n",
       "      <th>57</th>\n",
       "      <td>0.77</td>\n",
       "      <td>0.988037</td>\n",
       "      <td>0.013864</td>\n",
       "    </tr>\n",
       "    <tr>\n",
       "      <th>58</th>\n",
       "      <td>0.78</td>\n",
       "      <td>0.988037</td>\n",
       "      <td>0.013864</td>\n",
       "    </tr>\n",
       "    <tr>\n",
       "      <th>59</th>\n",
       "      <td>0.79</td>\n",
       "      <td>0.988037</td>\n",
       "      <td>0.013864</td>\n",
       "    </tr>\n",
       "    <tr>\n",
       "      <th>60</th>\n",
       "      <td>0.80</td>\n",
       "      <td>0.988037</td>\n",
       "      <td>0.013864</td>\n",
       "    </tr>\n",
       "  </tbody>\n",
       "</table>\n",
       "</div>"
      ],
      "text/plain": [
       "    lambda_value  lass_score       std\n",
       "54          0.74    0.988037  0.013864\n",
       "55          0.75    0.988037  0.013864\n",
       "56          0.76    0.988037  0.013864\n",
       "57          0.77    0.988037  0.013864\n",
       "58          0.78    0.988037  0.013864\n",
       "59          0.79    0.988037  0.013864\n",
       "60          0.80    0.988037  0.013864"
      ]
     },
     "execution_count": 51,
     "metadata": {},
     "output_type": "execute_result"
    }
   ],
   "source": [
    "# re-tune lasso\n",
    "\n",
    "r_results = pd.DataFrame()\n",
    "\n",
    "def lambda_test(value):\n",
    "    #Test lambda value in ridge model\n",
    "    lass = LogisticRegression(C=value, penalty=\"l1\")  \n",
    "    lass_score = cross_val_score(lass, X, y, cv=10)\n",
    "    #return dataframe of r-squared for each lambda value\n",
    "    data = pd.DataFrame({\"lambda_value\": [value], \"lass_score\": [lass_score.mean()], \"std\": [lass_score.std()]})\n",
    "    return data\n",
    "\n",
    "#Test large values for lamdba\n",
    "appended_data = []\n",
    "lambda_range = np.arange(0.2, 0.8, 0.01)\n",
    "for i in lambda_range:\n",
    "    result = lambda_test(i)\n",
    "    appended_data.append(result)\n",
    "lasso_results = pd.concat(appended_data, ignore_index=True)\n",
    "\n",
    "plt.figure(figsize=(15, 5))\n",
    "plt.subplot(1, 2, 1)\n",
    "plt.plot(lasso_results['lambda_value'], lasso_results['lass_score'], label=\"R-Squared\")\n",
    "plt.xlabel('Lambda Value')\n",
    "plt.ylabel('R-squared Value')\n",
    "plt.legend(loc='best') \n",
    "plt.title('Lasso Lambda Test')\n",
    "\n",
    "plt.subplot(1, 2, 2)\n",
    "plt.plot(lasso_results['lambda_value'], lasso_results['std'], label=\"STD\")\n",
    "plt.xlabel('Lambda Value')\n",
    "plt.ylabel('STD Value')\n",
    "plt.legend(loc='best') \n",
    "plt.title('Lasso Lambda Test')\n",
    "\n",
    "plt.show()\n",
    "\n",
    "print('Lasso Lambda Value(s) with lowest STD:')\n",
    "lasso_results.loc[lasso_results['std'] == lasso_results['std'].min()]"
   ]
  },
  {
   "cell_type": "code",
   "execution_count": 52,
   "metadata": {},
   "outputs": [
    {
     "name": "stdout",
     "output_type": "stream",
     "text": [
      "Lasso Regression \n",
      "\n",
      "Cross Validation Score Range: 0.96 to 1.00\n",
      "\n",
      "Cross Validation mean of: 0.99 (+/- 0.01)\n"
     ]
    }
   ],
   "source": [
    "lasso = LogisticRegression(C=0.8, penalty=\"l1\")\n",
    "lassfit = lasso.fit(X, y)\n",
    "\n",
    "lasso_score = cross_val_score(lasso, X, y, cv=10)\n",
    "print(\"Lasso Regression \\n\")\n",
    "print(\"Cross Validation Score Range: %0.2f to %0.2f\" % (lasso_score.min(), lasso_score.max()))\n",
    "print(\"\\nCross Validation mean of: %0.2f (+/- %0.2f)\" % (lasso_score.mean(), lasso_score.std()))"
   ]
  },
  {
   "cell_type": "markdown",
   "metadata": {},
   "source": [
    "Lasso has produced greater accuracy than Ridge, matching regular logistic regression's accuracy of 99%.  <br>\n",
    "When we compare the range of accuracy score with Lasso and logistic regression, Lasso falls short.  With this insurance data and the question of obesity, the best result comes using Lasso for feature selection, followed by a Logistic Regression model."
   ]
  }
 ],
 "metadata": {
  "kernelspec": {
   "display_name": "Python 3",
   "language": "python",
   "name": "python3"
  },
  "language_info": {
   "codemirror_mode": {
    "name": "ipython",
    "version": 3
   },
   "file_extension": ".py",
   "mimetype": "text/x-python",
   "name": "python",
   "nbconvert_exporter": "python",
   "pygments_lexer": "ipython3",
   "version": "3.6.1"
  }
 },
 "nbformat": 4,
 "nbformat_minor": 2
}
