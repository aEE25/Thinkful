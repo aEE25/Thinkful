{
 "cells": [
  {
   "cell_type": "markdown",
   "metadata": {},
   "source": [
    "## Model Comparison Project\n",
    "Find a data set and build a KNN Regression and an OLS regression. Compare the two. How similar are they? Do they miss in different ways?\n",
    "\n",
    "Create a Jupyter notebook with your models. At the end in a markdown cell write a few paragraphs to describe the models' behaviors and why you favor one model or the other. Try to determine whether there is a situation where you would change your mind, or whether one is unambiguously better than the other. Lastly, try to note what it is about the data that causes the better model to outperform the weaker model. Submit a link to your notebook below."
   ]
  },
  {
   "cell_type": "code",
   "execution_count": 61,
   "metadata": {},
   "outputs": [],
   "source": [
    "import pandas as pd\n",
    "import numpy as np\n",
    "import scipy\n",
    "import seaborn as sns\n",
    "import matplotlib.pyplot as plt\n",
    "%matplotlib inline\n",
    "from sklearn import neighbors\n",
    "from sklearn.model_selection import cross_val_score\n",
    "from sklearn import linear_model\n",
    "from sklearn.model_selection import train_test_split\n",
    "import statsmodels.formula.api as smf"
   ]
  },
  {
   "cell_type": "code",
   "execution_count": 8,
   "metadata": {},
   "outputs": [],
   "source": [
    "# Iris dataset from https://www.kaggle.com/arshid/iris-flower-dataset/data\n",
    "iris = pd.read_csv('~/Desktop/Data_Science/IRIS.csv')"
   ]
  },
  {
   "cell_type": "code",
   "execution_count": 9,
   "metadata": {},
   "outputs": [
    {
     "data": {
      "text/html": [
       "<div>\n",
       "<style scoped>\n",
       "    .dataframe tbody tr th:only-of-type {\n",
       "        vertical-align: middle;\n",
       "    }\n",
       "\n",
       "    .dataframe tbody tr th {\n",
       "        vertical-align: top;\n",
       "    }\n",
       "\n",
       "    .dataframe thead th {\n",
       "        text-align: right;\n",
       "    }\n",
       "</style>\n",
       "<table border=\"1\" class=\"dataframe\">\n",
       "  <thead>\n",
       "    <tr style=\"text-align: right;\">\n",
       "      <th></th>\n",
       "      <th>sepal_length</th>\n",
       "      <th>sepal_width</th>\n",
       "      <th>petal_length</th>\n",
       "      <th>petal_width</th>\n",
       "      <th>species</th>\n",
       "    </tr>\n",
       "  </thead>\n",
       "  <tbody>\n",
       "    <tr>\n",
       "      <th>0</th>\n",
       "      <td>5.1</td>\n",
       "      <td>3.5</td>\n",
       "      <td>1.4</td>\n",
       "      <td>0.2</td>\n",
       "      <td>Iris-setosa</td>\n",
       "    </tr>\n",
       "    <tr>\n",
       "      <th>1</th>\n",
       "      <td>4.9</td>\n",
       "      <td>3.0</td>\n",
       "      <td>1.4</td>\n",
       "      <td>0.2</td>\n",
       "      <td>Iris-setosa</td>\n",
       "    </tr>\n",
       "    <tr>\n",
       "      <th>2</th>\n",
       "      <td>4.7</td>\n",
       "      <td>3.2</td>\n",
       "      <td>1.3</td>\n",
       "      <td>0.2</td>\n",
       "      <td>Iris-setosa</td>\n",
       "    </tr>\n",
       "    <tr>\n",
       "      <th>3</th>\n",
       "      <td>4.6</td>\n",
       "      <td>3.1</td>\n",
       "      <td>1.5</td>\n",
       "      <td>0.2</td>\n",
       "      <td>Iris-setosa</td>\n",
       "    </tr>\n",
       "    <tr>\n",
       "      <th>4</th>\n",
       "      <td>5.0</td>\n",
       "      <td>3.6</td>\n",
       "      <td>1.4</td>\n",
       "      <td>0.2</td>\n",
       "      <td>Iris-setosa</td>\n",
       "    </tr>\n",
       "  </tbody>\n",
       "</table>\n",
       "</div>"
      ],
      "text/plain": [
       "   sepal_length  sepal_width  petal_length  petal_width      species\n",
       "0           5.1          3.5           1.4          0.2  Iris-setosa\n",
       "1           4.9          3.0           1.4          0.2  Iris-setosa\n",
       "2           4.7          3.2           1.3          0.2  Iris-setosa\n",
       "3           4.6          3.1           1.5          0.2  Iris-setosa\n",
       "4           5.0          3.6           1.4          0.2  Iris-setosa"
      ]
     },
     "execution_count": 9,
     "metadata": {},
     "output_type": "execute_result"
    }
   ],
   "source": [
    "iris.head()"
   ]
  },
  {
   "cell_type": "code",
   "execution_count": 75,
   "metadata": {},
   "outputs": [
    {
     "data": {
      "image/png": "[encoded data removed]",
      "text/plain": [
       "<Figure size 1080x360 with 2 Axes>"
      ]
     },
     "metadata": {},
     "output_type": "display_data"
    }
   ],
   "source": [
    "plt.figure(figsize=(15, 5))\n",
    "\n",
    "plt.subplot(1, 2, 1)\n",
    "plt.boxplot(iris['sepal_length'].dropna(how = 'any'))\n",
    "plt.title('Sepal Length Boxplot')\n",
    "\n",
    "plt.subplot(1, 2, 2)\n",
    "plt.hist(iris['sepal_length'].dropna(how = 'any'), bins=20)\n",
    "plt.axvline(iris['sepal_length'].mean(), color='c', linestyle='solid', linewidth=2, label=\"Mean\")\n",
    "plt.legend(loc='upper left') \n",
    "plt.title('Sepal Length Histogram')\n",
    "\n",
    "plt.show()"
   ]
  },
  {
   "cell_type": "code",
   "execution_count": 77,
   "metadata": {},
   "outputs": [
    {
     "data": {
      "image/png": "[encoded data removed]",
      "text/plain": [
       "<Figure size 1080x360 with 2 Axes>"
      ]
     },
     "metadata": {},
     "output_type": "display_data"
    }
   ],
   "source": [
    "plt.figure(figsize=(15, 5))\n",
    "\n",
    "plt.subplot(1, 2, 1)\n",
    "plt.boxplot(iris['sepal_width'].dropna(how = 'any'))\n",
    "plt.title('Sepal Width Boxplot')\n",
    "\n",
    "plt.subplot(1, 2, 2)\n",
    "plt.hist(iris['sepal_width'].dropna(how = 'any'), bins=20)\n",
    "plt.axvline(iris['sepal_width'].mean(), color='c', linestyle='solid', linewidth=2, label=\"Mean\")\n",
    "plt.legend(loc='upper left') \n",
    "plt.title('Sepal Width Histogram')\n",
    "\n",
    "plt.show()"
   ]
  },
  {
   "cell_type": "code",
   "execution_count": 79,
   "metadata": {},
   "outputs": [
    {
     "data": {
      "image/png": "[encoded data removed]",
      "text/plain": [
       "<Figure size 1080x360 with 2 Axes>"
      ]
     },
     "metadata": {},
     "output_type": "display_data"
    }
   ],
   "source": [
    "plt.figure(figsize=(15, 5))\n",
    "\n",
    "plt.subplot(1, 2, 1)\n",
    "plt.boxplot(iris['petal_length'].dropna(how = 'any'))\n",
    "plt.title('Petal Length Boxplot')\n",
    "\n",
    "plt.subplot(1, 2, 2)\n",
    "plt.hist(iris['petal_length'].dropna(how = 'any'), bins=20)\n",
    "plt.axvline(iris['petal_length'].mean(), color='c', linestyle='solid', linewidth=2, label=\"Mean\")\n",
    "plt.legend(loc='upper left') \n",
    "plt.title('Petal Length Histogram')\n",
    "\n",
    "plt.show()"
   ]
  },
  {
   "cell_type": "code",
   "execution_count": 78,
   "metadata": {},
   "outputs": [
    {
     "data": {
      "image/png": "[encoded data removed]",
      "text/plain": [
       "<Figure size 1080x360 with 2 Axes>"
      ]
     },
     "metadata": {},
     "output_type": "display_data"
    }
   ],
   "source": [
    "plt.figure(figsize=(15, 5))\n",
    "\n",
    "plt.subplot(1, 2, 1)\n",
    "plt.boxplot(iris['petal_width'].dropna(how = 'any'))\n",
    "plt.title('Petal Width Boxplot')\n",
    "\n",
    "plt.subplot(1, 2, 2)\n",
    "plt.hist(iris['petal_width'].dropna(how = 'any'), bins=20)\n",
    "plt.axvline(iris['petal_width'].mean(), color='c', linestyle='solid', linewidth=2, label=\"Mean\")\n",
    "plt.legend(loc='upper left') \n",
    "plt.title('Petal Width Histogram')\n",
    "\n",
    "plt.show()"
   ]
  },
  {
   "cell_type": "code",
   "execution_count": 80,
   "metadata": {},
   "outputs": [
    {
     "data": {
      "text/plain": [
       "(array([0, 1, 2]), <a list of 3 Text xticklabel objects>)"
      ]
     },
     "execution_count": 80,
     "metadata": {},
     "output_type": "execute_result"
    },
    {
     "data": {
      "image/png": "[encoded data removed]",
      "text/plain": [
       "<Figure size 432x288 with 1 Axes>"
      ]
     },
     "metadata": {},
     "output_type": "display_data"
    }
   ],
   "source": [
    "plt.title('Iris counts by Species')\n",
    "pd.value_counts(iris['species']).plot.bar()\n",
    "plt.xticks(rotation = 0)"
   ]
  },
  {
   "cell_type": "code",
   "execution_count": 85,
   "metadata": {},
   "outputs": [
    {
     "data": {
      "text/plain": [
       "<matplotlib.axes._subplots.AxesSubplot at 0x118d1b470>"
      ]
     },
     "execution_count": 85,
     "metadata": {},
     "output_type": "execute_result"
    },
    {
     "data": {
      "image/png": "[encoded data removed]",
      "text/plain": [
       "<Figure size 1080x360 with 2 Axes>"
      ]
     },
     "metadata": {},
     "output_type": "display_data"
    }
   ],
   "source": [
    "plt.figure(figsize=(15, 5))\n",
    "\n",
    "plt.subplot(1, 2, 1)\n",
    "plt.title('Iris Sepal Length by Species')\n",
    "sns.boxplot(x='species', y=\"sepal_length\", data=iris)\n",
    "\n",
    "plt.subplot(1, 2, 2)\n",
    "plt.title('Iris Sepal Width by Species')\n",
    "sns.boxplot(x='species',y=\"sepal_width\", data=iris)"
   ]
  },
  {
   "cell_type": "code",
   "execution_count": 87,
   "metadata": {},
   "outputs": [
    {
     "data": {
      "text/plain": [
       "<matplotlib.axes._subplots.AxesSubplot at 0x1192aa550>"
      ]
     },
     "execution_count": 87,
     "metadata": {},
     "output_type": "execute_result"
    },
    {
     "data": {
      "image/png": "[encoded data removed]",
      "text/plain": [
       "<Figure size 1080x360 with 2 Axes>"
      ]
     },
     "metadata": {},
     "output_type": "display_data"
    }
   ],
   "source": [
    "plt.figure(figsize=(15, 5))\n",
    "\n",
    "plt.subplot(1, 2, 1)\n",
    "plt.title('Iris Petal Length by Species')\n",
    "sns.boxplot(x='species', y=\"petal_length\", data=iris)\n",
    "\n",
    "plt.subplot(1, 2, 2)\n",
    "plt.title('Iris Petal Width by Species')\n",
    "sns.boxplot(x='species',y=\"petal_width\", data=iris)"
   ]
  },
  {
   "cell_type": "markdown",
   "metadata": {},
   "source": [
    "### KNN Regression"
   ]
  },
  {
   "cell_type": "code",
   "execution_count": 10,
   "metadata": {},
   "outputs": [
    {
     "name": "stdout",
     "output_type": "stream",
     "text": [
      "Unweighted Accuracy: 0.52 (+/- 0.39)\n"
     ]
    }
   ],
   "source": [
    "# Build our model.\n",
    "knn = neighbors.KNeighborsRegressor(n_neighbors=10)\n",
    "X = iris[['sepal_width', 'petal_length', 'petal_width']]\n",
    "Y = iris['sepal_length']\n",
    "knn.fit(X, Y)\n",
    "\n",
    "#use cross validation to test\n",
    "score = cross_val_score(knn, X, Y, cv=5)\n",
    "print(\"Unweighted Accuracy: %0.2f (+/- %0.2f)\" % (score.mean(), score.std() * 2))"
   ]
  },
  {
   "cell_type": "markdown",
   "metadata": {},
   "source": [
    "Tuning K"
   ]
  },
  {
   "cell_type": "code",
   "execution_count": 93,
   "metadata": {},
   "outputs": [
    {
     "name": "stdout",
     "output_type": "stream",
     "text": [
      "K of 1 has Unweighted Accuracy: 0.38 (+/- 0.66)\n",
      "K of 2 has Unweighted Accuracy: 0.48 (+/- 0.46)\n",
      "K of 3 has Unweighted Accuracy: 0.50 (+/- 0.50)\n",
      "K of 4 has Unweighted Accuracy: 0.51 (+/- 0.52)\n",
      "K of 5 has Unweighted Accuracy: 0.53 (+/- 0.47)\n",
      "K of 6 has Unweighted Accuracy: 0.52 (+/- 0.43)\n",
      "K of 7 has Unweighted Accuracy: 0.52 (+/- 0.42)\n",
      "K of 8 has Unweighted Accuracy: 0.54 (+/- 0.40)\n",
      "K of 9 has Unweighted Accuracy: 0.53 (+/- 0.39)\n",
      "K of 10 has Unweighted Accuracy: 0.52 (+/- 0.39)\n",
      "K of 11 has Unweighted Accuracy: 0.53 (+/- 0.37)\n",
      "K of 12 has Unweighted Accuracy: 0.51 (+/- 0.38)\n",
      "K of 13 has Unweighted Accuracy: 0.48 (+/- 0.41)\n",
      "K of 14 has Unweighted Accuracy: 0.48 (+/- 0.39)\n",
      "K of 15 has Unweighted Accuracy: 0.46 (+/- 0.41)\n",
      "K of 16 has Unweighted Accuracy: 0.44 (+/- 0.43)\n",
      "K of 17 has Unweighted Accuracy: 0.42 (+/- 0.44)\n",
      "K of 18 has Unweighted Accuracy: 0.41 (+/- 0.45)\n",
      "K of 19 has Unweighted Accuracy: 0.39 (+/- 0.49)\n",
      "K of 20 has Unweighted Accuracy: 0.37 (+/- 0.53)\n",
      "K of 21 has Unweighted Accuracy: 0.35 (+/- 0.53)\n",
      "K of 22 has Unweighted Accuracy: 0.35 (+/- 0.52)\n",
      "K of 23 has Unweighted Accuracy: 0.36 (+/- 0.49)\n",
      "K of 24 has Unweighted Accuracy: 0.34 (+/- 0.49)\n",
      "K of 25 has Unweighted Accuracy: 0.33 (+/- 0.49)\n",
      "K of 26 has Unweighted Accuracy: 0.33 (+/- 0.48)\n",
      "K of 27 has Unweighted Accuracy: 0.32 (+/- 0.48)\n",
      "K of 28 has Unweighted Accuracy: 0.31 (+/- 0.47)\n",
      "K of 29 has Unweighted Accuracy: 0.30 (+/- 0.48)\n",
      "K of 30 has Unweighted Accuracy: 0.29 (+/- 0.48)\n",
      "K of 31 has Unweighted Accuracy: 0.29 (+/- 0.48)\n",
      "K of 32 has Unweighted Accuracy: 0.27 (+/- 0.50)\n",
      "K of 33 has Unweighted Accuracy: 0.25 (+/- 0.53)\n",
      "K of 34 has Unweighted Accuracy: 0.23 (+/- 0.56)\n",
      "K of 35 has Unweighted Accuracy: 0.21 (+/- 0.59)\n",
      "K of 36 has Unweighted Accuracy: 0.20 (+/- 0.60)\n",
      "K of 37 has Unweighted Accuracy: 0.18 (+/- 0.62)\n",
      "K of 38 has Unweighted Accuracy: 0.17 (+/- 0.64)\n",
      "K of 39 has Unweighted Accuracy: 0.16 (+/- 0.65)\n",
      "K of 40 has Unweighted Accuracy: 0.15 (+/- 0.67)\n",
      "K of 41 has Unweighted Accuracy: 0.14 (+/- 0.69)\n",
      "K of 42 has Unweighted Accuracy: 0.13 (+/- 0.70)\n",
      "K of 43 has Unweighted Accuracy: 0.11 (+/- 0.73)\n",
      "K of 44 has Unweighted Accuracy: 0.08 (+/- 0.79)\n",
      "K of 45 has Unweighted Accuracy: 0.05 (+/- 0.85)\n",
      "K of 46 has Unweighted Accuracy: 0.03 (+/- 0.90)\n",
      "K of 47 has Unweighted Accuracy: -0.00 (+/- 1.00)\n",
      "K of 48 has Unweighted Accuracy: -0.02 (+/- 1.06)\n",
      "K of 49 has Unweighted Accuracy: -0.05 (+/- 1.11)\n",
      "K of 50 has Unweighted Accuracy: -0.07 (+/- 1.16)\n"
     ]
    }
   ],
   "source": [
    "def knn_fit(k):\n",
    "    knn = neighbors.KNeighborsRegressor(n_neighbors=k)\n",
    "    score = cross_val_score(knn, X, Y, cv=5)\n",
    "    return print(\"K of %d has Unweighted Accuracy: %0.2f (+/- %0.2f)\" % (k, score.mean(), score.std() * 2))\n",
    "    \n",
    "for i in range(50):\n",
    "    knn_fit(i + 1)"
   ]
  },
  {
   "cell_type": "code",
   "execution_count": 94,
   "metadata": {},
   "outputs": [
    {
     "name": "stdout",
     "output_type": "stream",
     "text": [
      "Unweighted Accuracy: 0.54 (+/- 0.40)\n"
     ]
    }
   ],
   "source": [
    "# Test tuned k\n",
    "knn = neighbors.KNeighborsRegressor(n_neighbors=8)\n",
    "X = iris[['sepal_width', 'petal_length', 'petal_width']]\n",
    "Y = iris['sepal_length']\n",
    "knn.fit(X, Y)\n",
    "\n",
    "#use cross validation to test\n",
    "score = cross_val_score(knn, X, Y, cv=5)\n",
    "print(\"Unweighted Accuracy: %0.2f (+/- %0.2f)\" % (score.mean(), score.std() * 2))"
   ]
  },
  {
   "cell_type": "markdown",
   "metadata": {},
   "source": [
    "Testing Weight"
   ]
  },
  {
   "cell_type": "code",
   "execution_count": 99,
   "metadata": {},
   "outputs": [
    {
     "name": "stdout",
     "output_type": "stream",
     "text": [
      "K of 1 has Weighted Accuracy: 0.38 (+/- 0.66)\n",
      "K of 2 has Weighted Accuracy: 0.50 (+/- 0.47)\n",
      "K of 3 has Weighted Accuracy: 0.52 (+/- 0.48)\n",
      "K of 4 has Weighted Accuracy: 0.53 (+/- 0.48)\n",
      "K of 5 has Weighted Accuracy: 0.55 (+/- 0.45)\n",
      "K of 6 has Weighted Accuracy: 0.55 (+/- 0.42)\n",
      "K of 7 has Weighted Accuracy: 0.55 (+/- 0.42)\n",
      "K of 8 has Weighted Accuracy: 0.56 (+/- 0.41)\n",
      "K of 9 has Weighted Accuracy: 0.56 (+/- 0.39)\n",
      "K of 10 has Weighted Accuracy: 0.56 (+/- 0.39)\n",
      "K of 11 has Weighted Accuracy: 0.56 (+/- 0.38)\n",
      "K of 12 has Weighted Accuracy: 0.56 (+/- 0.37)\n",
      "K of 13 has Weighted Accuracy: 0.54 (+/- 0.38)\n",
      "K of 14 has Weighted Accuracy: 0.54 (+/- 0.36)\n",
      "K of 15 has Weighted Accuracy: 0.54 (+/- 0.36)\n",
      "K of 16 has Weighted Accuracy: 0.53 (+/- 0.37)\n",
      "K of 17 has Weighted Accuracy: 0.52 (+/- 0.37)\n",
      "K of 18 has Weighted Accuracy: 0.51 (+/- 0.37)\n",
      "K of 19 has Weighted Accuracy: 0.50 (+/- 0.38)\n",
      "K of 20 has Weighted Accuracy: 0.50 (+/- 0.39)\n",
      "K of 21 has Weighted Accuracy: 0.49 (+/- 0.40)\n",
      "K of 22 has Weighted Accuracy: 0.49 (+/- 0.39)\n",
      "K of 23 has Weighted Accuracy: 0.49 (+/- 0.38)\n",
      "K of 24 has Weighted Accuracy: 0.49 (+/- 0.37)\n",
      "K of 25 has Weighted Accuracy: 0.48 (+/- 0.38)\n",
      "K of 26 has Weighted Accuracy: 0.48 (+/- 0.37)\n",
      "K of 27 has Weighted Accuracy: 0.47 (+/- 0.37)\n",
      "K of 28 has Weighted Accuracy: 0.47 (+/- 0.37)\n",
      "K of 29 has Weighted Accuracy: 0.47 (+/- 0.36)\n",
      "K of 30 has Weighted Accuracy: 0.46 (+/- 0.36)\n",
      "K of 31 has Weighted Accuracy: 0.46 (+/- 0.36)\n",
      "K of 32 has Weighted Accuracy: 0.46 (+/- 0.36)\n",
      "K of 33 has Weighted Accuracy: 0.45 (+/- 0.36)\n",
      "K of 34 has Weighted Accuracy: 0.44 (+/- 0.36)\n",
      "K of 35 has Weighted Accuracy: 0.44 (+/- 0.36)\n",
      "K of 36 has Weighted Accuracy: 0.43 (+/- 0.36)\n",
      "K of 37 has Weighted Accuracy: 0.43 (+/- 0.37)\n",
      "K of 38 has Weighted Accuracy: 0.43 (+/- 0.37)\n",
      "K of 39 has Weighted Accuracy: 0.43 (+/- 0.37)\n",
      "K of 40 has Weighted Accuracy: 0.42 (+/- 0.37)\n",
      "K of 41 has Weighted Accuracy: 0.42 (+/- 0.37)\n",
      "K of 42 has Weighted Accuracy: 0.42 (+/- 0.37)\n",
      "K of 43 has Weighted Accuracy: 0.42 (+/- 0.37)\n",
      "K of 44 has Weighted Accuracy: 0.41 (+/- 0.38)\n",
      "K of 45 has Weighted Accuracy: 0.41 (+/- 0.38)\n",
      "K of 46 has Weighted Accuracy: 0.40 (+/- 0.38)\n",
      "K of 47 has Weighted Accuracy: 0.40 (+/- 0.39)\n",
      "K of 48 has Weighted Accuracy: 0.39 (+/- 0.40)\n",
      "K of 49 has Weighted Accuracy: 0.39 (+/- 0.40)\n",
      "K of 50 has Weighted Accuracy: 0.39 (+/- 0.41)\n"
     ]
    }
   ],
   "source": [
    "def knn_weight_fit(k, weight_metric):\n",
    "    knn = neighbors.KNeighborsRegressor(n_neighbors=k, weights=weight_metric)\n",
    "    score = cross_val_score(knn, X, Y, cv=5)\n",
    "    return print(\"K of %d has Weighted Accuracy: %0.2f (+/- %0.2f)\" % (k, score.mean(), score.std() * 2))\n",
    "    \n",
    "for i in range(50):\n",
    "    knn_weight_fit(i + 1, \"distance\")"
   ]
  },
  {
   "cell_type": "code",
   "execution_count": 100,
   "metadata": {},
   "outputs": [
    {
     "name": "stdout",
     "output_type": "stream",
     "text": [
      "Weighted Accuracy: 0.56 (+/- 0.37)\n"
     ]
    }
   ],
   "source": [
    "# Recomfirming from weighted K test\n",
    "knn = neighbors.KNeighborsRegressor(n_neighbors=12, weights='distance')\n",
    "X = iris[['sepal_width', 'petal_length', 'petal_width']]\n",
    "Y = iris['sepal_length']\n",
    "knn.fit(X, Y)\n",
    "\n",
    "#use cross validation to test\n",
    "score = cross_val_score(knn, X, Y, cv=5)\n",
    "print(\"Weighted Accuracy: %0.2f (+/- %0.2f)\" % (score.mean(), score.std() * 2))"
   ]
  },
  {
   "cell_type": "markdown",
   "metadata": {},
   "source": [
    "Not very good accuracy, let's see what we can do with Ordinary Least Squares Regression"
   ]
  },
  {
   "cell_type": "markdown",
   "metadata": {},
   "source": [
    "### OLS Regression"
   ]
  },
  {
   "cell_type": "markdown",
   "metadata": {},
   "source": [
    "SKLearn"
   ]
  },
  {
   "cell_type": "code",
   "execution_count": 11,
   "metadata": {},
   "outputs": [
    {
     "name": "stdout",
     "output_type": "stream",
     "text": [
      "\n",
      "R-squared:\n",
      "0.8592166649106592\n"
     ]
    },
    {
     "name": "stderr",
     "output_type": "stream",
     "text": [
      "/Library/Frameworks/Python.framework/Versions/3.6/lib/python3.6/site-packages/scipy/linalg/basic.py:1226: RuntimeWarning: internal gelsd driver lwork query error, required iwork dimension not returned. This is likely the result of LAPACK bug 0038, fixed in LAPACK 3.2.2 (released July 21, 2010). Falling back to 'gelss' driver.\n",
      "  warnings.warn(mesg, RuntimeWarning)\n"
     ]
    }
   ],
   "source": [
    "#write model\n",
    "regr = linear_model.LinearRegression()\n",
    "Y = iris['sepal_length'].values.reshape(-1, 1)\n",
    "X = iris[['sepal_width', 'petal_length', 'petal_width']]\n",
    "regr.fit(X, Y)\n",
    "\n",
    "print('\\nR-squared:')\n",
    "print(regr.score(X, Y))"
   ]
  },
  {
   "cell_type": "markdown",
   "metadata": {},
   "source": [
    "### Comparison"
   ]
  },
  {
   "cell_type": "markdown",
   "metadata": {},
   "source": [
    "A first look as the results from these models indicates that OLS is better than KNN with much higher accuracy (0.86 over 0.56).  Let's take a look at individual Cross Validation Scores to see how they compare."
   ]
  },
  {
   "cell_type": "code",
   "execution_count": 101,
   "metadata": {},
   "outputs": [
    {
     "name": "stdout",
     "output_type": "stream",
     "text": [
      "\n",
      "KNN Cross Validation Score: [0.42709491 0.18232641 0.56768932 0.75337296 0.43113701 0.53566878\n",
      " 0.64026021 0.65034005 0.65891423 0.37147285]\n",
      "\n",
      "OLS Cross Validation Score: [0.63086579 0.38878195 0.22700745 0.8565237  0.262479   0.40395639\n",
      " 0.59592532 0.8416528  0.7995874  0.09678229]\n"
     ]
    }
   ],
   "source": [
    "#cross validation test for KNN\n",
    "print('\\nKNN Cross Validation Score:', cross_val_score(knn, X, Y, cv=10))\n",
    "\n",
    "#cross validation test for OLS\n",
    "print('\\nOLS Cross Validation Score:', cross_val_score(regr, X, Y, cv=10))"
   ]
  },
  {
   "cell_type": "markdown",
   "metadata": {},
   "source": [
    "The average accuracy for OLS looks much better than KNN, but Cross Validation scores (with ten folds) for each method show different results.  The range for KNN is 0.382 (from 0.371 to 0.753).  The range for OLS is 0.760 (0.097 to 0.857).  This indicates that we should reconsider the judgement of OLS being better than KNN.  Let's take a look at the residuals for each model to get a better picture of accuracy"
   ]
  },
  {
   "cell_type": "code",
   "execution_count": 45,
   "metadata": {},
   "outputs": [
    {
     "data": {
      "image/png": "[encoded data removed]",
      "text/plain": [
       "<Figure size 720x360 with 1 Axes>"
      ]
     },
     "metadata": {},
     "output_type": "display_data"
    },
    {
     "data": {
      "image/png": "[encoded data removed]",
      "text/plain": [
       "<Figure size 432x288 with 1 Axes>"
      ]
     },
     "metadata": {},
     "output_type": "display_data"
    }
   ],
   "source": [
    "# Extract predicted values from KNN\n",
    "knn_predicted = knn.predict(X).ravel()\n",
    "\n",
    "# Extract predicted values from OLS\n",
    "ols_predicted = regr.predict(X).ravel()\n",
    "\n",
    "# define actual target values\n",
    "actual = iris['sepal_length']\n",
    "\n",
    "# Calculate the error/residual for knn\n",
    "knn_residual = actual - knn_predicted\n",
    "\n",
    "# Calculate the error/residual for ols\n",
    "ols_residual = actual - ols_predicted\n",
    "\n",
    "plt.figure(figsize=(10, 5))\n",
    "\n",
    "# plot histogram of errors for knn\n",
    "plt.subplot(1, 2, 1)\n",
    "plt.hist(knn_residual)\n",
    "plt.title('KNN Residual counts')\n",
    "plt.xlabel('Residual')\n",
    "plt.ylabel('Count')\n",
    "plt.show()\n",
    "\n",
    "# plot histogram of errors for ols\n",
    "plt.subplot(1, 2, 2)\n",
    "plt.hist(ols_residual)\n",
    "plt.title('OLS Residual counts')\n",
    "plt.xlabel('Residual')\n",
    "plt.ylabel('Count')\n",
    "plt.show()"
   ]
  },
  {
   "cell_type": "code",
   "execution_count": 60,
   "metadata": {},
   "outputs": [
    {
     "data": {
      "image/png": "[encoded data removed]",
      "text/plain": [
       "<Figure size 720x360 with 1 Axes>"
      ]
     },
     "metadata": {},
     "output_type": "display_data"
    },
    {
     "data": {
      "image/png": "[encoded data removed]",
      "text/plain": [
       "<Figure size 432x288 with 1 Axes>"
      ]
     },
     "metadata": {},
     "output_type": "display_data"
    }
   ],
   "source": [
    "plt.figure(figsize=(10, 5))\n",
    "\n",
    "# plot errors for knn predictions\n",
    "plt.subplot(1, 2, 1)\n",
    "plt.scatter(knn_predicted, knn_residual)\n",
    "plt.xlabel('Predicted')\n",
    "plt.ylabel('Residual')\n",
    "plt.axhline(y=0)\n",
    "plt.title('KNN Residual vs. Predicted')\n",
    "plt.show()\n",
    "\n",
    "# plot errors for ols predictions\n",
    "plt.subplot(1, 2, 2)\n",
    "plt.scatter(ols_predicted, ols_residual)\n",
    "plt.xlabel('Predicted')\n",
    "plt.ylabel('Residual')\n",
    "plt.axhline(y=0)\n",
    "plt.title('OLS Residual vs. Predicted')\n",
    "plt.show()"
   ]
  },
  {
   "cell_type": "markdown",
   "metadata": {},
   "source": [
    "That plot of errors by predicted value makes a strong distinction between the two models.  While KNN shows some errors, the vast majority of predictions are spot on."
   ]
  },
  {
   "cell_type": "markdown",
   "metadata": {},
   "source": [
    "I am curious if this result is related to the data and the strong correlation of the data"
   ]
  },
  {
   "cell_type": "code",
   "execution_count": 74,
   "metadata": {},
   "outputs": [
    {
     "data": {
      "text/html": [
       "<div>\n",
       "<style scoped>\n",
       "    .dataframe tbody tr th:only-of-type {\n",
       "        vertical-align: middle;\n",
       "    }\n",
       "\n",
       "    .dataframe tbody tr th {\n",
       "        vertical-align: top;\n",
       "    }\n",
       "\n",
       "    .dataframe thead th {\n",
       "        text-align: right;\n",
       "    }\n",
       "</style>\n",
       "<table border=\"1\" class=\"dataframe\">\n",
       "  <thead>\n",
       "    <tr style=\"text-align: right;\">\n",
       "      <th></th>\n",
       "      <th></th>\n",
       "      <th>petal_length</th>\n",
       "      <th>petal_width</th>\n",
       "      <th>sepal_length</th>\n",
       "      <th>sepal_width</th>\n",
       "    </tr>\n",
       "    <tr>\n",
       "      <th>species</th>\n",
       "      <th></th>\n",
       "      <th></th>\n",
       "      <th></th>\n",
       "      <th></th>\n",
       "      <th></th>\n",
       "    </tr>\n",
       "  </thead>\n",
       "  <tbody>\n",
       "    <tr>\n",
       "      <th rowspan=\"4\" valign=\"top\">Iris-setosa</th>\n",
       "      <th>petal_length</th>\n",
       "      <td>1.000000</td>\n",
       "      <td>0.306308</td>\n",
       "      <td>0.263874</td>\n",
       "      <td>0.176695</td>\n",
       "    </tr>\n",
       "    <tr>\n",
       "      <th>petal_width</th>\n",
       "      <td>0.306308</td>\n",
       "      <td>1.000000</td>\n",
       "      <td>0.279092</td>\n",
       "      <td>0.279973</td>\n",
       "    </tr>\n",
       "    <tr>\n",
       "      <th>sepal_length</th>\n",
       "      <td>0.263874</td>\n",
       "      <td>0.279092</td>\n",
       "      <td>1.000000</td>\n",
       "      <td>0.746780</td>\n",
       "    </tr>\n",
       "    <tr>\n",
       "      <th>sepal_width</th>\n",
       "      <td>0.176695</td>\n",
       "      <td>0.279973</td>\n",
       "      <td>0.746780</td>\n",
       "      <td>1.000000</td>\n",
       "    </tr>\n",
       "    <tr>\n",
       "      <th rowspan=\"4\" valign=\"top\">Iris-versicolor</th>\n",
       "      <th>petal_length</th>\n",
       "      <td>1.000000</td>\n",
       "      <td>0.786668</td>\n",
       "      <td>0.754049</td>\n",
       "      <td>0.560522</td>\n",
       "    </tr>\n",
       "    <tr>\n",
       "      <th>petal_width</th>\n",
       "      <td>0.786668</td>\n",
       "      <td>1.000000</td>\n",
       "      <td>0.546461</td>\n",
       "      <td>0.663999</td>\n",
       "    </tr>\n",
       "    <tr>\n",
       "      <th>sepal_length</th>\n",
       "      <td>0.754049</td>\n",
       "      <td>0.546461</td>\n",
       "      <td>1.000000</td>\n",
       "      <td>0.525911</td>\n",
       "    </tr>\n",
       "    <tr>\n",
       "      <th>sepal_width</th>\n",
       "      <td>0.560522</td>\n",
       "      <td>0.663999</td>\n",
       "      <td>0.525911</td>\n",
       "      <td>1.000000</td>\n",
       "    </tr>\n",
       "    <tr>\n",
       "      <th rowspan=\"4\" valign=\"top\">Iris-virginica</th>\n",
       "      <th>petal_length</th>\n",
       "      <td>1.000000</td>\n",
       "      <td>0.322108</td>\n",
       "      <td>0.864225</td>\n",
       "      <td>0.401045</td>\n",
       "    </tr>\n",
       "    <tr>\n",
       "      <th>petal_width</th>\n",
       "      <td>0.322108</td>\n",
       "      <td>1.000000</td>\n",
       "      <td>0.281108</td>\n",
       "      <td>0.537728</td>\n",
       "    </tr>\n",
       "    <tr>\n",
       "      <th>sepal_length</th>\n",
       "      <td>0.864225</td>\n",
       "      <td>0.281108</td>\n",
       "      <td>1.000000</td>\n",
       "      <td>0.457228</td>\n",
       "    </tr>\n",
       "    <tr>\n",
       "      <th>sepal_width</th>\n",
       "      <td>0.401045</td>\n",
       "      <td>0.537728</td>\n",
       "      <td>0.457228</td>\n",
       "      <td>1.000000</td>\n",
       "    </tr>\n",
       "  </tbody>\n",
       "</table>\n",
       "</div>"
      ],
      "text/plain": [
       "                              petal_length  petal_width  sepal_length  \\\n",
       "species                                                                 \n",
       "Iris-setosa     petal_length      1.000000     0.306308      0.263874   \n",
       "                petal_width       0.306308     1.000000      0.279092   \n",
       "                sepal_length      0.263874     0.279092      1.000000   \n",
       "                sepal_width       0.176695     0.279973      0.746780   \n",
       "Iris-versicolor petal_length      1.000000     0.786668      0.754049   \n",
       "                petal_width       0.786668     1.000000      0.546461   \n",
       "                sepal_length      0.754049     0.546461      1.000000   \n",
       "                sepal_width       0.560522     0.663999      0.525911   \n",
       "Iris-virginica  petal_length      1.000000     0.322108      0.864225   \n",
       "                petal_width       0.322108     1.000000      0.281108   \n",
       "                sepal_length      0.864225     0.281108      1.000000   \n",
       "                sepal_width       0.401045     0.537728      0.457228   \n",
       "\n",
       "                              sepal_width  \n",
       "species                                    \n",
       "Iris-setosa     petal_length     0.176695  \n",
       "                petal_width      0.279973  \n",
       "                sepal_length     0.746780  \n",
       "                sepal_width      1.000000  \n",
       "Iris-versicolor petal_length     0.560522  \n",
       "                petal_width      0.663999  \n",
       "                sepal_length     0.525911  \n",
       "                sepal_width      1.000000  \n",
       "Iris-virginica  petal_length     0.401045  \n",
       "                petal_width      0.537728  \n",
       "                sepal_length     0.457228  \n",
       "                sepal_width      1.000000  "
      ]
     },
     "metadata": {},
     "output_type": "display_data"
    }
   ],
   "source": [
    "correlation_matrix = iris.groupby('species').corr()\n",
    "display(correlation_matrix)"
   ]
  },
  {
   "cell_type": "markdown",
   "metadata": {},
   "source": [
    "The data seems to grouped within each species, so KNN better accounts for the impact of that categorical variable by looking at only similar values of other variables, rather than considering all values.  A separate OLS model for each species would also account for that variation."
   ]
  }
 ],
 "metadata": {
  "kernelspec": {
   "display_name": "Python 3",
   "language": "python",
   "name": "python3"
  },
  "language_info": {
   "codemirror_mode": {
    "name": "ipython",
    "version": 3
   },
   "file_extension": ".py",
   "mimetype": "text/x-python",
   "name": "python",
   "nbconvert_exporter": "python",
   "pygments_lexer": "ipython3",
   "version": "3.6.1"
  }
 },
 "nbformat": 4,
 "nbformat_minor": 2
}
