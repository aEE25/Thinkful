{
 "cells": [
  {
   "cell_type": "markdown",
   "metadata": {},
   "source": [
    "Data from https://www.kaggle.com/meganrisdal/la-county-restaurant-inspections-and-violations/data\n",
    "\n",
    "This dataset contains Environmental Health Inspection Results for Restaurants and Markets in Los Angeles County. \n",
    "Restaurants and markets in Los Angeles county are regularly inspected for health code violations. \n",
    "The data covers health code inspections (inspections.csv) and health code violations (violation.csv). "
   ]
  },
  {
   "cell_type": "code",
   "execution_count": 1,
   "metadata": {},
   "outputs": [],
   "source": [
    "%matplotlib inline\n",
    "import pandas as pd\n",
    "import numpy as np\n",
    "import seaborn as sns\n",
    "from matplotlib import pyplot as plt\n",
    "from scipy import stats\n",
    "from scipy.stats import ttest_ind"
   ]
  },
  {
   "cell_type": "code",
   "execution_count": 2,
   "metadata": {},
   "outputs": [],
   "source": [
    "inspections = pd.read_csv('~/Development/Thinkful/Unit-1/Unit1_Capstone/la-county-restaurant-inspections-and-violations/inspections.csv')\n",
    "\n",
    "violations = pd.read_csv('~/Development/Thinkful/Unit-1/Unit1_Capstone/la-county-restaurant-inspections-and-violations/violations.csv')"
   ]
  },
  {
   "cell_type": "markdown",
   "metadata": {},
   "source": [
    "## Violations"
   ]
  },
  {
   "cell_type": "code",
   "execution_count": 3,
   "metadata": {},
   "outputs": [
    {
     "data": {
      "text/html": [
       "<div>\n",
       "<style scoped>\n",
       "    .dataframe tbody tr th:only-of-type {\n",
       "        vertical-align: middle;\n",
       "    }\n",
       "\n",
       "    .dataframe tbody tr th {\n",
       "        vertical-align: top;\n",
       "    }\n",
       "\n",
       "    .dataframe thead th {\n",
       "        text-align: right;\n",
       "    }\n",
       "</style>\n",
       "<table border=\"1\" class=\"dataframe\">\n",
       "  <thead>\n",
       "    <tr style=\"text-align: right;\">\n",
       "      <th></th>\n",
       "      <th>points</th>\n",
       "      <th>serial_number</th>\n",
       "      <th>violation_code</th>\n",
       "      <th>violation_description</th>\n",
       "      <th>violation_status</th>\n",
       "    </tr>\n",
       "  </thead>\n",
       "  <tbody>\n",
       "    <tr>\n",
       "      <th>0</th>\n",
       "      <td>1</td>\n",
       "      <td>DAJ5UNMSF</td>\n",
       "      <td>F044</td>\n",
       "      <td># 44. Floors, walls and ceilings: properly bui...</td>\n",
       "      <td>OUT OF COMPLIANCE</td>\n",
       "    </tr>\n",
       "    <tr>\n",
       "      <th>1</th>\n",
       "      <td>4</td>\n",
       "      <td>DAT2HKIRE</td>\n",
       "      <td>F007</td>\n",
       "      <td># 07. Proper hot and cold holding temperatures</td>\n",
       "      <td>OUT OF COMPLIANCE</td>\n",
       "    </tr>\n",
       "    <tr>\n",
       "      <th>2</th>\n",
       "      <td>1</td>\n",
       "      <td>DAT2HKIRE</td>\n",
       "      <td>F033</td>\n",
       "      <td># 33. Nonfood-contact surfaces clean and in go...</td>\n",
       "      <td>OUT OF COMPLIANCE</td>\n",
       "    </tr>\n",
       "    <tr>\n",
       "      <th>3</th>\n",
       "      <td>1</td>\n",
       "      <td>DAT2HKIRE</td>\n",
       "      <td>F035</td>\n",
       "      <td># 35. Equipment/Utensils - approved; installed...</td>\n",
       "      <td>OUT OF COMPLIANCE</td>\n",
       "    </tr>\n",
       "    <tr>\n",
       "      <th>4</th>\n",
       "      <td>1</td>\n",
       "      <td>DAQN0I8EA</td>\n",
       "      <td>F033</td>\n",
       "      <td># 33. Nonfood-contact surfaces clean and in go...</td>\n",
       "      <td>OUT OF COMPLIANCE</td>\n",
       "    </tr>\n",
       "  </tbody>\n",
       "</table>\n",
       "</div>"
      ],
      "text/plain": [
       "   points serial_number violation_code  \\\n",
       "0       1     DAJ5UNMSF           F044   \n",
       "1       4     DAT2HKIRE           F007   \n",
       "2       1     DAT2HKIRE           F033   \n",
       "3       1     DAT2HKIRE           F035   \n",
       "4       1     DAQN0I8EA           F033   \n",
       "\n",
       "                               violation_description   violation_status  \n",
       "0  # 44. Floors, walls and ceilings: properly bui...  OUT OF COMPLIANCE  \n",
       "1     # 07. Proper hot and cold holding temperatures  OUT OF COMPLIANCE  \n",
       "2  # 33. Nonfood-contact surfaces clean and in go...  OUT OF COMPLIANCE  \n",
       "3  # 35. Equipment/Utensils - approved; installed...  OUT OF COMPLIANCE  \n",
       "4  # 33. Nonfood-contact surfaces clean and in go...  OUT OF COMPLIANCE  "
      ]
     },
     "execution_count": 3,
     "metadata": {},
     "output_type": "execute_result"
    }
   ],
   "source": [
    "violations.head()"
   ]
  },
  {
   "cell_type": "code",
   "execution_count": 4,
   "metadata": {},
   "outputs": [
    {
     "data": {
      "text/plain": [
       "(906014, 5)"
      ]
     },
     "execution_count": 4,
     "metadata": {},
     "output_type": "execute_result"
    }
   ],
   "source": [
    "violations.shape"
   ]
  },
  {
   "cell_type": "markdown",
   "metadata": {},
   "source": [
    "The Violations Data countains information about violations found in each inspection.  Most of the columns provide information about the violations (code, description, point value) and one column (serial number) identifies which inspection that specific listing of violation was found."
   ]
  },
  {
   "cell_type": "code",
   "execution_count": 75,
   "metadata": {},
   "outputs": [
    {
     "data": {
      "text/plain": [
       "1     686405\n",
       "2     162519\n",
       "4      44684\n",
       "0      10083\n",
       "3       1214\n",
       "11      1109\n",
       "Name: points, dtype: int64"
      ]
     },
     "execution_count": 75,
     "metadata": {},
     "output_type": "execute_result"
    }
   ],
   "source": [
    "violations.points.value_counts()"
   ]
  },
  {
   "cell_type": "code",
   "execution_count": 78,
   "metadata": {},
   "outputs": [
    {
     "data": {
      "image/png": "[encoded data removed]",
      "text/plain": [
       "<Figure size 720x360 with 1 Axes>"
      ]
     },
     "metadata": {},
     "output_type": "display_data"
    }
   ],
   "source": [
    "plt.figure(figsize=(10, 5))\n",
    "plt.title('Frequency of Violation Point Deductions')\n",
    "pd.value_counts(violations['points']).plot.bar()\n",
    "plt.xticks(rotation = 0)\n",
    "plt.show()"
   ]
  },
  {
   "cell_type": "code",
   "execution_count": 73,
   "metadata": {},
   "outputs": [
    {
     "data": {
      "text/plain": [
       "OUT OF COMPLIANCE    906013\n",
       "VIOLATION                 1\n",
       "Name: violation_status, dtype: int64"
      ]
     },
     "execution_count": 73,
     "metadata": {},
     "output_type": "execute_result"
    }
   ],
   "source": [
    "violations.violation_status.value_counts()"
   ]
  },
  {
   "cell_type": "code",
   "execution_count": 79,
   "metadata": {},
   "outputs": [
    {
     "data": {
      "image/png": "[encoded data removed]",
      "text/plain": [
       "<Figure size 720x360 with 1 Axes>"
      ]
     },
     "metadata": {},
     "output_type": "display_data"
    }
   ],
   "source": [
    "plt.figure(figsize=(10, 5))\n",
    "plt.title('Frequency of Violation Codes')\n",
    "pd.value_counts(violations['violation_code'])[:10].plot.bar()\n",
    "plt.xticks(rotation = 0)\n",
    "plt.show()"
   ]
  },
  {
   "cell_type": "code",
   "execution_count": 33,
   "metadata": {},
   "outputs": [
    {
     "data": {
      "text/plain": [
       "# 44. Floors, walls and ceilings: properly built, maintained in good repair and clean    102012\n",
       "# 33. Nonfood-contact surfaces clean and in good repair                                  100083\n",
       "# 35. Equipment/Utensils - approved; installed; clean; good repair, capacity              80020\n",
       "# 40. Plumbing: Plumbing in good repair, proper backflow devices                          50870\n",
       "# 36. Equipment, utensils and linens: storage and use                                     49744\n",
       "# 37. Adequate ventilation and lighting; designated areas, use                            48046\n",
       "# 43. Premises; personal/cleaning items; vermin-proofing                                  42949\n",
       "# 07. Proper hot and cold holding temperatures                                            41110\n",
       "# 30. Food properly stored; food storage containers identified                            39855\n",
       "# 39. Wiping cloths: properly used and stored                                             35849\n",
       "Name: violation_description, dtype: int64"
      ]
     },
     "execution_count": 33,
     "metadata": {},
     "output_type": "execute_result"
    }
   ],
   "source": [
    "#Identify 10 most frequent violations\n",
    "violations.violation_description.value_counts().nlargest(10)"
   ]
  },
  {
   "cell_type": "code",
   "execution_count": null,
   "metadata": {},
   "outputs": [],
   "source": []
  },
  {
   "cell_type": "markdown",
   "metadata": {},
   "source": [
    "## Inspections"
   ]
  },
  {
   "cell_type": "code",
   "execution_count": 9,
   "metadata": {},
   "outputs": [
    {
     "data": {
      "text/html": [
       "<div>\n",
       "<style scoped>\n",
       "    .dataframe tbody tr th:only-of-type {\n",
       "        vertical-align: middle;\n",
       "    }\n",
       "\n",
       "    .dataframe tbody tr th {\n",
       "        vertical-align: top;\n",
       "    }\n",
       "\n",
       "    .dataframe thead th {\n",
       "        text-align: right;\n",
       "    }\n",
       "</style>\n",
       "<table border=\"1\" class=\"dataframe\">\n",
       "  <thead>\n",
       "    <tr style=\"text-align: right;\">\n",
       "      <th></th>\n",
       "      <th>activity_date</th>\n",
       "      <th>employee_id</th>\n",
       "      <th>facility_address</th>\n",
       "      <th>facility_city</th>\n",
       "      <th>facility_id</th>\n",
       "      <th>facility_name</th>\n",
       "      <th>facility_state</th>\n",
       "      <th>facility_zip</th>\n",
       "      <th>grade</th>\n",
       "      <th>owner_id</th>\n",
       "      <th>owner_name</th>\n",
       "      <th>pe_description</th>\n",
       "      <th>program_element_pe</th>\n",
       "      <th>program_name</th>\n",
       "      <th>program_status</th>\n",
       "      <th>record_id</th>\n",
       "      <th>score</th>\n",
       "      <th>serial_number</th>\n",
       "      <th>service_code</th>\n",
       "      <th>service_description</th>\n",
       "    </tr>\n",
       "  </thead>\n",
       "  <tbody>\n",
       "    <tr>\n",
       "      <th>0</th>\n",
       "      <td>2017-05-09</td>\n",
       "      <td>EE0000593</td>\n",
       "      <td>17660 CHATSWORTH ST</td>\n",
       "      <td>GRANADA HILLS</td>\n",
       "      <td>FA0175397</td>\n",
       "      <td>HOVIK'S FAMOUS MEAT &amp; DELI</td>\n",
       "      <td>CA</td>\n",
       "      <td>91344</td>\n",
       "      <td>A</td>\n",
       "      <td>OW0181955</td>\n",
       "      <td>JOHN'S FAMOUS MEAT &amp; DELI INC.</td>\n",
       "      <td>FOOD MKT RETAIL (25-1,999 SF) HIGH RISK</td>\n",
       "      <td>1612</td>\n",
       "      <td>HOVIK'S FAMOUS MEAT &amp; DELI</td>\n",
       "      <td>ACTIVE</td>\n",
       "      <td>PR0168541</td>\n",
       "      <td>98</td>\n",
       "      <td>DAHDRUQZO</td>\n",
       "      <td>1</td>\n",
       "      <td>ROUTINE INSPECTION</td>\n",
       "    </tr>\n",
       "    <tr>\n",
       "      <th>1</th>\n",
       "      <td>2017-04-10</td>\n",
       "      <td>EE0000126</td>\n",
       "      <td>3615 PACIFIC COAST HWY</td>\n",
       "      <td>TORRANCE</td>\n",
       "      <td>FA0242138</td>\n",
       "      <td>SHAKEY'S PIZZA</td>\n",
       "      <td>CA</td>\n",
       "      <td>90505</td>\n",
       "      <td>A</td>\n",
       "      <td>OW0237843</td>\n",
       "      <td>SCO, LLC</td>\n",
       "      <td>RESTAURANT (61-150) SEATS HIGH RISK</td>\n",
       "      <td>1638</td>\n",
       "      <td>SHAKEY'S PIZZA</td>\n",
       "      <td>ACTIVE</td>\n",
       "      <td>PR0190290</td>\n",
       "      <td>94</td>\n",
       "      <td>DAL3SBUE0</td>\n",
       "      <td>1</td>\n",
       "      <td>ROUTINE INSPECTION</td>\n",
       "    </tr>\n",
       "    <tr>\n",
       "      <th>2</th>\n",
       "      <td>2017-04-04</td>\n",
       "      <td>EE0000593</td>\n",
       "      <td>17515 CHATSWORTH ST</td>\n",
       "      <td>GRANADA HILLS</td>\n",
       "      <td>FA0007801</td>\n",
       "      <td>BAITH AL HALAL</td>\n",
       "      <td>CA</td>\n",
       "      <td>91344</td>\n",
       "      <td>A</td>\n",
       "      <td>OW0031150</td>\n",
       "      <td>SABIR MOHAMMAD SHAHID</td>\n",
       "      <td>FOOD MKT RETAIL (25-1,999 SF) HIGH RISK</td>\n",
       "      <td>1612</td>\n",
       "      <td>BAITH AL HALAL</td>\n",
       "      <td>INACTIVE</td>\n",
       "      <td>PR0036723</td>\n",
       "      <td>95</td>\n",
       "      <td>DAL2PIKJU</td>\n",
       "      <td>1</td>\n",
       "      <td>ROUTINE INSPECTION</td>\n",
       "    </tr>\n",
       "    <tr>\n",
       "      <th>3</th>\n",
       "      <td>2017-08-15</td>\n",
       "      <td>EE0000971</td>\n",
       "      <td>44455 VALLEY CENTRAL WAY</td>\n",
       "      <td>LANCASTER</td>\n",
       "      <td>FA0013858</td>\n",
       "      <td>FOOD 4 LESS #306</td>\n",
       "      <td>CA</td>\n",
       "      <td>93536</td>\n",
       "      <td>A</td>\n",
       "      <td>OW0012108</td>\n",
       "      <td>FOOD 4 LESS, INC.</td>\n",
       "      <td>RESTAURANT (0-30) SEATS HIGH RISK</td>\n",
       "      <td>1632</td>\n",
       "      <td>FOOD 4 LESS DELI/BAKERY#306</td>\n",
       "      <td>ACTIVE</td>\n",
       "      <td>PR0039905</td>\n",
       "      <td>98</td>\n",
       "      <td>DA0ZMAJXZ</td>\n",
       "      <td>1</td>\n",
       "      <td>ROUTINE INSPECTION</td>\n",
       "    </tr>\n",
       "    <tr>\n",
       "      <th>4</th>\n",
       "      <td>2016-09-26</td>\n",
       "      <td>EE0000145</td>\n",
       "      <td>11700 SOUTH ST</td>\n",
       "      <td>ARTESIA</td>\n",
       "      <td>FA0179671</td>\n",
       "      <td>PHO LITTLE SAIGON</td>\n",
       "      <td>CA</td>\n",
       "      <td>90701</td>\n",
       "      <td>A</td>\n",
       "      <td>OW0185167</td>\n",
       "      <td>PHO SOUTH ST INC</td>\n",
       "      <td>RESTAURANT (61-150) SEATS HIGH RISK</td>\n",
       "      <td>1638</td>\n",
       "      <td>PHO LITTLE SAIGON</td>\n",
       "      <td>ACTIVE</td>\n",
       "      <td>PR0173311</td>\n",
       "      <td>96</td>\n",
       "      <td>DA41DBXA2</td>\n",
       "      <td>1</td>\n",
       "      <td>ROUTINE INSPECTION</td>\n",
       "    </tr>\n",
       "  </tbody>\n",
       "</table>\n",
       "</div>"
      ],
      "text/plain": [
       "  activity_date employee_id          facility_address  facility_city  \\\n",
       "0    2017-05-09   EE0000593       17660 CHATSWORTH ST  GRANADA HILLS   \n",
       "1    2017-04-10   EE0000126    3615 PACIFIC COAST HWY       TORRANCE   \n",
       "2    2017-04-04   EE0000593       17515 CHATSWORTH ST  GRANADA HILLS   \n",
       "3    2017-08-15   EE0000971  44455 VALLEY CENTRAL WAY      LANCASTER   \n",
       "4    2016-09-26   EE0000145            11700 SOUTH ST        ARTESIA   \n",
       "\n",
       "  facility_id               facility_name facility_state facility_zip grade  \\\n",
       "0   FA0175397  HOVIK'S FAMOUS MEAT & DELI             CA        91344     A   \n",
       "1   FA0242138              SHAKEY'S PIZZA             CA        90505     A   \n",
       "2   FA0007801              BAITH AL HALAL             CA        91344     A   \n",
       "3   FA0013858            FOOD 4 LESS #306             CA        93536     A   \n",
       "4   FA0179671           PHO LITTLE SAIGON             CA        90701     A   \n",
       "\n",
       "    owner_id                      owner_name  \\\n",
       "0  OW0181955  JOHN'S FAMOUS MEAT & DELI INC.   \n",
       "1  OW0237843                        SCO, LLC   \n",
       "2  OW0031150           SABIR MOHAMMAD SHAHID   \n",
       "3  OW0012108               FOOD 4 LESS, INC.   \n",
       "4  OW0185167                PHO SOUTH ST INC   \n",
       "\n",
       "                            pe_description  program_element_pe  \\\n",
       "0  FOOD MKT RETAIL (25-1,999 SF) HIGH RISK                1612   \n",
       "1      RESTAURANT (61-150) SEATS HIGH RISK                1638   \n",
       "2  FOOD MKT RETAIL (25-1,999 SF) HIGH RISK                1612   \n",
       "3        RESTAURANT (0-30) SEATS HIGH RISK                1632   \n",
       "4      RESTAURANT (61-150) SEATS HIGH RISK                1638   \n",
       "\n",
       "                  program_name program_status  record_id  score serial_number  \\\n",
       "0   HOVIK'S FAMOUS MEAT & DELI         ACTIVE  PR0168541     98     DAHDRUQZO   \n",
       "1               SHAKEY'S PIZZA         ACTIVE  PR0190290     94     DAL3SBUE0   \n",
       "2               BAITH AL HALAL       INACTIVE  PR0036723     95     DAL2PIKJU   \n",
       "3  FOOD 4 LESS DELI/BAKERY#306         ACTIVE  PR0039905     98     DA0ZMAJXZ   \n",
       "4            PHO LITTLE SAIGON         ACTIVE  PR0173311     96     DA41DBXA2   \n",
       "\n",
       "   service_code service_description  \n",
       "0             1  ROUTINE INSPECTION  \n",
       "1             1  ROUTINE INSPECTION  \n",
       "2             1  ROUTINE INSPECTION  \n",
       "3             1  ROUTINE INSPECTION  \n",
       "4             1  ROUTINE INSPECTION  "
      ]
     },
     "execution_count": 9,
     "metadata": {},
     "output_type": "execute_result"
    }
   ],
   "source": [
    "inspections.head()"
   ]
  },
  {
   "cell_type": "code",
   "execution_count": 10,
   "metadata": {},
   "outputs": [
    {
     "data": {
      "text/plain": [
       "(191371, 20)"
      ]
     },
     "execution_count": 10,
     "metadata": {},
     "output_type": "execute_result"
    }
   ],
   "source": [
    "inspections.shape"
   ]
  },
  {
   "cell_type": "code",
   "execution_count": 8,
   "metadata": {},
   "outputs": [
    {
     "data": {
      "text/html": [
       "<div>\n",
       "<style scoped>\n",
       "    .dataframe tbody tr th:only-of-type {\n",
       "        vertical-align: middle;\n",
       "    }\n",
       "\n",
       "    .dataframe tbody tr th {\n",
       "        vertical-align: top;\n",
       "    }\n",
       "\n",
       "    .dataframe thead th {\n",
       "        text-align: right;\n",
       "    }\n",
       "</style>\n",
       "<table border=\"1\" class=\"dataframe\">\n",
       "  <thead>\n",
       "    <tr style=\"text-align: right;\">\n",
       "      <th></th>\n",
       "      <th>program_element_pe</th>\n",
       "      <th>score</th>\n",
       "      <th>service_code</th>\n",
       "    </tr>\n",
       "  </thead>\n",
       "  <tbody>\n",
       "    <tr>\n",
       "      <th>count</th>\n",
       "      <td>191371.000000</td>\n",
       "      <td>191371.000000</td>\n",
       "      <td>191371.000000</td>\n",
       "    </tr>\n",
       "    <tr>\n",
       "      <th>mean</th>\n",
       "      <td>1629.888980</td>\n",
       "      <td>93.753306</td>\n",
       "      <td>7.078246</td>\n",
       "    </tr>\n",
       "    <tr>\n",
       "      <th>std</th>\n",
       "      <td>9.391426</td>\n",
       "      <td>3.845518</td>\n",
       "      <td>48.932257</td>\n",
       "    </tr>\n",
       "    <tr>\n",
       "      <th>min</th>\n",
       "      <td>1610.000000</td>\n",
       "      <td>54.000000</td>\n",
       "      <td>1.000000</td>\n",
       "    </tr>\n",
       "    <tr>\n",
       "      <th>25%</th>\n",
       "      <td>1631.000000</td>\n",
       "      <td>91.000000</td>\n",
       "      <td>1.000000</td>\n",
       "    </tr>\n",
       "    <tr>\n",
       "      <th>50%</th>\n",
       "      <td>1632.000000</td>\n",
       "      <td>94.000000</td>\n",
       "      <td>1.000000</td>\n",
       "    </tr>\n",
       "    <tr>\n",
       "      <th>75%</th>\n",
       "      <td>1635.000000</td>\n",
       "      <td>97.000000</td>\n",
       "      <td>1.000000</td>\n",
       "    </tr>\n",
       "    <tr>\n",
       "      <th>max</th>\n",
       "      <td>1641.000000</td>\n",
       "      <td>100.000000</td>\n",
       "      <td>401.000000</td>\n",
       "    </tr>\n",
       "  </tbody>\n",
       "</table>\n",
       "</div>"
      ],
      "text/plain": [
       "       program_element_pe          score   service_code\n",
       "count       191371.000000  191371.000000  191371.000000\n",
       "mean          1629.888980      93.753306       7.078246\n",
       "std              9.391426       3.845518      48.932257\n",
       "min           1610.000000      54.000000       1.000000\n",
       "25%           1631.000000      91.000000       1.000000\n",
       "50%           1632.000000      94.000000       1.000000\n",
       "75%           1635.000000      97.000000       1.000000\n",
       "max           1641.000000     100.000000     401.000000"
      ]
     },
     "execution_count": 8,
     "metadata": {},
     "output_type": "execute_result"
    }
   ],
   "source": [
    "inspections.describe()"
   ]
  },
  {
   "cell_type": "markdown",
   "metadata": {},
   "source": [
    "### Location"
   ]
  },
  {
   "cell_type": "markdown",
   "metadata": {},
   "source": [
    "Several columns identify the location of the business: facility address, facility city, facility id, facility name, facility state, facility zip.  Here we will look at the city."
   ]
  },
  {
   "cell_type": "code",
   "execution_count": 39,
   "metadata": {},
   "outputs": [
    {
     "data": {
      "image/png": "[encoded data removed]",
      "text/plain": [
       "<Figure size 720x360 with 1 Axes>"
      ]
     },
     "metadata": {},
     "output_type": "display_data"
    }
   ],
   "source": [
    "plt.figure(figsize=(10, 5))\n",
    "plt.title('Frequency of Inspections by City')\n",
    "pd.value_counts(inspections['facility_city'])[:10].plot.bar()\n",
    "plt.xticks(rotation = 45)\n",
    "plt.show()"
   ]
  },
  {
   "cell_type": "code",
   "execution_count": 34,
   "metadata": {},
   "outputs": [
    {
     "data": {
      "text/plain": [
       "LOS ANGELES        53669\n",
       "GLENDALE            4405\n",
       "TORRANCE            4130\n",
       "BURBANK             3626\n",
       "SANTA MONICA        3601\n",
       "NORTH HOLLYWOOD     3281\n",
       "VAN NUYS            3083\n",
       "WHITTIER            2751\n",
       "POMONA              2655\n",
       "LANCASTER           2371\n",
       "Name: facility_city, dtype: int64"
      ]
     },
     "execution_count": 34,
     "metadata": {},
     "output_type": "execute_result"
    }
   ],
   "source": [
    "inspections['facility_city'].value_counts().nlargest(10)"
   ]
  },
  {
   "cell_type": "markdown",
   "metadata": {},
   "source": [
    "Wikipedia lists that as of 2017, about 4 million of the roughly 10 million inhabitants of LA County live in the city of Los Angeles.  This makes it no surprise that so many facilities inspected are located in the city of Los Angeles with 53669 out of 191371, or 28% found there."
   ]
  },
  {
   "cell_type": "markdown",
   "metadata": {},
   "source": [
    "### Business Type"
   ]
  },
  {
   "cell_type": "code",
   "execution_count": 63,
   "metadata": {},
   "outputs": [
    {
     "data": {
      "text/plain": [
       "RESTAURANT (0-30) SEATS HIGH RISK         38881\n",
       "RESTAURANT (31-60) SEATS HIGH RISK        31382\n",
       "RESTAURANT (0-30) SEATS MODERATE RISK     30157\n",
       "RESTAURANT (61-150) SEATS HIGH RISK       25166\n",
       "FOOD MKT RETAIL (25-1,999 SF) LOW RISK    15872\n",
       "Name: pe_description, dtype: int64"
      ]
     },
     "execution_count": 63,
     "metadata": {},
     "output_type": "execute_result"
    }
   ],
   "source": [
    "inspections['pe_description'].value_counts().nlargest(5)"
   ]
  },
  {
   "cell_type": "markdown",
   "metadata": {},
   "source": [
    "Business are defined as Restaurant or Retal, then by number of seats of Restaurants and Square Footage for Retail, and finally by risk - High, Moderate or Low."
   ]
  },
  {
   "cell_type": "code",
   "execution_count": 54,
   "metadata": {},
   "outputs": [],
   "source": [
    "#aggregate descriptions to new business type column\n",
    "inspections['type'] = 'other'\n",
    "inspections.loc[inspections['pe_description'].str.contains(\"RESTAURANT\", na=False), 'type'] = 'restaurant'\n",
    "inspections.loc[inspections['pe_description'].str.contains(\"RETAIL\", na=False), 'type'] = 'retail'\n",
    "\n",
    "#aggregate descriptions to new business size column\n",
    "inspections['size'] = 'other'\n",
    "inspections.loc[inspections['pe_description'].str.contains(\"0-30\", na=False), 'size'] = 'small'\n",
    "inspections.loc[inspections['pe_description'].str.contains(\"31-60\", na=False), 'size'] = 'medium'\n",
    "inspections.loc[inspections['pe_description'].str.contains(\"61-150\", na=False), 'size'] = 'large'\n",
    "inspections.loc[inspections['pe_description'].str.contains(\"151+\", na=False), 'size'] = 'extra-large'\n",
    "inspections.loc[inspections['pe_description'].str.contains(\"25-1,999\", na=False), 'size'] = 'medium'\n",
    "inspections.loc[inspections['pe_description'].str.contains(\"2,000+\", na=False), 'size'] = 'large'\n",
    "\n",
    "#aggregate descriptions to new business risk column\n",
    "inspections['risk'] = 'other'\n",
    "inspections.loc[inspections['pe_description'].str.contains(\"LOW\", na=False), 'risk'] = 'low risk'\n",
    "inspections.loc[inspections['pe_description'].str.contains(\"MODERATE\", na=False), 'risk'] = 'moderate risk'\n",
    "inspections.loc[inspections['pe_description'].str.contains(\"HIGH\", na=False), 'risk'] = 'high risk'"
   ]
  },
  {
   "cell_type": "code",
   "execution_count": 59,
   "metadata": {},
   "outputs": [
    {
     "data": {
      "image/png": "[encoded data removed]",
      "text/plain": [
       "<Figure size 1440x360 with 3 Axes>"
      ]
     },
     "metadata": {},
     "output_type": "display_data"
    }
   ],
   "source": [
    "plt.figure(figsize=(20, 5))\n",
    "\n",
    "plt.subplot(1, 3, 1)\n",
    "plt.title('Frequency of Inspections by Business Type')\n",
    "pd.value_counts(inspections['type']).plot.bar()\n",
    "plt.xticks(rotation = 45)\n",
    "\n",
    "plt.subplot(1, 3, 2)\n",
    "plt.title('Frequency of Inspections by Business Size')\n",
    "pd.value_counts(inspections['size']).plot.bar()\n",
    "plt.xticks(rotation = 45)\n",
    "\n",
    "plt.subplot(1, 3, 3)\n",
    "plt.title('Frequency of Inspections by Risk Rating')\n",
    "pd.value_counts(inspections['risk']).plot.bar()\n",
    "plt.xticks(rotation = 45)\n",
    "\n",
    "plt.show()"
   ]
  },
  {
   "cell_type": "code",
   "execution_count": 60,
   "metadata": {},
   "outputs": [
    {
     "data": {
      "text/plain": [
       "<matplotlib.axes._subplots.AxesSubplot at 0x1157a23c8>"
      ]
     },
     "execution_count": 60,
     "metadata": {},
     "output_type": "execute_result"
    },
    {
     "data": {
      "image/png": "[encoded data removed]",
      "text/plain": [
       "<Figure size 432x288 with 1 Axes>"
      ]
     },
     "metadata": {},
     "output_type": "display_data"
    }
   ],
   "source": [
    "sns.countplot(x=\"risk\", hue=\"type\", data=inspections)"
   ]
  },
  {
   "cell_type": "markdown",
   "metadata": {},
   "source": [
    "More inspections are conducted on Restaurants and business rated High Risk, so it is not surprising that Restaurants are most likely to be rated as High Risk."
   ]
  },
  {
   "cell_type": "markdown",
   "metadata": {},
   "source": [
    "### Type of Inspection"
   ]
  },
  {
   "cell_type": "code",
   "execution_count": 64,
   "metadata": {},
   "outputs": [
    {
     "data": {
      "text/plain": [
       "ROUTINE INSPECTION                  188463\n",
       "OWNER INITIATED ROUTINE INSPECT.      2908\n",
       "Name: service_description, dtype: int64"
      ]
     },
     "execution_count": 64,
     "metadata": {},
     "output_type": "execute_result"
    }
   ],
   "source": [
    "inspections['service_description'].value_counts()"
   ]
  },
  {
   "cell_type": "code",
   "execution_count": 66,
   "metadata": {},
   "outputs": [],
   "source": [
    "#clean up service description values\n",
    "inspections['type'] = 'other'\n",
    "inspections.loc[inspections['service_description'].str.contains(\"INSPECTION\", na=False), 'service_description'] = 'routine inspection'\n",
    "inspections.loc[inspections['service_description'].str.contains(\"OWNER\", na=False), 'service_description'] = 'owner initiated'"
   ]
  },
  {
   "cell_type": "code",
   "execution_count": 72,
   "metadata": {},
   "outputs": [
    {
     "data": {
      "text/plain": [
       "(array([0, 1]), <a list of 2 Text xticklabel objects>)"
      ]
     },
     "execution_count": 72,
     "metadata": {},
     "output_type": "execute_result"
    },
    {
     "data": {
      "image/png": "[encoded data removed]",
      "text/plain": [
       "<Figure size 432x288 with 1 Axes>"
      ]
     },
     "metadata": {},
     "output_type": "display_data"
    }
   ],
   "source": [
    "plt.title('Frequency of Inspections by Type')\n",
    "pd.value_counts(inspections['service_description']).plot.bar()\n",
    "plt.xticks(rotation = 0)"
   ]
  },
  {
   "cell_type": "markdown",
   "metadata": {},
   "source": [
    "Most inspection are routine.  A comparatively small number are initiated by the owner of the business."
   ]
  },
  {
   "cell_type": "code",
   "execution_count": null,
   "metadata": {},
   "outputs": [],
   "source": []
  },
  {
   "cell_type": "code",
   "execution_count": null,
   "metadata": {},
   "outputs": [],
   "source": [
    "#method to add violations to inspections\n",
    "def AddViolations(val):\n",
    "    \n",
    "\n",
    "inspections[]    "
   ]
  },
  {
   "cell_type": "code",
   "execution_count": null,
   "metadata": {},
   "outputs": [],
   "source": []
  },
  {
   "cell_type": "code",
   "execution_count": null,
   "metadata": {},
   "outputs": [],
   "source": []
  },
  {
   "cell_type": "code",
   "execution_count": null,
   "metadata": {},
   "outputs": [],
   "source": []
  },
  {
   "cell_type": "code",
   "execution_count": null,
   "metadata": {},
   "outputs": [],
   "source": []
  },
  {
   "cell_type": "code",
   "execution_count": null,
   "metadata": {},
   "outputs": [],
   "source": []
  },
  {
   "cell_type": "code",
   "execution_count": null,
   "metadata": {},
   "outputs": [],
   "source": []
  },
  {
   "cell_type": "code",
   "execution_count": 13,
   "metadata": {},
   "outputs": [],
   "source": [
    "data = inspections.join(violations.set_index('serial_number'), on='serial_number')"
   ]
  },
  {
   "cell_type": "code",
   "execution_count": 14,
   "metadata": {},
   "outputs": [
    {
     "data": {
      "text/plain": [
       "F044    101243\n",
       "F033     99451\n",
       "F035     79043\n",
       "F040     50491\n",
       "F036     49464\n",
       "F037     47723\n",
       "F043     42676\n",
       "F007     40416\n",
       "F030     39668\n",
       "F039     35667\n",
       "F014     34196\n",
       "F006     33783\n",
       "F023     29273\n",
       "F034     19098\n",
       "F052     18152\n",
       "F029     17930\n",
       "F027     17719\n",
       "F042     16068\n",
       "F046     15668\n",
       "F025     11829\n",
       "F038     10987\n",
       "F009      7885\n",
       "F026      7734\n",
       "F001      6825\n",
       "F021      6638\n",
       "F032      6526\n",
       "F049      5791\n",
       "F048      5180\n",
       "F005      5104\n",
       "F013      4948\n",
       "         ...  \n",
       "W050         5\n",
       "W019         4\n",
       "W031         2\n",
       "W011         2\n",
       "W004         2\n",
       "W001         2\n",
       "W020         2\n",
       "W003         2\n",
       "W017         2\n",
       "W021         2\n",
       "W006         1\n",
       "W028         1\n",
       "W047         1\n",
       "W016         1\n",
       "W035         1\n",
       "W032         1\n",
       "W014         1\n",
       "W048         1\n",
       "SF15         1\n",
       "W026         1\n",
       "W044         1\n",
       "W033         1\n",
       "W053         1\n",
       "W039         1\n",
       "W029         1\n",
       "W041         1\n",
       "W040         1\n",
       "W027         1\n",
       "W024         1\n",
       "W034         1\n",
       "Name: violation_code, Length: 91, dtype: int64"
      ]
     },
     "execution_count": 14,
     "metadata": {},
     "output_type": "execute_result"
    }
   ],
   "source": [
    "data.violation_code.value_counts()"
   ]
  },
  {
   "cell_type": "code",
   "execution_count": null,
   "metadata": {},
   "outputs": [],
   "source": []
  }
 ],
 "metadata": {
  "kernelspec": {
   "display_name": "Python 3",
   "language": "python",
   "name": "python3"
  },
  "language_info": {
   "codemirror_mode": {
    "name": "ipython",
    "version": 3
   },
   "file_extension": ".py",
   "mimetype": "text/x-python",
   "name": "python",
   "nbconvert_exporter": "python",
   "pygments_lexer": "ipython3",
   "version": "3.6.1"
  }
 },
 "nbformat": 4,
 "nbformat_minor": 2
}
