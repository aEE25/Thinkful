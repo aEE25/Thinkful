{
 "cells": [
  {
   "cell_type": "markdown",
   "metadata": {},
   "source": [
    "### One\n",
    "You work at an e-commerce company that sells three goods: widgets, doodads, and fizzbangs. The head of advertising asks you which they should feature in their new advertising campaign. You have data on individual visitors' sessions (activity on a website, pageviews, and purchases), as well as whether or not those users converted from an advertisement for that session. You also have the cost and price information for the goods."
   ]
  },
  {
   "cell_type": "markdown",
   "metadata": {},
   "source": [
    "Dataset: good, cost, price, profit (price less cost), number of views, amount purchased\n",
    "Distribution of Views by product?\n",
    "Distribution of purchases by product?\n",
    "The product with the most page views would likely be best to feature as it shows the most interest and would more likely result in converting to the website, but accounting for units purchased might also be in play (depending on what the data shows).\n",
    "It would also be helpful to have data on past ad campaigns - number of users converted from ads by product featured in ad (which product was most successful when featured in an ad?)"
   ]
  },
  {
   "cell_type": "markdown",
   "metadata": {},
   "source": [
    "### Two\n",
    "You work at a web design company that offers to build websites for clients. Signups have slowed, and you are tasked with finding out why. The onboarding funnel has three steps: email and password signup, plan choice, and payment. On a user level you have information on what steps they have completed as well as timestamps for all of those events for the past 3 years. You also have information on marketing spend on a weekly level."
   ]
  },
  {
   "cell_type": "markdown",
   "metadata": {},
   "source": [
    "Dataset: client, step 1 timestamp, step 2 timestamp, step 3 timestamp\n",
    "compare time from step 1 to step 2.  Determine if there is any correlation in time from step 1 to step 2 and whether step 3 is completed.  Perhaps stepping up outreach after step 1 or after step 2 will increase clients\n",
    "compare how many potential clients reach step 2 over time. \n",
    "    Are more clients giving up before selecting a plan? - this might indicate that the plans need improvement.  \n",
    "    Are more clients giving up after selecting a plan? - this might indicate that the pricing needs improvement.\n",
    "compare weekly marketing spend with weekly signup and see if there is a correlation.  Perhaps a new marketing strategy is needed.\n"
   ]
  },
  {
   "cell_type": "markdown",
   "metadata": {},
   "source": [
    "### Three \n",
    "You work at a hotel website and currently the website ranks search results by price. For simplicity's sake, let's say it's a website for one city with 100 hotels. You are tasked with proposing a better ranking system. You have session information, price information for the hotels, and whether each hotel is currently available."
   ]
  },
  {
   "cell_type": "markdown",
   "metadata": {},
   "source": [
    "what search criteria are currently available? (date?)\n",
    "search criteria compared to hotel booked - what other factors influence purchase? (star rating, reviews, amenities?)\n",
    "Distribution of these factors?"
   ]
  },
  {
   "cell_type": "markdown",
   "metadata": {},
   "source": [
    "### Four\n",
    "You work at a social network, and the management is worried about churn (users stopping using the product). You are tasked with finding out if their churn is atypical. You have three years of data for users with an entry for every time they've logged in, including the timestamp and length of session."
   ]
  },
  {
   "cell_type": "markdown",
   "metadata": {},
   "source": [
    "dataset: user, sessions timestamp, length of session\n",
    "Distribution of session length?\n",
    "Distribution of visit frequency by user (by day/week)?\n",
    "Compare frequency of logins over time by user\n",
    "Compare length of session over time by user\n",
    "Compare mean length of session by user over time\n",
    "Compare mean daily/weekly logins for users"
   ]
  }
 ],
 "metadata": {
  "kernelspec": {
   "display_name": "Python 3",
   "language": "python",
   "name": "python3"
  },
  "language_info": {
   "codemirror_mode": {
    "name": "ipython",
    "version": 3
   },
   "file_extension": ".py",
   "mimetype": "text/x-python",
   "name": "python",
   "nbconvert_exporter": "python",
   "pygments_lexer": "ipython3",
   "version": "3.6.1"
  }
 },
 "nbformat": 4,
 "nbformat_minor": 2
}
